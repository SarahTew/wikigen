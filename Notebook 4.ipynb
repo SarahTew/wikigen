{
 "cells": [
  {
   "cell_type": "markdown",
   "id": "dfda3b27",
   "metadata": {},
   "source": [
    "# Abstract\n",
    "\n",
    "Final project for Electronic Publishing and Digital Storytelling in fullfillment of an LM in Digital Humanities and Digital Knowledge from the University of Bologna.\n",
    "\n",
    "## Project Aims\n",
    "Wikidata is one of the largest free and open knowledge databases in the world. \n",
    "Launched in 2012, it now contains over 97 million items, over six million of them people.\n",
    "\n",
    "This project investigates how Wikidata describes art historians and how those descriptions differ across gender.\n",
    "This project serves as a case study in how our descriptions of history create history."
   ]
  },
  {
   "cell_type": "markdown",
   "id": "39a0b3f0",
   "metadata": {},
   "source": [
    "### Phase 1: Overview\n",
    "We first wanted to get an wide view of Wikidata's data on art historians.\n",
    "To do this we first queried art historians grouped by gender."
   ]
  },
  {
   "cell_type": "code",
   "execution_count": 36,
   "id": "c7b9444a",
   "metadata": {},
   "outputs": [],
   "source": [
    "#insert Denise's initial query that breaks down those with art historian/sub groups into genders\n",
    "from SPARQLWrapper import SPARQLWrapper, JSON, GET, POST, CSV\n",
    "import csv \n",
    "import pandas as pd\n",
    "import requests\n",
    "import json\n",
    "import ssl\n",
    "import numpy as np\n",
    "import pandas as pd\n",
    "import string\n",
    "import networkx as nx\n",
    "import matplotlib.pyplot as plt\n",
    "import ssl\n",
    "\n",
    "ssl._create_default_https_context = ssl._create_unverified_context\n",
    "\n",
    "# get the endpoint API\n",
    "wikidata_endpoint = \"https://query.wikidata.org/bigdata/namespace/wdq/sparql\"\n",
    "\n",
    "\n",
    "General_Query = \"\"\"SELECT (count(distinct ?human) as ?tot)\n",
    "WHERE\n",
    "{SERVICE wikibase:label {\n",
    "     bd:serviceParam wikibase:language \"en\" .\n",
    "   }\n",
    "  ?human wdt:P31 wd:Q5\n",
    "  ; wdt:P106/wdt:P279* wd:Q1792450 .\n",
    "}\n",
    "GROUP BY ?number\n",
    "\"\"\"\n",
    "\n",
    "# set the endpoint \n",
    "sparql_wd = SPARQLWrapper(wikidata_endpoint)\n",
    "# set the query\n",
    "sparql_wd.setQuery(General_Query)\n",
    "# set the returned format\n",
    "sparql_wd.setReturnFormat(JSON)\n",
    "# get the results\n",
    "results = sparql_wd.query().convert()\n",
    "\n",
    "for result in results[\"results\"][\"bindings\"]:\n",
    "    total = result[\"tot\"][\"value\"]\n",
    "    NotDAH = (int(total))\n",
    "\n",
    "# get the endpoint API\n",
    "wikidata_endpoint = \"https://query.wikidata.org/bigdata/namespace/wdq/sparql\"\n",
    "\n",
    "Gender_Query = \"\"\"\n",
    "SELECT ?genderLabel (count(distinct ?human) as ?number)\n",
    "WHERE\n",
    "{SERVICE wikibase:label {\n",
    "     bd:serviceParam wikibase:language \"en\" .\n",
    "   }\n",
    "  ?human wdt:P31 wd:Q5\n",
    "  ; wdt:P21 ?gender\n",
    "  ; wdt:P106/wdt:P279* wd:Q1792450 .\n",
    "}\n",
    "GROUP BY ?genderLabel\n",
    "\"\"\"\n",
    "\n",
    "# set the endpoint \n",
    "sparql_wd = SPARQLWrapper(wikidata_endpoint)\n",
    "# set the query\n",
    "sparql_wd.setQuery(Gender_Query)\n",
    "# set the returned format\n",
    "sparql_wd.setReturnFormat(JSON)\n",
    "# get the results\n",
    "gender_results = sparql_wd.query().convert()\n",
    "\n",
    "\n",
    "#manipulate the result\n",
    "for result in gender_results[\"results\"][\"bindings\"]:\n",
    "    gender = result[\"genderLabel\"][\"value\"]\n",
    "    total_gender = result[\"number\"][\"value\"]\n",
    "\n"
   ]
  },
  {
   "cell_type": "markdown",
   "id": "3894c9b3",
   "metadata": {},
   "source": [
    "Manipulation of Data"
   ]
  },
  {
   "cell_type": "code",
   "execution_count": 37,
   "id": "50759789",
   "metadata": {},
   "outputs": [
    {
     "name": "stdout",
     "output_type": "stream",
     "text": [
      "On Wikidata there are 17752 art historians.\n",
      "11761 are male.That is the 66.25% of the total.\n",
      "5881 are female.That is the 33.13% of the total.\n",
      "2 are non-binary.That is the 0.01% of the total.\n",
      "108 are not defined by any gender.That is the 0.61% of the total.\n"
     ]
    }
   ],
   "source": [
    "#Trasform Values into int\n",
    "men = int(gender_results[\"results\"][\"bindings\"][0]['number']['value'])\n",
    "women = int(gender_results[\"results\"][\"bindings\"][1]['number']['value'])\n",
    "nb = int(gender_results[\"results\"][\"bindings\"][2]['number']['value'])\n",
    "\n",
    "#Operations to find the percentage\n",
    "Tot_gender = men + women + nb\n",
    "Non_def = NotDAH - Tot_gender\n",
    "pm = (men/NotDAH)*100\n",
    "pf = (women/NotDAH)*100\n",
    "pnb = (nb/NotDAH)*100\n",
    "pnd = (Non_def/NotDAH)*100\n",
    "\n",
    "#Trasform everything into a string again\n",
    "string1 =str(NotDAH)\n",
    "string2 =str(Non_def)\n",
    "man1 = str(men)\n",
    "fam1 = str(women)\n",
    "nb1 = str(nb)\n",
    "man2=str(round(pm,2))\n",
    "fam2=str(round(pf,2))\n",
    "nb2=str(round(pnb,2))\n",
    "nd1=str(round(pnd,2))\n",
    "\n",
    "#results\n",
    "print (\"On Wikidata there are\" + \" \" + string1 + \" \" + \"art historians.\")\n",
    "print (man1 + \" \" + \"are\" + \" \"+ \"male.\" + \"That is the\" + \" \" + man2 + \"%\" + \" \" + \"of the total.\")\n",
    "print (fam1 + \" \" + \"are\" + \" \"+ \"female.\" \"That is the\" + \" \" + fam2 + \"%\" + \" \" + \"of the total.\")\n",
    "print (nb1 + \" \" + \"are\" + \" \"+ \"non-binary.\" + \"That is the\" + \" \" + nb2 + \"%\" + \" \" + \"of the total.\")\n",
    "print (string2  + \" \" +  \"are not defined by any gender.\" + \"That is the\" + \" \" + nd1 + \"%\" + \" \" + \"of the total.\")"
   ]
  },
  {
   "cell_type": "code",
   "execution_count": 38,
   "id": "1be7edc1",
   "metadata": {
    "scrolled": true
   },
   "outputs": [
    {
     "name": "stdout",
     "output_type": "stream",
     "text": [
      "male 2674\n",
      "female 1811\n",
      "non-binary 235\n",
      "🦐\n"
     ]
    }
   ],
   "source": [
    "#insert Sarah's query getting property counts\n",
    "from SPARQLWrapper import SPARQLWrapper, JSON\n",
    "import ssl\n",
    "\n",
    "ssl._create_default_https_context = ssl._create_unverified_context\n",
    "\n",
    "# get the endpoint API\n",
    "wikidata_endpoint = \"https://query.wikidata.org/bigdata/namespace/wdq/sparql\"\n",
    "\n",
    "# prepare the query\n",
    "my_SPARQL_query = \"\"\"\n",
    "SELECT ?genderLabel (count(distinct ?property) as ?number)\n",
    "WHERE\n",
    "{SERVICE wikibase:label {\n",
    "     bd:serviceParam wikibase:language \"en\" .\n",
    "   }\n",
    "\n",
    "  ?human wdt:P31 wd:Q5\n",
    "  ; wdt:P21 ?gender\n",
    "  ; ?property ?object\n",
    "  ; wdt:P106/wdt:P279* wd:Q1792450 .\n",
    "\n",
    "}\n",
    "\n",
    "GROUP BY ?genderLabel\n",
    "\"\"\"\n",
    "# set the endpoint \n",
    "sparql_wd = SPARQLWrapper(wikidata_endpoint)\n",
    "# set the query\n",
    "sparql_wd.setQuery(my_SPARQL_query)\n",
    "# set the returned format\n",
    "sparql_wd.setReturnFormat(JSON)\n",
    "# get the results\n",
    "results = sparql_wd.query().convert()\n",
    "\n",
    "# manipulate the result\n",
    "for result in results[\"results\"][\"bindings\"]:\n",
    "    print(result[\"genderLabel\"][\"value\"], result[\"number\"][\"value\"])\n",
    "print(\"🦐\")\n"
   ]
  },
  {
   "cell_type": "markdown",
   "id": "840ec8fc",
   "metadata": {},
   "source": [
    "This query is for NOT distinct, so total number of declarations"
   ]
  },
  {
   "cell_type": "code",
   "execution_count": 32,
   "id": "ef04f47e",
   "metadata": {},
   "outputs": [
    {
     "name": "stdout",
     "output_type": "stream",
     "text": [
      "male 1204901\n",
      "female 422768\n",
      "non-binary 493\n",
      "🌮\n"
     ]
    }
   ],
   "source": [
    "#insert Sarah's query getting property counts\n",
    "from SPARQLWrapper import SPARQLWrapper, JSON\n",
    "import ssl\n",
    "\n",
    "ssl._create_default_https_context = ssl._create_unverified_context\n",
    "\n",
    "# get the endpoint API\n",
    "wikidata_endpoint = \"https://query.wikidata.org/bigdata/namespace/wdq/sparql\"\n",
    "\n",
    "# prepare the query\n",
    "my_SPARQL_query = \"\"\"\n",
    "SELECT ?genderLabel (count(?property) as ?number)\n",
    "WHERE\n",
    "{SERVICE wikibase:label {\n",
    "     bd:serviceParam wikibase:language \"en\" .\n",
    "   }\n",
    "\n",
    "  ?human wdt:P31 wd:Q5\n",
    "  ; wdt:P21 ?gender\n",
    "  ; ?property ?object\n",
    "  ; wdt:P106/wdt:P279* wd:Q1792450 .\n",
    "\n",
    "}\n",
    "\n",
    "GROUP BY ?genderLabel\n",
    "\"\"\"\n",
    "# set the endpoint \n",
    "sparql_wd = SPARQLWrapper(wikidata_endpoint)\n",
    "# set the query\n",
    "sparql_wd.setQuery(my_SPARQL_query)\n",
    "# set the returned format\n",
    "sparql_wd.setReturnFormat(JSON)\n",
    "# get the results\n",
    "results = sparql_wd.query().convert()\n",
    "\n",
    "# manipulate the result\n",
    "for result in results[\"results\"][\"bindings\"]:\n",
    "    print(result[\"genderLabel\"][\"value\"], result[\"number\"][\"value\"])\n",
    "print(\"🌮\")"
   ]
  },
  {
   "cell_type": "markdown",
   "id": "20326b99",
   "metadata": {},
   "source": [
    "###This creates the pixelated images according to number of properties"
   ]
  },
  {
   "cell_type": "code",
   "execution_count": 33,
   "id": "c19c1289",
   "metadata": {},
   "outputs": [
    {
     "ename": "FileNotFoundError",
     "evalue": "[Errno 2] No such file or directory: 'man.jpg'",
     "output_type": "error",
     "traceback": [
      "\u001b[0;31m---------------------------------------------------------------------------\u001b[0m",
      "\u001b[0;31mFileNotFoundError\u001b[0m                         Traceback (most recent call last)",
      "Input \u001b[0;32mIn [33]\u001b[0m, in \u001b[0;36m<cell line: 15>\u001b[0;34m()\u001b[0m\n\u001b[1;32m     12\u001b[0m \u001b[38;5;28;01mfrom\u001b[39;00m \u001b[38;5;21;01mPIL\u001b[39;00m \u001b[38;5;28;01mimport\u001b[39;00m Image\n\u001b[1;32m     14\u001b[0m \u001b[38;5;66;03m# Open Paddington\u001b[39;00m\n\u001b[0;32m---> 15\u001b[0m img_m \u001b[38;5;241m=\u001b[39m \u001b[43mImage\u001b[49m\u001b[38;5;241;43m.\u001b[39;49m\u001b[43mopen\u001b[49m\u001b[43m(\u001b[49m\u001b[38;5;124;43m\"\u001b[39;49m\u001b[38;5;124;43mman.jpg\u001b[39;49m\u001b[38;5;124;43m\"\u001b[39;49m\u001b[43m)\u001b[49m\n\u001b[1;32m     16\u001b[0m img_f \u001b[38;5;241m=\u001b[39m Image\u001b[38;5;241m.\u001b[39mopen(\u001b[38;5;124m\"\u001b[39m\u001b[38;5;124mwoman.jpg\u001b[39m\u001b[38;5;124m\"\u001b[39m)\n\u001b[1;32m     18\u001b[0m \u001b[38;5;66;03m# Resize smoothly down to appropriate number of pixels\u001b[39;00m\n",
      "File \u001b[0;32m/Library/Frameworks/Python.framework/Versions/3.9/lib/python3.9/site-packages/PIL/Image.py:3068\u001b[0m, in \u001b[0;36mopen\u001b[0;34m(fp, mode, formats)\u001b[0m\n\u001b[1;32m   3065\u001b[0m     filename \u001b[38;5;241m=\u001b[39m fp\n\u001b[1;32m   3067\u001b[0m \u001b[38;5;28;01mif\u001b[39;00m filename:\n\u001b[0;32m-> 3068\u001b[0m     fp \u001b[38;5;241m=\u001b[39m \u001b[43mbuiltins\u001b[49m\u001b[38;5;241;43m.\u001b[39;49m\u001b[43mopen\u001b[49m\u001b[43m(\u001b[49m\u001b[43mfilename\u001b[49m\u001b[43m,\u001b[49m\u001b[43m \u001b[49m\u001b[38;5;124;43m\"\u001b[39;49m\u001b[38;5;124;43mrb\u001b[39;49m\u001b[38;5;124;43m\"\u001b[39;49m\u001b[43m)\u001b[49m\n\u001b[1;32m   3069\u001b[0m     exclusive_fp \u001b[38;5;241m=\u001b[39m \u001b[38;5;28;01mTrue\u001b[39;00m\n\u001b[1;32m   3071\u001b[0m \u001b[38;5;28;01mtry\u001b[39;00m:\n",
      "\u001b[0;31mFileNotFoundError\u001b[0m: [Errno 2] No such file or directory: 'man.jpg'"
     ]
    }
   ],
   "source": [
    "#get number of properties\n",
    "m_prop = int((results[\"results\"][\"bindings\"][0]['number']['value']))\n",
    "f_prop = int((results[\"results\"][\"bindings\"][1]['number']['value']))\n",
    "nb_prop = int((results[\"results\"][\"bindings\"][2]['number']['value']))\n",
    "\n",
    "#divide by number of entities per gender\n",
    "final_m = round((m_prop/men)/2)\n",
    "final_f = round((f_prop/women)/2)\n",
    "final_nb = round((nb_prop/nb)/2)\n",
    "\n",
    "#!/usr/local/bin/python3\n",
    "from PIL import Image\n",
    "\n",
    "# Open Paddington\n",
    "img_m = Image.open(\"man.jpg\")\n",
    "img_f = Image.open(\"woman.jpg\")\n",
    "\n",
    "# Resize smoothly down to appropriate number of pixels\n",
    "img_m_sm = img_m.resize((final_m,final_m),resample=Image.BILINEAR)\n",
    "img_f_sm = img_f.resize((final_f, final_f),resample=Image.BILINEAR)\n",
    "\n",
    "# Scale back up using NEAREST to original size\n",
    "result_m = img_m_sm.resize(img_m.size,Image.NEAREST)\n",
    "result_f = img_f_sm.resize(img_f.size,Image.NEAREST)\n",
    "\n",
    "# Save\n",
    "result_m.save('result_m2.png')\n",
    "result_f.save('result_f2.png')\n",
    "\n",
    "print(final_m)\n",
    "print(final_f)\n",
    "print(final_nb)\n",
    "print(\"📸\")"
   ]
  },
  {
   "cell_type": "markdown",
   "id": "393d7bf9",
   "metadata": {},
   "source": [
    "## This turns the photos into gifs: \n",
    "This code needs ot be cleaned up/comments removed. Making the man and woman is separate due to the way the code is written"
   ]
  },
  {
   "cell_type": "code",
   "execution_count": null,
   "id": "aa013b28",
   "metadata": {},
   "outputs": [],
   "source": [
    "#This is the best one to use!!! idk why it is throwing this error: \n",
    "#This code is from: https://dev.to/finloop/animating-two-images-transitioning-into-each-other-with-matplotlib-55bg\n",
    "\n",
    "# We'll need them later\n",
    "import numpy as np\n",
    "import matplotlib.pylab as plt\n",
    "from matplotlib import animation\n",
    "from matplotlib.animation import FuncAnimation\n",
    "import ffmpeg\n",
    "from celluloid import Camera\n",
    "\n",
    "from PIL import Image\n",
    "\n",
    "image1 = np.array(Image.open('man.jpg').convert('RGB'))\n",
    "image2 = np.array(Image.open('result_m2.png').convert('RGB'))\n",
    "\n",
    "fimage1 = image1.reshape((-1,3))\n",
    "fimage2 = image2.reshape((-1,3))\n",
    "\n",
    "\n",
    "def fade(shape, fimage1, fimage2, perc):\n",
    "    i = int(fimage1.shape[0] * perc)\n",
    "    return np.concatenate((fimage2[:i], fimage1[i:, :])).reshape(shape)\n",
    "fig = plt.figure(figsize=(12, 10.8)) # Depends on aspect of your images\n",
    "ax = plt.axes()\n",
    "plt.margins(x=0)\n",
    "plt.axis('off')\n",
    "\n",
    "#plt.savefig('image.png', bbox_inches='tight',pad_inches = 0)\n",
    "pic = ax.imshow(np.zeros(image1.shape)) # Create empty image of the same shape as image to plot\n",
    "frames = 50 # Number of frames to generate\n",
    "\n",
    "def init():\n",
    "    pic.set_array(np.zeros(image1.shape))\n",
    "    return [pic]\n",
    "\n",
    "# This funtion generates i-th frame.\n",
    "def animate(i):\n",
    "    pic.set_array(fade(image1.shape, fimage1, fimage2, i/frames))\n",
    "    return [pic]\n",
    "\n",
    "anim = animation.FuncAnimation(fig, animate, init_func=init,\n",
    "                               frames=frames, blit=True)\n",
    "#this appears to be the problem line\n",
    "#anim.save('animation.mp4', fps=60, extra_args=['-vcodec', 'libx264'])\n",
    "#anim.save('animation.mp4', fps=60)\n",
    "anim.save('animation6.gif', writer='PillowWriter', fps=150)\n",
    "\n",
    "\n",
    "#plt.show()"
   ]
  },
  {
   "cell_type": "markdown",
   "id": "d84bbf50",
   "metadata": {},
   "source": [
    "## Making the woman gif"
   ]
  },
  {
   "cell_type": "code",
   "execution_count": null,
   "id": "5a07d050",
   "metadata": {},
   "outputs": [],
   "source": [
    "#This is the best one to use!!! idk why it is throwing this error: \n",
    "#This code is from: https://dev.to/finloop/animating-two-images-transitioning-into-each-other-with-matplotlib-55bg\n",
    "\n",
    "# We'll need them later\n",
    "import numpy as np\n",
    "import matplotlib.pylab as plt\n",
    "from matplotlib import animation\n",
    "from matplotlib.animation import FuncAnimation\n",
    "import ffmpeg\n",
    "from celluloid import Camera\n",
    "\n",
    "from PIL import Image\n",
    "\n",
    "image1 = np.array(Image.open('woman.jpg').convert('RGB'))\n",
    "image2 = np.array(Image.open('result_f2.png').convert('RGB'))\n",
    "\n",
    "fimage1 = image1.reshape((-1,3))\n",
    "fimage2 = image2.reshape((-1,3))\n",
    "\n",
    "#perc=.1\n",
    "#shape = image1.shape\n",
    "def fade(shape, fimage1, fimage2, perc):\n",
    "    i = int(fimage1.shape[0] * perc)\n",
    "    return np.concatenate((fimage2[:i], fimage1[i:, :])).reshape(shape)\n",
    "fig = plt.figure(figsize=(12, 10.8)) # Depends on aspect of your images\n",
    "ax = plt.axes()\n",
    "plt.axis('off')\n",
    "pic = ax.imshow(np.zeros(image1.shape)) # Create empty image of the same shape as image to plot\n",
    "frames = 50 # Number of frames to generate\n",
    "plt.savefig(\"test.png\",bbox_inches='tight')\n",
    "def init():\n",
    "    pic.set_array(np.zeros(image1.shape))\n",
    "    return [pic]\n",
    "\n",
    "# This funtion generates i-th frame.\n",
    "def animate(i):\n",
    "    pic.set_array(fade(image1.shape, fimage1, fimage2, i/frames))\n",
    "    return [pic]\n",
    "\n",
    "anim = animation.FuncAnimation(fig, animate, init_func=init,\n",
    "                               frames=frames, blit=True)\n",
    "#this appears to be the problem line\n",
    "#anim.save('animation.mp4', fps=60, extra_args=['-vcodec', 'libx264'])\n",
    "#anim.save('animation.mp4', fps=60)\n",
    "anim.save('animation5.gif', writer='PillowWriter', fps=150)\n",
    "\n",
    "\n",
    "#plt.show()"
   ]
  },
  {
   "cell_type": "markdown",
   "id": "ef7e3844",
   "metadata": {},
   "source": [
    "## Property trend over time"
   ]
  },
  {
   "cell_type": "code",
   "execution_count": 34,
   "id": "68337ac5",
   "metadata": {
    "scrolled": true
   },
   "outputs": [
    {
     "ename": "TypeError",
     "evalue": "'method' object is not subscriptable",
     "output_type": "error",
     "traceback": [
      "\u001b[0;31m---------------------------------------------------------------------------\u001b[0m",
      "\u001b[0;31mTypeError\u001b[0m                                 Traceback (most recent call last)",
      "Input \u001b[0;32mIn [34]\u001b[0m, in \u001b[0;36m<cell line: 47>\u001b[0;34m()\u001b[0m\n\u001b[1;32m     48\u001b[0m     my_writer \u001b[38;5;241m=\u001b[39m csv\u001b[38;5;241m.\u001b[39mwriter(my_file, delimiter\u001b[38;5;241m=\u001b[39m\u001b[38;5;124m'\u001b[39m\u001b[38;5;124m,\u001b[39m\u001b[38;5;124m'\u001b[39m, quotechar\u001b[38;5;241m=\u001b[39m\u001b[38;5;124m'\u001b[39m\u001b[38;5;124m\"\u001b[39m\u001b[38;5;124m'\u001b[39m, quoting\u001b[38;5;241m=\u001b[39mcsv\u001b[38;5;241m.\u001b[39mQUOTE_ALL)\n\u001b[1;32m     49\u001b[0m     my_writer\u001b[38;5;241m.\u001b[39mwriterow([\u001b[38;5;124m\"\u001b[39m\u001b[38;5;124mYear\u001b[39m\u001b[38;5;124m\"\u001b[39m,\u001b[38;5;124m\"\u001b[39m\u001b[38;5;124mGender\u001b[39m\u001b[38;5;124m\"\u001b[39m, \u001b[38;5;124m\"\u001b[39m\u001b[38;5;124mTotal\u001b[39m\u001b[38;5;124m\"\u001b[39m])\n\u001b[0;32m---> 50\u001b[0m     \u001b[38;5;28;01mfor\u001b[39;00m result \u001b[38;5;129;01min\u001b[39;00m \u001b[43mtime_result\u001b[49m\u001b[43m[\u001b[49m\u001b[38;5;124;43m\"\u001b[39;49m\u001b[38;5;124;43mresults\u001b[39;49m\u001b[38;5;124;43m\"\u001b[39;49m\u001b[43m]\u001b[49m[\u001b[38;5;124m\"\u001b[39m\u001b[38;5;124mbindings\u001b[39m\u001b[38;5;124m\"\u001b[39m]:\n\u001b[1;32m     51\u001b[0m         my_writer\u001b[38;5;241m.\u001b[39mwriterow([result[\u001b[38;5;124m\"\u001b[39m\u001b[38;5;124myear\u001b[39m\u001b[38;5;124m\"\u001b[39m][\u001b[38;5;124m\"\u001b[39m\u001b[38;5;124mvalue\u001b[39m\u001b[38;5;124m\"\u001b[39m], result[\u001b[38;5;124m\"\u001b[39m\u001b[38;5;124mgenderLabe\u001b[39m\u001b[38;5;124m\"\u001b[39m][\u001b[38;5;124m\"\u001b[39m\u001b[38;5;124mvalue\u001b[39m\u001b[38;5;124m\"\u001b[39m], result[\u001b[38;5;124m\"\u001b[39m\u001b[38;5;124mcount\u001b[39m\u001b[38;5;124m\"\u001b[39m][\u001b[38;5;124m\"\u001b[39m\u001b[38;5;124mvalue\u001b[39m\u001b[38;5;124m\"\u001b[39m]\u001b[38;5;241m.\u001b[39mstrip()])\n\u001b[1;32m     55\u001b[0m df \u001b[38;5;241m=\u001b[39m pd\u001b[38;5;241m.\u001b[39mread_csv(\u001b[38;5;124m\"\u001b[39m\u001b[38;5;124mperiods.csv\u001b[39m\u001b[38;5;124m\"\u001b[39m)\n",
      "\u001b[0;31mTypeError\u001b[0m: 'method' object is not subscriptable"
     ]
    }
   ],
   "source": [
    "from SPARQLWrapper import SPARQLWrapper, JSON, GET, POST, CSV\n",
    "import csv \n",
    "import pandas as pd\n",
    "import requests\n",
    "import json\n",
    "import ssl\n",
    "import numpy as np\n",
    "import pandas as pd\n",
    "import string\n",
    "import networkx as nx\n",
    "import matplotlib.pyplot as plt\n",
    "import ssl\n",
    "\n",
    "ssl._create_default_https_context = ssl._create_unverified_context\n",
    "\n",
    "# get the endpoint API\n",
    "wikidata_endpoint = \"https://query.wikidata.org/bigdata/namespace/wdq/sparql\"\n",
    "\n",
    "\n",
    "property_over_time= \"\"\"\n",
    "\n",
    "SELECT  ?year ?genderLabel(count(?historian) as ?count) \n",
    "\n",
    "WHERE {\n",
    "  SERVICE wikibase:label { bd:serviceParam wikibase:language \"[AUTO_LANGUAGE],en\". }\n",
    "  ?historian wdt:P31 wd:Q5\n",
    "                    ;wdt:P21 ?gender\n",
    "                    ;wdt:P106/wdt:P279* wd:Q1792450\n",
    "                    ; ?property ?object\n",
    "                    ;wdt:P569 ?birthdate FILTER(?birthdate > \"1900-01-01T00:00:00Z\"^^xsd:dateTime)\n",
    "                   \n",
    "}\n",
    "GROUP BY (year(xsd:dateTime(?birthdate)) as ?year) ?genderLabel\n",
    "\n",
    "Order by ?genderLabel DESC(?year)\n",
    "\n",
    "\"\"\"\n",
    "# set the endpoint \n",
    "sparql_wd = SPARQLWrapper(wikidata_endpoint)\n",
    "# set the query\n",
    "sparql_wd.setQuery(property_over_time)\n",
    "# set the returned format\n",
    "sparql_wd.setReturnFormat(JSON)\n",
    "# get the results\n",
    "time_result = sparql_wd.query().convert\n",
    "\n",
    "with open('periods.csv', mode='w') as my_file:\n",
    "    my_writer = csv.writer(my_file, delimiter=',', quotechar='\"', quoting=csv.QUOTE_ALL)\n",
    "    my_writer.writerow([\"Year\",\"Gender\", \"Total\"])\n",
    "    for result in time_result[\"results\"][\"bindings\"]:\n",
    "        my_writer.writerow([result[\"year\"][\"value\"], result[\"genderLabe\"][\"value\"], result[\"count\"][\"value\"].strip()])\n",
    "        \n",
    "\n",
    "\n",
    "df = pd.read_csv(\"periods.csv\")\n",
    "# print the first 5 rows\n",
    "df.head(10)"
   ]
  },
  {
   "cell_type": "markdown",
   "id": "23bd255d",
   "metadata": {},
   "source": [
    "## Visualization of property over time"
   ]
  },
  {
   "cell_type": "markdown",
   "id": "dc924b5a",
   "metadata": {},
   "source": [
    "**IDK what the problem is with the method above⬆\n",
    "I wanted to get my data in a CVS file. Then use pandas plot() where y= years x= total and the lines are the 3 genders (or maybe just two). I think the only thing thats needed data manipulation-wise is to group all the different years into cluster of 10 years span and THEN visualize the data. Daquino did something similar in one of her tutorial so we can take inspiration from there**"
   ]
  },
  {
   "cell_type": "markdown",
   "id": "f2b4044d",
   "metadata": {},
   "source": [
    "### Phase 2: Types of Properties\n",
    "Then we wanted to break down those properties into types to see if certain properties/types of properties appear more often for some genders over others.\n",
    "The first query is for how many art historians of each gender are also linked to a VIAF authority.\n"
   ]
  },
  {
   "cell_type": "code",
   "execution_count": 35,
   "id": "79fc49d1",
   "metadata": {},
   "outputs": [
    {
     "name": "stdout",
     "output_type": "stream",
     "text": [
      "male 11004\n",
      "female 5198\n",
      "non-binary 2\n",
      "🧁\n",
      "{'head': {'vars': ['genderLabel', 'number']}, 'results': {'bindings': [{'genderLabel': {'xml:lang': 'en', 'type': 'literal', 'value': 'male'}, 'number': {'datatype': 'http://www.w3.org/2001/XMLSchema#integer', 'type': 'literal', 'value': '11004'}}, {'genderLabel': {'xml:lang': 'en', 'type': 'literal', 'value': 'female'}, 'number': {'datatype': 'http://www.w3.org/2001/XMLSchema#integer', 'type': 'literal', 'value': '5198'}}, {'genderLabel': {'xml:lang': 'en', 'type': 'literal', 'value': 'non-binary'}, 'number': {'datatype': 'http://www.w3.org/2001/XMLSchema#integer', 'type': 'literal', 'value': '2'}}]}}\n",
      "11004\n"
     ]
    }
   ],
   "source": [
    "from SPARQLWrapper import SPARQLWrapper, JSON\n",
    "import ssl\n",
    "\n",
    "ssl._create_default_https_context = ssl._create_unverified_context\n",
    "\n",
    "# get the endpoint API\n",
    "wikidata_endpoint = \"https://query.wikidata.org/bigdata/namespace/wdq/sparql\"\n",
    "\n",
    "# prepare the query\n",
    "my_SPARQL_query = \"\"\"\n",
    "SELECT ?genderLabel (count(distinct ?human) as ?number)\n",
    "WHERE\n",
    "{SERVICE wikibase:label {\n",
    "     bd:serviceParam wikibase:language \"en\" .\n",
    "   }\n",
    "\n",
    "  ?human wdt:P31 wd:Q5\n",
    "  ; wdt:P21 ?gender\n",
    "  ; ?property ?object\n",
    "  ; wdt:P106/wdt:P279* wd:Q1792450 \n",
    "  ; wdt:P214 ?viafid .\n",
    "}\n",
    "\n",
    "\n",
    "GROUP BY ?genderLabel\n",
    "LIMIT 10\n",
    "\"\"\"\n",
    "# set the endpoint \n",
    "sparql_wd = SPARQLWrapper(wikidata_endpoint)\n",
    "# set the query\n",
    "sparql_wd.setQuery(my_SPARQL_query)\n",
    "# set the returned format\n",
    "sparql_wd.setReturnFormat(JSON)\n",
    "# get the results\n",
    "results = sparql_wd.query().convert()\n",
    "\n",
    "# manipulate the result\n",
    "for result in results[\"results\"][\"bindings\"]:\n",
    "    print(result[\"genderLabel\"][\"value\"], result[\"number\"][\"value\"])\n",
    "print(\"🧁\")\n",
    "print(results)\n",
    "\n",
    "m_viaf = int((results[\"results\"][\"bindings\"][0]['number']['value']))\n",
    "f_viaf = int((results[\"results\"][\"bindings\"][1]['number']['value']))\n",
    "nb_viaf = int((results[\"results\"][\"bindings\"][2]['number']['value']))\n",
    "print(m_viaf)\n",
    "\n"
   ]
  },
  {
   "cell_type": "code",
   "execution_count": 36,
   "id": "47381886",
   "metadata": {},
   "outputs": [
    {
     "name": "stdout",
     "output_type": "stream",
     "text": [
      "wooooo\n"
     ]
    },
    {
     "name": "stderr",
     "output_type": "stream",
     "text": [
      "/var/folders/fp/bdggy5097w1flgrpjrjcqj4h0000gn/T/ipykernel_5172/567767265.py:20: UserWarning:\n",
      "\n",
      "Matplotlib is currently using agg, which is a non-GUI backend, so cannot show the figure.\n",
      "\n"
     ]
    },
    {
     "data": {
      "image/png": "[encoded data removed]",
      "text/plain": [
       "<Figure size 504x252 with 1 Axes>"
      ]
     },
     "metadata": {
      "needs_background": "light"
     },
     "output_type": "display_data"
    }
   ],
   "source": [
    "import numpy as np\n",
    "from matplotlib import pyplot as plt\n",
    "\n",
    "m_viaf_p = round(m_viaf/men * 100)\n",
    "f_viaf_p = round(f_viaf/women * 100)\n",
    "\n",
    "plt.rcParams[\"figure.figsize\"] = [7.00, 3.50]\n",
    "plt.rcParams[\"figure.autolayout\"] = True\n",
    "\n",
    "frequencies = [m_viaf_p, f_viaf_p]\n",
    "\n",
    "plt.figure()\n",
    "\n",
    "p1 = plt.bar(np.arange(len(frequencies)), frequencies)\n",
    "\n",
    "for rect1 in p1:\n",
    "    height = rect1.get_height()\n",
    "    plt.annotate( \"{}%\".format(height),(rect1.get_x() + rect1.get_width()/2, height+.05),ha=\"center\",va=\"bottom\",fontsize=15)\n",
    "\n",
    "plt.show()\n",
    "print(\"wooooo\")"
   ]
  },
  {
   "cell_type": "code",
   "execution_count": 37,
   "id": "6debaf74",
   "metadata": {},
   "outputs": [
    {
     "name": "stderr",
     "output_type": "stream",
     "text": [
      "/var/folders/fp/bdggy5097w1flgrpjrjcqj4h0000gn/T/ipykernel_5172/3998988940.py:21: UserWarning:\n",
      "\n",
      "Matplotlib is currently using agg, which is a non-GUI backend, so cannot show the figure.\n",
      "\n"
     ]
    },
    {
     "data": {
      "image/png": "[encoded data removed]",
      "text/plain": [
       "<Figure size 504x252 with 1 Axes>"
      ]
     },
     "metadata": {
      "needs_background": "light"
     },
     "output_type": "display_data"
    }
   ],
   "source": [
    "\n",
    "# code\n",
    "import numpy as np\n",
    "import matplotlib.pyplot as plt\n",
    "  \n",
    "# Marks of RAM in different subjects out of 100.\n",
    "x = ['Male', 'Female']\n",
    "y = [m_viaf_p, f_viaf_p]\n",
    "  \n",
    "plt.bar(x, y)\n",
    "\n",
    "plt.title(\"Percent of art historians with declared VIAF ids\")\n",
    "for rect1 in p1:\n",
    "    height = rect1.get_height()\n",
    "    plt.annotate( \"{}%\".format(height),(rect1.get_x() + rect1.get_width()/2, height/2),ha=\"center\",va=\"center\",fontsize=25)\n",
    "\n",
    "plt.gca().spines['right'].set_color('none')\n",
    "plt.gca().spines['top'].set_color('none')\n",
    "plt.gca().spines['left'].set_color('none')\n",
    "plt.gca().spines['bottom'].set_color('none')\n",
    "plt.yticks([])\n",
    "plt.show()\n"
   ]
  },
  {
   "cell_type": "code",
   "execution_count": 38,
   "id": "55538b1e",
   "metadata": {},
   "outputs": [
    {
     "name": "stdout",
     "output_type": "stream",
     "text": [
      "VIAF ID male 11554\n",
      "ISNI male 9645\n",
      "WorldCat Identities ID male 9526\n",
      "Library of Congress authority ID male 8602\n",
      "GND ID male 8478\n",
      "NUKAT ID male 7834\n",
      "Nationale Thesaurus voor Auteurs ID male 7194\n",
      "Bibliothèque nationale de France ID male 5740\n",
      "VIAF ID female 5432\n",
      "NKCR AUT ID male 5082\n",
      "Deutsche Biographie (GND) ID male 4950\n",
      "PLWABN ID male 4279\n",
      "ISNI female 4027\n",
      "WorldCat Identities ID female 3662\n",
      "Library of Congress authority ID female 3494\n",
      "SHARE Catalogue author ID male 3427\n",
      "GND ID female 3420\n",
      "Vatican Library VcBA ID male 3132\n",
      "Unione Romana Biblioteche Scientifiche ID male 3096\n",
      "NUKAT ID female 2994\n",
      "American Academy in Rome ID male 2934\n",
      "IxTheo authority ID male 2774\n",
      "NORAF ID male 2582\n",
      "Open Library ID male 2413\n",
      "Nationale Thesaurus voor Auteurs ID female 2369\n",
      "Bibliothèque nationale de France ID female 2213\n",
      "National Library of Israel J9U ID male 2141\n",
      "abART person ID male 2089\n",
      "Vatican Library ID (former scheme) male 2035\n",
      "CONOR.SI ID male 1804\n",
      "NKCR AUT ID female 1746\n",
      "Kallías ID male 1572\n",
      "Deutsche Biographie (GND) ID female 1476\n",
      "RERO ID male 1466\n",
      "CiNii author ID (books) male 1427\n",
      "NLA Trove people ID male 1271\n",
      "National Library of Israel ID (old) male 1244\n",
      "PLWABN ID female 1193\n",
      "Svenska Institutet i Rom ID male 1127\n",
      "SEARCH on line catalogue ID male 1074\n",
      "NORAF ID female 1040\n",
      "SHARE Catalogue author ID female 1039\n",
      "Libraries Australia ID male 1021\n",
      "Persée author ID male 991\n",
      "University of Barcelona authority ID (obsolete) male 990\n",
      "Prabook ID male 985\n",
      "CANTIC ID male 974\n",
      "SBN author ID male 951\n",
      "CANTIC ID (old) male 928\n",
      "CERL Thesaurus ID male 926\n",
      "American Academy in Rome ID female 925\n",
      "LNB ID male 914\n",
      "NLP ID (old) male 908\n",
      "Babelio author ID male 857\n",
      "IxTheo authority ID female 855\n",
      "abART person ID female 844\n",
      "RERO ID female 836\n",
      "SNAC ARK ID male 834\n",
      "National Library of Israel J9U ID female 831\n",
      "Vatican Library VcBA ID female 811\n",
      "SELIBR ID male 800\n",
      "Unione Romana Biblioteche Scientifiche ID female 794\n",
      "openMLOL author ID male 791\n",
      "Canadiana Name Authority ID male 787\n",
      "Libris-URI male 778\n",
      "Pontificio Istituto di Archeologia Cristiana ID male 751\n",
      "Rijksmuseum Research Library authority ID male 725\n",
      "SAIA authority ID male 700\n",
      "CONOR.SR ID male 695\n",
      "CONOR.SI ID female 665\n",
      "Geni.com profile ID male 644\n",
      "CiNii author ID (books) female 643\n",
      "Angelicum ID male 633\n",
      "Pontificia Università della Santa Croce ID male 590\n",
      "Tabakalera ID male 581\n",
      "National Library of Korea ID male 511\n",
      "Vatican Library ID (former scheme) female 466\n",
      "NSK ID male 462\n",
      "Canadiana Name Authority ID female 454\n",
      "Rijksmuseum Research Library authority ID female 439\n",
      "BNB person ID male 438\n",
      "GEPRIS-Historisch ID (Person) male 381\n",
      "CoBiS author ID male 371\n",
      "Kallías ID female 352\n",
      "Biographical Dictionary of the Czech Lands ID male 344\n",
      "British Museum person or institution ID male 332\n",
      "SEARCH on line catalogue ID female 322\n",
      "Persée author ID female 316\n",
      "Svenska Institutet i Rom ID female 310\n",
      "SBN author ID female 305\n",
      "SELIBR ID female 295\n",
      "Cyprus University of Technology ID male 291\n",
      "LNB ID female 285\n",
      "CTHS person ID male 282\n",
      "Libraries Australia ID female 278\n",
      "CONOR.BG ID male 278\n",
      "Dialnet author ID male 271\n",
      "National Library of Israel ID (old) female 264\n",
      "CANTIC ID female 261\n",
      "NLA Trove people ID female 259\n",
      "University of Barcelona authority ID (obsolete) female 257\n",
      "Tabakalera ID female 252\n",
      "Biblioteca Iglesia Nacional Española en Roma ID male 251\n",
      "Libris-URI female 244\n",
      "UK National Archives ID male 243\n",
      "General Diamond Catalogue ID male 234\n",
      "Invaluable.com person ID male 233\n",
      "Babelio author ID female 232\n",
      "Academy of Athens authority ID male 231\n",
      "CANTIC ID (old) female 229\n",
      "Museo Galileo authority ID male 220\n",
      "National Library of Brazil ID male 219\n",
      "Perlentaucher ID male 199\n",
      "Open Library ID female 192\n",
      "Pontificia Università della Santa Croce ID female 190\n",
      "Munzinger person ID male 184\n",
      "Frick Art Reference Library Artist File ID male 183\n",
      "SAIA authority ID female 182\n",
      "Prabook ID female 178\n",
      "Léonore ID male 176\n",
      "WikiTree person ID male 174\n",
      "Dictionnaire critique des historiens de l'art ID male 172\n",
      "IMDb ID male 169\n",
      "NSK ID female 165\n",
      "artist-info curator ID male 164\n",
      "PIM authority ID male 164\n",
      "Archaeology Data Service person ID male 161\n",
      "NSZL name authority ID male 160\n",
      "NSZL (VIAF) ID male 160\n",
      "Pontificio Istituto di Archeologia Cristiana ID female 155\n",
      "EBAF authority ID male 154\n",
      "Dialnet author ID female 152\n",
      "Find a Grave memorial ID male 150\n",
      "Fichier des personnes décédées ID (matchID) male 149\n",
      "Sejm-Wielki.pl profile ID male 147\n",
      "National Library of Korea ID female 145\n",
      "Biografisch Portaal van Nederland ID male 145\n",
      "LinkedIn personal profile ID female 145\n",
      "Archives at Yale names ID male 143\n",
      "ORCID iD female 137\n",
      "SNK ID male 137\n",
      "Angelicum ID female 134\n",
      "ORCID iD male 131\n",
      "Philadelphia Museum of Art entity ID male 131\n",
      "BNB person ID female 129\n",
      "BHF author ID male 129\n",
      "SNAC ARK ID female 127\n",
      "NLP ID (old) female 126\n",
      "BAnQ author ID male 123\n",
      "openMLOL author ID female 120\n",
      "HKCAN ID male 115\n",
      "Cyprus University of Technology ID female 114\n",
      "Polish scientist ID male 113\n",
      "The Peerage person ID male 106\n",
      "Archive Site Trinity College Cambridge ID male 106\n",
      "Pontifical University of Salamanca ID male 105\n",
      "Geni.com profile ID female 104\n",
      "CONOR.SR ID female 102\n",
      "Isidore scholar ID male 94\n",
      "Royal Swedish Academy of Letters member ID male 92\n",
      "BDELIS ID male 92\n",
      "WBIS ID male 91\n",
      "Polish scientist ID female 85\n",
      "ICCD agent ID male 85\n",
      "Students of Prague Universities ID male 84\n",
      "Nachlässe in Austria ID male 82\n",
      "KANTO ID male 82\n",
      "Provenio UUID male 82\n",
      "National Historical Museums of Sweden agent ID male 82\n",
      "Biblioteche della Custodia di Terra Santa a Gerusalemme ID male 82\n",
      "SICRIS researcher ID female 81\n",
      "National Library of Brazil ID female 77\n",
      "IMDb ID female 75\n",
      "genealogics.org person ID male 74\n",
      "Evene ID male 73\n",
      "Biographical Dictionary of the Czech Lands ID female 71\n",
      "Schoenberg Database of Manuscripts name ID male 70\n",
      "SIUSA archive producer person ID male 69\n",
      "Biblioteca Franco Serantini ID male 69\n",
      "BHF author ID female 68\n",
      "General Diamond Catalogue ID female 68\n",
      "Teuchos ID male 67\n",
      "Biblioteca Iglesia Nacional Española en Roma ID female 66\n",
      "BeWeb person ID male 65\n",
      "Médias 19 ID male 65\n",
      "BAnQ author ID female 64\n",
      "Hungarian National Namespace person ID male 64\n",
      "National Library of Wales Authority ID male 62\n",
      "IDU person ID male 62\n",
      "LinkedIn personal profile ID male 61\n",
      "Internet Speculative Fiction Database author ID male 60\n",
      "Edvard Munch's correspondance person ID male 60\n",
      "Joconde author ID male 60\n",
      "Rheinland-Pfälzische Personendatenbank ID male 59\n",
      "artist-info curator ID female 58\n",
      "TMDb person ID male 57\n",
      "ČSFD person ID male 57\n",
      "Academic Tree ID male 56\n",
      "BHL creator ID male 56\n",
      "SICRIS researcher ID male 56\n",
      "PIM authority ID female 54\n",
      "AADFI member ID male 54\n",
      "RHE doctor ID male 52\n",
      "Encyclopedia of Brno History person ID male 50\n",
      "Perlentaucher ID female 49\n",
      "Accademia delle Scienze di Torino ID male 49\n",
      "FranceArchives agent ID male 49\n",
      "Filmportal ID male 48\n",
      "CONOR.BG ID female 48\n",
      "Union Catalog of Armenian Libraries authority ID male 48\n",
      "NSZL name authority ID female 47\n",
      "NSZL (VIAF) ID female 47\n",
      "EGAXA ID male 47\n",
      "SNK ID female 47\n",
      "Catalogue of the Capitular Library of Verona author ID male 45\n",
      "Theses.fr person ID male 44\n",
      "KNAW past member ID male 43\n",
      "LBT person ID male 43\n",
      "FemBio ID female 42\n",
      "Patrinum ID male 42\n",
      "Kindred Britain ID male 41\n",
      "Athenaeum person ID male 41\n",
      "Canadiana Authorities ID (former scheme) male 41\n",
      "Academic Tree ID female 40\n",
      "Les Archives du spectacle person ID male 40\n",
      "Nobel Prize People Nomination ID male 40\n",
      "DBC author ID male 39\n",
      "National Library of Ireland ID male 39\n",
      "Swedish Portrait Archive ID male 38\n",
      "Canal-U person ID male 38\n",
      "AE member ID male 38\n",
      "Theses.fr person ID female 38\n",
      "Carl-Maria-von-Weber-Gesamtausgabe ID male 38\n",
      "LIMIS person ID male 38\n",
      "Norwegian historical register of persons ID male 37\n",
      "LRB contributor ID male 37\n",
      "Sejm-Wielki.pl profile ID female 37\n",
      "Olschki author ID male 37\n",
      "IDU person ID female 36\n",
      "French Academy in Rome resident ID male 35\n",
      "Encyclopædia Britannica contributor ID male 35\n",
      "DUC ID female 35\n",
      "CoBiS author ID female 35\n",
      "AV Production person ID male 35\n",
      "Companies House officer ID male 34\n",
      "Fichier des personnes décédées ID (matchID) female 34\n",
      "EBAF authority ID female 34\n",
      "Heidelberg Academy for Sciences and Humanities member ID male 33\n",
      "WikiTree person ID female 33\n",
      "LibriVox author ID male 33\n",
      "ResearchGate profile ID female 33\n",
      "Archaeology Data Service person ID female 33\n",
      "GeneaStar person ID male 33\n",
      "ZOBODAT person ID male 33\n",
      "MART catalog person ID male 33\n",
      "Saxon Academy of Sciences member ID male 32\n",
      "OpenEdition Books author ID female 32\n",
      "KANTO ID female 32\n",
      "NSDAP membership number (1925–1945) male 31\n",
      "Museo Galileo authority ID female 31\n",
      "Pontifical University of Salamanca ID female 31\n",
      "Amazon author ID male 30\n",
      "EMLO person ID male 30\n",
      "Google Scholar author ID male 30\n",
      "ARAE ID male 30\n",
      "NYRB contributor ID male 29\n",
      "Le Lettere di Theodor Mommsen agli Italiani ID male 29\n",
      "Enciclopedia di Roma person ID male 29\n",
      "Scopus author ID female 28\n",
      "Olschki author ID female 28\n",
      "YCBA agent ID male 27\n",
      "Scopus author ID male 27\n",
      "AcademiaNet ID female 27\n",
      "Adelphi author ID male 27\n",
      "OpenEdition Books author ID male 27\n",
      "Curran Index contributor ID male 27\n",
      "Amazon author ID female 26\n",
      "CONOR.AL ID male 26\n",
      "Archivio dei possessori ID male 26\n",
      "Aracne author ID female 26\n",
      "vedidk ID male 26\n",
      "Académie des Inscriptions et Belles-Lettres member ID male 25\n",
      "OpenPlaques subject ID male 25\n",
      "CCAB ID male 25\n",
      "Google Scholar author ID female 25\n",
      "ResearchGate profile ID male 25\n",
      "Filmový přehled person ID male 25\n",
      "The Peerage person ID female 24\n",
      "KVAB member ID male 24\n",
      "Biblioteca di Santa Sabina ID male 24\n",
      "IRIS SNS author ID male 24\n",
      "GEPRIS person ID male 23\n",
      "UK National Archives ID female 23\n",
      "Find a Grave memorial ID female 23\n",
      "Cambridge Alumni Database ID male 23\n",
      "LombardiaBeniCulturali artwork author ID male 23\n",
      "Portrait Archive ID male 23\n",
      "IRIS SNS author ID female 23\n",
      "ČSFD person ID female 22\n",
      "IRIS Sapienza author ID female 22\n",
      "Cairn author ID female 21\n",
      "Biografisch Portaal van Nederland ID female 21\n",
      "Slovak National Library ID (VIAF) male 21\n",
      "Catalogue of the General State Archives ID male 21\n",
      "Canadiana Authorities ID (former scheme) female 20\n",
      "CERL Thesaurus ID female 20\n",
      "IRIS Sapienza author ID male 20\n",
      "TMDb person ID female 19\n",
      "zbMATH author ID male 19\n",
      "British Museum person or institution ID female 19\n",
      "Alexander Turnbull Library ID male 19\n",
      "Hungarian National Namespace person ID female 19\n",
      "vedidk ID female 19\n",
      "Cairn author ID male 18\n",
      "Sandrart.net person ID male 18\n",
      "Sächsische Biografie (GND) ID male 18\n",
      "MacArthur Fellows Program ID male 18\n",
      "Accademia della Crusca ID male 17\n",
      "Swedish Film Database person ID male 17\n",
      "MSBI person ID male 17\n",
      "Art Gallery of South Australia creator ID male 17\n",
      "Encyclopedia of Brno History person ID female 17\n",
      "BiographySampo person ID male 17\n",
      "Researchmap ID male 16\n",
      "Canal-U person ID female 16\n",
      "French Academy in Rome resident ID female 16\n",
      "PORT person ID male 16\n",
      "Danish National Filmography person ID male 16\n",
      "Electronic Enlightenment ID male 16\n",
      "AlloCiné person ID male 16\n",
      "genealogics.org person ID female 16\n",
      "COURAGE ID male 16\n",
      "Aracne author ID male 16\n",
      "George Eastman Museum people ID male 16\n",
      "FamilySearch person ID male 15\n",
      "KVAB member ID female 15\n",
      "BDCYL authority ID male 15\n",
      "Semantic Scholar author ID female 15\n",
      "Index of Historic Collectors and Dealers of Cubism ID male 15\n",
      "NMVW ID male 15\n",
      "EFIS person ID male 15\n",
      "LRB contributor ID female 14\n",
      "Elonet person ID male 14\n",
      "RSL ID (person) male 14\n",
      "ResearcherID male 14\n",
      "Masaryk University person ID male 14\n",
      "Masaryk University person ID female 14\n",
      "Paměť národa ID male 14\n",
      "Slovník českých nakladatelství 1848-1949 person ID male 14\n",
      "Students of Prague Universities ID female 14\n",
      "GEPRIS-Historisch ID (Person) female 14\n",
      "Festivaletteratura person ID male 14\n",
      "Academy of Athens authority ID female 14\n",
      "OpenSanctions ID male 14\n",
      "BIU Santé person ID male 13\n",
      "NYRB contributor ID female 13\n",
      "AE member ID female 13\n",
      "Filmportal ID female 13\n",
      "Estonian Research Portal person ID female 13\n",
      "SIUSA archive producer person ID female 13\n",
      "Český hudební slovník osob a institucí ID male 13\n",
      "Hyperion Records person ID male 13\n",
      "Joods Biografisch Woordenboek ID male 13\n",
      "St. Sergius Institute authority ID male 13\n",
      "OpenSanctions ID female 13\n",
      "Académie française member ID male 12\n",
      "Encyklopedia Teatru Polskiego person ID male 12\n",
      "Royal Swedish Academy of Letters member ID female 12\n",
      "DBC author ID female 12\n",
      "Semantic Scholar author ID male 12\n",
      "Radio Radicale person ID male 12\n",
      "ResearcherID female 12\n",
      "Internet Speculative Fiction Database author ID female 12\n",
      "Dimensions author ID male 12\n",
      "LiederNet composer ID male 12\n",
      "MYmovies person ID male 12\n",
      "Invaluable.com person ID female 11\n",
      "Companies House officer ID female 11\n",
      "CTHS person ID female 11\n",
      "IDIH ID male 11\n",
      "Académie de Versailles member ID male 11\n",
      "Harvard Index of Botanists ID male 11\n",
      "Amburger database ID male 11\n",
      "WBIS ID female 11\n",
      "National Historical Museums of Sweden agent ID female 11\n",
      "LTit person ID male 11\n",
      "Podchaser creator ID male 11\n",
      "e-Rad researcher number male 11\n",
      "FLORE author ID male 11\n",
      "PictoRight ID code male 11\n",
      "PARES ID male 10\n",
      "Flanders Arts Institute person ID male 10\n",
      "BD Gest' author ID male 10\n",
      "Rodovid ID male 10\n",
      "Munzinger person ID female 10\n",
      "Database of Classical Scholars ID male 10\n",
      "Dimensions author ID female 10\n",
      "Austrian Parliament 1848–1918 ID male 10\n",
      "Archivio Storico Ricordi person ID male 10\n",
      "AAGM person or institution ID male 10\n",
      "Union Catalog of Armenian Libraries authority ID female 10\n",
      "Archives at Yale names ID female 10\n",
      "OsobnostiRegionu.cz ID male 10\n",
      "Catalogue of the Capitular Library of Verona author ID female 10\n",
      "MovieMeter person ID male 10\n",
      "Biblioteche della Custodia di Terra Santa a Gerusalemme ID female 10\n",
      "AADFI member ID female 10\n",
      "Franciscan Center of Christian Oriental Studies ID male 10\n",
      "ARPI author ID male 10\n",
      "GEPRIS person ID female 9\n",
      "LONSEA ID male 9\n",
      "Entomologists of the World ID male 9\n",
      "CRIStin ID female 9\n",
      "Isidore scholar ID female 9\n",
      "NLC authorities male 9\n",
      "Estonian biographical database ID male 9\n",
      "Slovak National Library ID (VIAF) female 9\n",
      "Philadelphia Museum of Art entity ID female 9\n",
      "Archive Site Trinity College Cambridge ID female 9\n",
      "Order of Canada recipient ID male 9\n",
      "AV Production person ID female 9\n",
      "Istituto Veneto di Scienze, Lettere ed Arti member ID male 9\n",
      "SNSF person ID male 9\n",
      "BVPB authority ID male 8\n",
      "EPHE ID male 8\n",
      "Académie des sciences d'outre-mer member ID male 8\n",
      "Encyclopædia Britannica contributor ID female 8\n",
      "MTMT author ID male 8\n",
      "Kindred Britain ID female 8\n",
      "WeRelate person ID male 8\n",
      "Australian Women's Register ID female 8\n",
      "Mathematics Genealogy Project ID male 8\n",
      "BBF ID male 8\n",
      "Evene ID female 8\n",
      "Canal Académie ID male 8\n",
      "Muck Rack journalist ID male 8\n",
      "Aozora Bunko author ID male 8\n",
      "EFIS person ID female 8\n",
      "Nachlässe in Austria ID female 8\n",
      "CONOR.AL ID female 8\n",
      "Cinémathèque québécoise person ID male 8\n",
      "Biblioteca di Santa Sabina ID female 8\n",
      "IRIS UNINA author ID male 8\n",
      "PGM author ID male 8\n",
      "LittleSis people ID male 8\n",
      "National Library of Ireland ID female 8\n",
      "Merkelstiftung person ID male 7\n",
      "Researchmap ID female 7\n",
      "Akadem person ID male 7\n",
      "Medicina author ID male 7\n",
      "EDIT16 catalogue author ID male 7\n",
      "Estonian Research Portal person ID male 7\n",
      "Grace's Guide ID male 7\n",
      "Marburger Professorenkatalog ID male 7\n",
      "HAS member ID male 7\n",
      "Publons author ID male 7\n",
      "CALIS ID male 7\n",
      "HelveticArchives ID male 7\n",
      "Kritisches Lexikon der Gegenwartsliteratur ID male 7\n",
      "DVN ID female 7\n",
      "HKCAN ID female 7\n",
      "ResearchGate contributions ID female 7\n",
      "Académie royale de Belgique member ID male 7\n",
      "COURAGE ID female 7\n",
      "Filmový přehled person ID female 7\n",
      "ASUT ID male 7\n",
      "Gateway to Research person ID female 7\n",
      "Rheinland-Pfälzische Personendatenbank ID female 7\n",
      "Medieval Manuscripts in Oxford Libraries person ID male 7\n",
      "Portrait Archive ID female 7\n",
      "MacArthur Fellows Program ID female 7\n",
      "e-Rad researcher number female 7\n",
      "ARPI author ID female 7\n",
      "Norwegian historical register of persons ID female 6\n",
      "CiNii author ID (articles) male 6\n",
      "Lambiek Comiclopedia artist ID male 6\n",
      "Filmweb.pl person ID male 6\n",
      "Encyklopedia Teatru Polskiego person ID female 6\n",
      "France Culture person ID female 6\n",
      "Akadem person ID female 6\n",
      "CRIStin ID male 6\n",
      "PORT person ID female 6\n",
      "MTMT author ID female 6\n",
      "PhilPapers author ID male 6\n",
      "student register of the University of Helsinki ID (1853–1899) male 6\n",
      "FilmPolski.pl ID male 6\n",
      "Collective Biographies of Women ID female 6\n",
      "botanist author abbreviation male 6\n",
      "IPNI author ID male 6\n",
      "Dharma Drum Institute of Liberal Arts person ID male 6\n",
      "Internet Broadway Database person ID male 6\n",
      "Rotten Tomatoes ID male 6\n",
      "Rotten Tomatoes ID female 6\n",
      "Muck Rack journalist ID female 6\n",
      "BDELIS ID female 6\n",
      "Académie de Rouen member ID male 6\n",
      "Biblioteche dei filosofi ID male 6\n",
      "Personendatenbank Germania Sacra ID male 6\n",
      "Gateway to Research person ID male 6\n",
      "Frauen in Bewegung 1848–1938 ID female 6\n",
      "Biblioteca Franco Serantini ID female 6\n",
      "Digital Library of Armenian Literature author ID male 6\n",
      "Romanistenlexikon ID male 6\n",
      "Festivaletteratura person ID female 6\n",
      "IRIS UNIBO author ID female 6\n",
      "U-PAD author ID female 6\n",
      "LittleSis people ID female 6\n",
      "Flanders Arts Institute person ID female 5\n",
      "Webb-site person ID male 5\n",
      "Swedish Academy member ID male 5\n",
      "Classiques des sciences sociales ID male 5\n",
      "Trading Card Database person ID male 5\n",
      "Theatricalia person ID male 5\n",
      "TED speaker ID male 5\n",
      "National Library of Wales Authority ID female 5\n",
      "BHL creator ID female 5\n",
      "Biblioteca Nacional de México ID male 5\n",
      "HAL author ID male 5\n",
      "Rodovid ID female 5\n",
      "AlloCiné person ID female 5\n",
      "BLPL author ID male 5\n",
      "zbMATH author ID female 5\n",
      "CCAB ID female 5\n",
      "Open Media Database person ID male 5\n",
      "Savoirs ENS ID male 5\n",
      "ResearchGate contributions ID male 5\n",
      "Share-VDE author ID male 5\n",
      "BVLarramendi ID male 5\n",
      "BeWeb person ID female 5\n",
      "NMVW ID female 5\n",
      "Quirinale ID female 5\n",
      "Order of Canada recipient ID female 5\n",
      "Patrinum ID female 5\n",
      "ANPI person numeric ID male 5\n",
      "Biographia Benedictina ID male 5\n",
      "Catalogue of the General State Archives ID female 5\n",
      "The Women's Print History Project person ID male 5\n",
      "FLORE author ID female 5\n",
      "LMHL author ID male 5\n",
      "Armenian National Academy of Sciences ID male 4\n",
      "IUF member ID male 4\n",
      "Medicina author ID female 4\n",
      "CESAR person ID male 4\n",
      "French Sculpture Census artist ID male 4\n",
      "DBLP author ID female 4\n",
      "BDRC Resource ID male 4\n",
      "Scope.dk person ID male 4\n",
      "autores.uy ID male 4\n",
      "TED speaker ID female 4\n",
      "FamilySearch person ID female 4\n",
      "Leopoldina member ID male 4\n",
      "Publons author ID female 4\n",
      "e-archiv.li ID male 4\n",
      "NCL ID male 4\n",
      "EGAXA ID female 4\n",
      "Global Anabaptist Mennonite Encyclopedia Online ID male 4\n",
      "Database of Classical Scholars ID female 4\n",
      "Les Archives du spectacle person ID female 4\n",
      "Académie de Montpellier member ID male 4\n",
      "Dictionnaire de spiritualité ID male 4\n",
      "Microsoft Academic ID male 4\n",
      "Microsoft Academic ID female 4\n",
      "Alexander Turnbull Library ID female 4\n",
      "Paměť národa ID female 4\n",
      "Swiss National Sound Archives ID male 4\n",
      "Bionomia ID male 4\n",
      "Poincaré Papers person ID male 4\n",
      "The Conversation author ID female 4\n",
      "Regesta Ecclesiastica Salisburgensia ID male 4\n",
      "LIMIS person ID female 4\n",
      "Provenio UUID female 4\n",
      "Cyprus Bibliography ID male 4\n",
      "Franciscan Center of Christian Oriental Studies ID female 4\n",
      "ASE person ID male 4\n",
      "MART catalog person ID female 4\n",
      "INAPP author ID male 4\n",
      "USiena air author ID male 4\n",
      "SNSF person ID female 4\n",
      "IRIS UNISA author ID male 4\n",
      "Re.Public@Polimi author ID male 4\n",
      "Re.Public@Polimi author ID female 4\n",
      "PORTO@Iris author ID male 4\n",
      "PORTO@Iris author ID female 4\n",
      "Zürich Herbaria collector ID male 4\n",
      "Académie des Inscriptions et Belles-Lettres member ID female 3\n",
      "Swedish Portrait Archive ID female 3\n",
      "EPHE ID female 3\n",
      "Premiers préfets ID male 3\n",
      "France Culture person ID male 3\n",
      "IUF member ID female 3\n",
      "Whonamedit? doctor ID male 3\n",
      "Encyclopaedia Herder person ID male 3\n",
      "BD Gest' author ID female 3\n",
      "Swedish Film Database person ID female 3\n",
      "Elonet person ID female 3\n",
      "warheroes.ru ID male 3\n",
      "LBT person ID female 3\n",
      "PhilPeople profile male 3\n",
      "FilmPolski.pl ID female 3\n",
      "Danskefilm person ID male 3\n",
      "The Black Book ID male 3\n",
      "WBPLN author ID male 3\n",
      "HAL author ID female 3\n",
      "Radio Radicale person ID female 3\n",
      "Mathematics Genealogy Project ID female 3\n",
      "Low German Bibliography and Biography ID male 3\n",
      "Catholic Hierarchy person ID male 3\n",
      "Internet Broadway Database person ID female 3\n",
      "Academy Awards Database nominee ID male 3\n",
      "Académie royale de Belgique member ID female 3\n",
      "Biblioteca Virtual Andalucía authority ID male 3\n",
      "Memorial Book Bundesarchiv ID female 3\n",
      "Memorial Book Bundesarchiv ID male 3\n",
      "Frick Art Reference Library Artist File ID female 3\n",
      "WeChangEd ID female 3\n",
      "Curran Index contributor ID female 3\n",
      "Provenio ID male 3\n",
      "The Conversation author ID male 3\n",
      "Norwegian prisoner register person ID male 3\n",
      "Český hudební slovník osob a institucí ID female 3\n",
      "Jewish Virtual Library ID male 3\n",
      "Canadian Women Artists History Initiative ID female 3\n",
      "Quirinale ID male 3\n",
      "ZOBODAT person ID female 3\n",
      "BVFE author ID male 3\n",
      "Germanistenverzeichnis ID male 3\n",
      "MovieMeter person ID female 3\n",
      "Podchaser creator ID female 3\n",
      "IRIS UNINA author ID female 3\n",
      "IRIS UNIPV author ID male 3\n",
      "MYmovies person ID female 3\n",
      "U-PAD author ID male 3\n",
      "Archivio Storico dell'Università degli Studi di Cagliari person ID male 3\n",
      "IRIS UNIGE author ID male 3\n",
      "IRIS UNIGE author ID female 3\n",
      "Künstlerdatenbank ID male 3\n",
      "CBDB.cz author ID male 3\n",
      "IRIS UNIUD author ID male 3\n",
      "Lives of WWI ID male 2\n",
      "Accademia della Crusca ID female 2\n",
      "MR Author ID male 2\n",
      "MR Author ID female 2\n",
      "National Library of Korea ID non-binary 2\n",
      "Swedish Gravestone ID male 2\n",
      "NSDAP membership number (1925–1945) female 2\n",
      "DBLP author ID male 2\n",
      "Theatricalia person ID non-binary 2\n",
      "Theatricalia person ID female 2\n",
      "TCM Movie Database person ID male 2\n",
      "RERO ID non-binary 2\n",
      "Bloomberg person ID male 2\n",
      "elFilm person ID male 2\n",
      "HAS member ID female 2\n",
      "PhilPeople profile female 2\n",
      "KU Leuven person ID male 2\n",
      "Saxon Academy of Sciences member ID female 2\n",
      "Digital Valencian Library author ID male 2\n",
      "National Academy of Medicine (France) member ID male 2\n",
      "autores.ar ID male 2\n",
      "All-Russian Mathematical Portal ID male 2\n",
      "Biblioteca Nacional de México ID female 2\n",
      "CiNii author ID (books) non-binary 2\n",
      "Bibliothèque nationale de France ID non-binary 2\n",
      "Léonore ID female 2\n",
      "National Library of Romania ID female 2\n",
      "Lattes Platform number male 2\n",
      "Rotten Tomatoes ID non-binary 2\n",
      "Sächsische Biografie (GND) ID female 2\n",
      "LibriVox author ID female 2\n",
      "Righteous Among The Nations ID female 2\n",
      "VIAF ID non-binary 2\n",
      "ISNI non-binary 2\n",
      "Library of Congress authority ID non-binary 2\n",
      "GND ID non-binary 2\n",
      "National Humanities Medal winner ID male 2\n",
      "Baidu ScholarID male 2\n",
      "Adelphi author ID female 2\n",
      "Norwegian war refugees register ID male 2\n",
      "ComiXology creator ID male 2\n",
      "Harvard Index of Botanists ID female 2\n",
      "Hymnary author ID male 2\n",
      "BVPH authority ID male 2\n",
      "Georgian National Filmography person ID male 2\n",
      "Grammy Awards artist ID male 2\n",
      "WorldCat Identities ID non-binary 2\n",
      "Médias 19 ID female 2\n",
      "WeChangEd ID male 2\n",
      "elibrary.ru person ID female 2\n",
      "Accademia delle Scienze di Torino ID female 2\n",
      "Canadiana Name Authority ID non-binary 2\n",
      "National Library of Israel J9U ID non-binary 2\n",
      "CTHS author ID male 2\n",
      "Fototeka person ID male 2\n",
      "FIPRESCI person ID male 2\n",
      "CONOR.KS ID male 2\n",
      "Museo Galileo biography ID male 2\n",
      "Obituaries Australia ID male 2\n",
      "BiographySampo person ID female 2\n",
      "FranceArchives agent ID female 2\n",
      "Rekhta author ID male 2\n",
      "Memento Vienna person ID male 2\n",
      "Istituto Veneto di Scienze, Lettere ed Arti member ID female 2\n",
      "Schoenberg Database of Manuscripts name ID female 2\n",
      "The Women's Print History Project person ID female 2\n",
      "Joods Biografisch Woordenboek ID female 2\n",
      "Anagrafe degli studiosi ID female 2\n",
      "INAPP author ID female 2\n",
      "IRIS IMT author ID female 2\n",
      "Gente di Tuscia ID male 2\n",
      "Enciclopedia di Roma person ID female 2\n",
      "IRIS UNIPG author ID male 2\n",
      "EXQUIRITE author ID male 2\n",
      "IRIS UNIURB author ID male 2\n",
      "IRIS Verona author ID male 2\n",
      "IRIS UNIBO author ID male 2\n",
      "IRIS UNISA author ID female 2\n",
      "AdoroCinema person ID male 2\n",
      "Sceneweb artist ID male 2\n",
      "IRIS UNIUD author ID female 2\n",
      "MYmovies director ID (former scheme) male 1\n",
      "Compagnon de la Libération ID male 1\n",
      "TMDb person ID non-binary 1\n",
      "Behind The Voice Actors person ID male 1\n",
      "Filmweb.pl person ID female 1\n",
      "Armenian National Academy of Sciences ID female 1\n",
      "Webb-site person ID female 1\n",
      "Douban movie celebrity ID male 1\n",
      "Douban movie celebrity ID female 1\n",
      "ARMB member ID male 1\n",
      "American Film Institute person ID male 1\n",
      "Académie des sciences morales et politiques member ID male 1\n",
      "Académie des sciences d'outre-mer member ID female 1\n",
      "Dictionnaire critique des historiens de l'art ID female 1\n",
      "National Academy of Sciences member ID male 1\n",
      "NYRB contributor ID non-binary 1\n",
      "RHE doctor ID female 1\n",
      "Six Degrees of Francis Bacon ID male 1\n",
      "KNAW past member ID female 1\n",
      "BDRC Resource ID female 1\n",
      "autores.uy ID female 1\n",
      "Québec cultural heritage directory people identifier male 1\n",
      "Québec cultural heritage directory people identifier female 1\n",
      "Danish National Filmography person ID female 1\n",
      "TV.com ID male 1\n",
      "Filmportal ID non-binary 1\n",
      "Biographical Directory of Federal Judges ID male 1\n",
      "Loop ID male 1\n",
      "INSPIRE-HEP author ID male 1\n",
      "Spenserians person ID male 1\n",
      "Spenserians person ID female 1\n",
      "TCM Movie Database person ID female 1\n",
      "ISzDb person ID male 1\n",
      "elCinema person ID male 1\n",
      "EDb person ID male 1\n",
      "elFilm person ID female 1\n",
      "KU Leuven person ID female 1\n",
      "BAnQ author ID non-binary 1\n",
      "student register of the University of Helsinki ID (1640–1852) male 1\n",
      "Surman ID male 1\n",
      "Cinema of Israel ID male 1\n",
      "SNAC ARK ID non-binary 1\n",
      "Luding designer ID male 1\n",
      "BoardGameGeek designer ID male 1\n",
      "Babelio author ID non-binary 1\n",
      "Danskefilm person ID female 1\n",
      "Mendeley person ID male 1\n",
      "BoF person ID female 1\n",
      "DBC author ID non-binary 1\n",
      "Ishim ID male 1\n",
      "SHARE Catalogue author ID non-binary 1\n",
      "National Library Board Singapore ID male 1\n",
      "Unifrance person ID male 1\n",
      "Unifrance person ID female 1\n",
      "Athenaeum person ID female 1\n",
      "WBPLN author ID female 1\n",
      "INDUCKS creator ID male 1\n",
      "Collective Biographies of Women ID non-binary 1\n",
      "Africultures person ID male 1\n",
      "IMDb ID non-binary 1\n",
      "Libraries Australia ID non-binary 1\n",
      "Open Library ID non-binary 1\n",
      "NKCR AUT ID non-binary 1\n",
      "Perlentaucher ID non-binary 1\n",
      "SELIBR ID non-binary 1\n",
      "RSL ID (person) female 1\n",
      "NORAF ID non-binary 1\n",
      "National Library of Romania ID male 1\n",
      "Nationale Thesaurus voor Auteurs ID non-binary 1\n",
      "Lattes Platform number female 1\n",
      "NUKAT ID non-binary 1\n",
      "AlloCiné person ID non-binary 1\n",
      "CANTIC ID (old) non-binary 1\n",
      "Dictionnaire du Jura ID female 1\n",
      "HelveticArchives ID female 1\n",
      "CONOR.SI ID non-binary 1\n",
      "NLA Trove people ID non-binary 1\n",
      "NSK ID non-binary 1\n",
      "ComicBookDB Creator ID male 1\n",
      "OpenPlaques subject ID female 1\n",
      "Cambridge Alumni Database ID female 1\n",
      "University of Barcelona authority ID (obsolete) non-binary 1\n",
      "BBF ID female 1\n",
      "KMDb person ID male 1\n",
      "Journalisted ID male 1\n",
      "Metacritic ID non-binary 1\n",
      "Metacritic ID male 1\n",
      "Metacritic ID female 1\n",
      "CWGC person ID male 1\n",
      "Righteous Among The Nations ID male 1\n",
      "Poetry Society of America poet ID male 1\n",
      "Virtual Laboratory person ID male 1\n",
      "CNRS Talent page male 1\n",
      "CNRS Talent page female 1\n",
      "La Vie des idées ID female 1\n",
      "Libris-URI non-binary 1\n",
      "Académie de Mâcon member ID male 1\n",
      "Académie de Mâcon member ID female 1\n",
      "Pontificia Università della Santa Croce ID non-binary 1\n",
      "Académie de Marseille member ID male 1\n",
      "Académie de Marseille member ID female 1\n",
      "Geheugen van de VU person ID male 1\n",
      "Index of Historic Collectors and Dealers of Cubism ID female 1\n",
      "Annuaire de la magistrature ID male 1\n",
      "Muck Rack journalist ID non-binary 1\n",
      "AFAS author ID male 1\n",
      "ProsopoMaths ID male 1\n",
      "YÖK Academic Profile ID male 1\n",
      "YÖK Academic Profile ID female 1\n",
      "Cineuropa person ID male 1\n",
      "Cineuropa person ID female 1\n",
      "Académie d'Arles member ID male 1\n",
      "SinemaTürk person ID male 1\n",
      "Hymnary author ID female 1\n",
      "Patrimonio Digital de Castilla-La Mancha authority ID male 1\n",
      "Fondation Maeght artist ID male 1\n",
      "NZ On Screen person ID male 1\n",
      "Académie de Rouen member ID female 1\n",
      "LinkedIn personal profile ID non-binary 1\n",
      "Academia Sinica authority ID male 1\n",
      "Dictionnaire des Vendéens ID male 1\n",
      "OSZMI ID male 1\n",
      "National Film Board of Canada director identifier male 1\n",
      "Bionomia ID female 1\n",
      "XING profile ID female 1\n",
      "PLWABN ID non-binary 1\n",
      "Edvard Munch's correspondance person ID female 1\n",
      "Estonian biographical database ID female 1\n",
      "askArt person ID male 1\n",
      "The Cardinals of the Holy Roman Church ID male 1\n",
      "Australian National Maritime Museum person ID female 1\n",
      "Decine21 person ID male 1\n",
      "Livelib.ru person ID male 1\n",
      "kino-teatr.ru person ID female 1\n",
      "Deutsche Biographie (GND) ID non-binary 1\n",
      "GeneaStar person ID female 1\n",
      "ToposText person ID male 1\n",
      "elibrary.ru person ID male 1\n",
      "Fandango person ID male 1\n",
      "re:publica speaker ID female 1\n",
      "CDAPNC author ID female 1\n",
      "ASUT ID female 1\n",
      "CTHS author ID female 1\n",
      "LiederNet composer ID female 1\n",
      "LombardiaBeniCulturali architecture author ID male 1\n",
      "Norwegian prisoner register person ID female 1\n",
      "Legacy.com person ID male 1\n",
      "Fototeka person ID female 1\n",
      "Jewish Virtual Library ID female 1\n",
      "Frauen in Bewegung 1848–1938 ID male 1\n",
      "TracesOfWar person ID male 1\n",
      "FIPRESCI person ID female 1\n",
      "Carl-Maria-von-Weber-Gesamtausgabe ID female 1\n",
      "Dostoyevsky and His Entourage ID male 1\n",
      "ITHL author ID male 1\n",
      "AstroGen ID female 1\n",
      "Archivio dei possessori ID female 1\n",
      "Biographical Archive of Psychiatry ID male 1\n",
      "National Historic People ID male 1\n",
      "Le Lettere di Theodor Mommsen agli Italiani ID female 1\n",
      "Doktori.hu ID male 1\n",
      "Data Collection of the Hungarian Peerage ID male 1\n",
      "Studio di Fonologia Musicale RAI person ID male 1\n",
      "Germanistenverzeichnis ID female 1\n",
      "Obituaries Australia ID female 1\n",
      "ARAE ID female 1\n",
      "Cyprus Bibliography ID female 1\n",
      "Keratsini-Drapetsona libraries' catalogue authority ID male 1\n",
      "Keratsini-Drapetsona libraries' catalogue authority ID female 1\n",
      "OFDb person ID male 1\n",
      "Russians of Latvia ID male 1\n",
      "Brapci author ID female 1\n",
      "Digital Library of Armenian Literature author ID female 1\n",
      "Forbes Russia profile ID female 1\n",
      "LTit person ID female 1\n",
      "Memento Vienna person ID female 1\n",
      "Australian Music Centre artist ID male 1\n",
      "Biographical Encyclopedia of Astronomers ID female 1\n",
      "Romanistenlexikon ID female 1\n",
      "WUA author ID male 1\n",
      "Book Owners Online person ID male 1\n",
      "Legie 100 legionary ID male 1\n",
      "The New Yorker contributor ID male 1\n",
      "IRIS UNIPV author ID female 1\n",
      "Anagrafe degli studiosi ID male 1\n",
      "USiena air author ID female 1\n",
      "Online Begraafplaatsen person ID male 1\n",
      "CANTIC ID non-binary 1\n",
      "MYmovies person ID non-binary 1\n",
      "George Eastman Museum people ID female 1\n",
      "UAE University Libraries ID male 1\n",
      "IRIS UNIPG author ID female 1\n",
      "Tabakalera ID non-binary 1\n",
      "IRIS UNIURB author ID female 1\n",
      "IRIS UNIMI author ID male 1\n",
      "IRIS UNIMI author ID female 1\n",
      "IRIS POLIBA author ID female 1\n",
      "IRIS UNIVPM author ID male 1\n",
      "KINENOTE person ID male 1\n",
      "OpenAlex ID female 1\n",
      "Renacyt ID female 1\n",
      "HaBima Archive person ID male 1\n",
      "ArTS author ID female 1\n",
      "IxTheo authority ID non-binary 1\n",
      "👻\n"
     ]
    }
   ],
   "source": [
    "#Note: I have tried to do the totals using the same code as the personal relationships, just changing to type of property\n",
    "#but it doesn't work!!! It times out. Idk why??? also the viaf doesn't match the above: why?\n",
    "\n",
    "from SPARQLWrapper import SPARQLWrapper, JSON\n",
    "import ssl\n",
    "\n",
    "ssl._create_default_https_context = ssl._create_unverified_context\n",
    "\n",
    "# get the endpoint API\n",
    "wikidata_endpoint = \"https://query.wikidata.org/bigdata/namespace/wdq/sparql\"\n",
    "\n",
    "# prepare the query\n",
    "my_SPARQL_query = \"\"\"\n",
    "# Make a list of the most used authority control properties for people for art historians by gender\n",
    "SELECT ?propertyLabel ?genderLabel ?count WHERE {\n",
    "  {\n",
    "    select distinct?gender ?propertyclaim (COUNT(*) AS ?count) where {\n",
    "      ?item wdt:P106/wdt:P279* wd:Q1792450  .\n",
    "      ?item wdt:P31 wd:Q5 .\n",
    "      ?item wdt:P21 ?gender .\n",
    "      ?item ?propertyclaim [] .\n",
    "    } group by ?propertyclaim ?gender\n",
    "  }\n",
    "  ?property wikibase:propertyType wikibase:ExternalId .\n",
    "  ?property wdt:P31 wd:Q19595382 .\n",
    "  ?property wikibase:claim ?propertyclaim .\n",
    "  SERVICE wikibase:label {            # ... include the labels\n",
    "    bd:serviceParam wikibase:language \"en\" .\n",
    "  }\n",
    "} ORDER BY DESC (?count)\n",
    "#LIMIT 100\n",
    "\"\"\"\n",
    "# set the endpoint \n",
    "sparql_wd = SPARQLWrapper(wikidata_endpoint)\n",
    "# set the query\n",
    "sparql_wd.setQuery(my_SPARQL_query)\n",
    "# set the returned format\n",
    "sparql_wd.setReturnFormat(JSON)\n",
    "# get the results\n",
    "results = sparql_wd.query().convert()\n",
    "\n",
    "# manipulate the result\n",
    "for result in results[\"results\"][\"bindings\"]:\n",
    "    print(result[\"propertyLabel\"][\"value\"], result[\"genderLabel\"][\"value\"], result[\"count\"][\"value\"])\n",
    "print(\"👻\")"
   ]
  },
  {
   "cell_type": "markdown",
   "id": "2aca7f5e",
   "metadata": {},
   "source": [
    "### Phase 3: Professions and Occupations"
   ]
  },
  {
   "cell_type": "markdown",
   "id": "47c2b7b9",
   "metadata": {},
   "source": [
    "Total number of other jobs"
   ]
  },
  {
   "cell_type": "code",
   "execution_count": 59,
   "id": "8459e652",
   "metadata": {
    "scrolled": true
   },
   "outputs": [],
   "source": [
    "from SPARQLWrapper import SPARQLWrapper, JSON\n",
    "import ssl\n",
    "\n",
    "ssl._create_default_https_context = ssl._create_unverified_context\n",
    "\n",
    "# get the endpoint API\n",
    "wikidata_endpoint = \"https://query.wikidata.org/bigdata/namespace/wdq/sparql\"\n",
    "\n",
    "# prepare the query\n",
    "number_jobs = \"\"\"\n",
    "SELECT ?genderLabel (COUNT(?job) AS ?count_job)\n",
    "WHERE \n",
    "{ \n",
    "\n",
    "  ?human wdt:P21 ?gender\n",
    "  ; wdt:P106 wd:Q1792450\n",
    "  ; wdt:P106 ?job\n",
    "  SERVICE wikibase:label { bd:serviceParam wikibase:language \"[AUTO_LANGUAGE],en\". }\n",
    "\n",
    "}\n",
    "GROUP BY ?genderLabel\n",
    "\"\"\"\n",
    "# set the endpoint \n",
    "sparql_wd = SPARQLWrapper(wikidata_endpoint)\n",
    "# set the query\n",
    "sparql_wd.setQuery(number_jobs)\n",
    "# set the returned format\n",
    "sparql_wd.setReturnFormat(JSON)\n",
    "# get the results\n",
    "results = sparql_wd.query().convert()\n"
   ]
  },
  {
   "cell_type": "markdown",
   "id": "5193721e",
   "metadata": {},
   "source": [
    "Data Manipulation"
   ]
  },
  {
   "cell_type": "code",
   "execution_count": 64,
   "id": "75fe5ff5",
   "metadata": {},
   "outputs": [
    {
     "name": "stdout",
     "output_type": "stream",
     "text": [
      "       Gender  Total Jobs  Total Art Historian  Real Jobs\n",
      "1        male       27562                11761  18.544409\n",
      "2      female       11078                 5881  22.058224\n",
      "3  non-binary           7                    2   0.571429\n"
     ]
    }
   ],
   "source": [
    "#Create CSV\n",
    "\n",
    "with open('overview_jobs.csv', mode='w') as my_file:\n",
    "    my_writer = csv.writer(my_file, delimiter=',', quotechar='\"', quoting=csv.QUOTE_ALL)\n",
    "    my_writer.writerow([\"Gender\", \"Total Jobs\"])\n",
    "    for result in results[\"results\"][\"bindings\"]:\n",
    "        my_writer.writerow([result[\"genderLabel\"][\"value\"], result[\"count_job\"][\"value\"].strip()])\n",
    "        \n",
    "\n",
    "\n",
    "dfo = pd.read_csv(\"overview_jobs.csv\")\n",
    "\n",
    "dfo.index = [\n",
    "    \"1\",\n",
    "    \"2\",\n",
    "    \"3\"\n",
    "]\n",
    "\n",
    "Total= pd.Series(\n",
    "    [men, women, nb],\n",
    "    index=['1', '2', '3'],\n",
    "    name='Total'\n",
    ")\n",
    "\n",
    "dfo['Total Art Historian'] = Total \n",
    "\n",
    "#avarage number of job per Art Historian by gender\n",
    "\n",
    "avarage_job = dfo['Total Jobs']/dfo['Total Art Historian']\n",
    "\n",
    "\n",
    "Final_Value= (dfo['Total Art Historian'] / avarage_job)%100\n",
    "\n",
    "\n",
    "dfo['Real Jobs'] = Final_Value\n",
    "\n",
    "print(dfo)\n",
    "\n",
    "\n"
   ]
  },
  {
   "cell_type": "code",
   "execution_count": 65,
   "id": "c765a4d8",
   "metadata": {},
   "outputs": [
    {
     "name": "stderr",
     "output_type": "stream",
     "text": [
      "/var/folders/fp/bdggy5097w1flgrpjrjcqj4h0000gn/T/ipykernel_6459/1478660625.py:40: UserWarning:\n",
      "\n",
      "Matplotlib is currently using agg, which is a non-GUI backend, so cannot show the figure.\n",
      "\n"
     ]
    }
   ],
   "source": [
    "# Importing required libraries\n",
    "import numpy as np\n",
    "import pandas as pd\n",
    "import matplotlib.pyplot as plt\n",
    "\n",
    "Pie1 = dfo['Total Art Historian']\n",
    "\n",
    "Pie2 = dfo['Real Jobs']\n",
    "\n",
    "# Setting figure colors\n",
    "cmap = plt.get_cmap(\"Pastel1\")\n",
    "outer_colors = cmap(np.arange(3)*7)\n",
    "inner_colors = cmap(np.array([2,5,9]))\n",
    "\n",
    "# Setting the size of the figure\n",
    "plt.figure(figsize=(8,6))\n",
    "\n",
    "# Plotting the outer pie\n",
    "plt.pie(Pie1 , labels = df.iloc[0:3, 0], startangle=90, pctdistance =0.88 ,colors=outer_colors, autopct = '%1.1f%%', radius= 1.0, labeldistance=1.05,\n",
    "       textprops ={ 'fontweight': 'bold','fontsize':13}, wedgeprops = {'linewidth' : 3, 'edgecolor' : \"w\" } )\n",
    "\n",
    "# PLotting the inner pie\n",
    "plt.pie(Pie2,startangle=90, pctdistance =0.85,colors=inner_colors, autopct = '%1.1f%%',radius= 0.60,textprops ={'fontweight': 'bold' ,'fontsize':13}, \n",
    "        wedgeprops = {'linewidth' : 3, 'edgecolor' : \"w\" } )\n",
    "\n",
    "# Creating the donut shape for the pie\n",
    "centre_circle = plt.Circle((0,0), 0.25, fc='white')\n",
    "fig= plt.gcf()\n",
    "fig.gca().add_artist(centre_circle) # adding the centre circle\n",
    "\n",
    "# Plotting the pie \n",
    "plt.axis('equal')  # equal aspect ratio\n",
    "plt.legend( loc=3, fontsize =15)\n",
    "plt.tight_layout()\n",
    "plt.show()"
   ]
  },
  {
   "cell_type": "markdown",
   "id": "f10b4536",
   "metadata": {},
   "source": [
    "*I'm not sure about this visualization, maybe I did something wrong in the data manipulation part. Additonally the inner pie looks weird and has no legend. I leave it here but we can delete it later.*\n"
   ]
  },
  {
   "cell_type": "markdown",
   "id": "f57d9ed5",
   "metadata": {},
   "source": [
    "Top jobs for Male Art Historian"
   ]
  },
  {
   "cell_type": "code",
   "execution_count": 32,
   "id": "c2c893d4",
   "metadata": {},
   "outputs": [],
   "source": [
    "#QUERY MALE\n",
    "from SPARQLWrapper import SPARQLWrapper, JSON, GET, POST, CSV\n",
    "import csv \n",
    "import pandas as pd\n",
    "import requests\n",
    "import json\n",
    "import ssl\n",
    "import numpy as np\n",
    "import pandas as pd\n",
    "import string\n",
    "import networkx as nx\n",
    "import matplotlib.pyplot as plt\n",
    "import ssl\n",
    "import plotly.express as px\n",
    "\n",
    "ssl._create_default_https_context = ssl._create_unverified_context\n",
    "\n",
    "# get the endpoint API\n",
    "wikidata_endpoint = \"https://query.wikidata.org/bigdata/namespace/wdq/sparql\"\n",
    "\n",
    "# prepare the query\n",
    "male_job_list = \"\"\"\n",
    "\n",
    "SELECT ?jobLabel (COUNT(?human) AS ?tot)\n",
    "\n",
    "WHERE \n",
    "{ \n",
    "  ?human wdt:P21 wd:Q6581097\n",
    "  ; wdt:P106 wd:Q1792450\n",
    "  ; wdt:P106 ?job\n",
    "  SERVICE wikibase:label { bd:serviceParam wikibase:language \"[AUTO_LANGUAGE],en\". }\n",
    "}\n",
    "GROUP BY ?jobLabel \n",
    "ORDER BY DESC(?tot)\n",
    "LIMIT 21\n",
    "\"\"\"\n",
    "\n",
    "# set the endpoint \n",
    "sparql_wd = SPARQLWrapper(wikidata_endpoint)\n",
    "# set the query\n",
    "sparql_wd.setQuery(male_job_list)\n",
    "# set the returned format\n",
    "sparql_wd.setReturnFormat(JSON)\n",
    "# get the results\n",
    "male_job_list_result = sparql_wd.query().convert()\n"
   ]
  },
  {
   "cell_type": "code",
   "execution_count": 51,
   "id": "99ddabc4",
   "metadata": {},
   "outputs": [
    {
     "data": {
      "text/html": [
       "<div>\n",
       "<style scoped>\n",
       "    .dataframe tbody tr th:only-of-type {\n",
       "        vertical-align: middle;\n",
       "    }\n",
       "\n",
       "    .dataframe tbody tr th {\n",
       "        vertical-align: top;\n",
       "    }\n",
       "\n",
       "    .dataframe thead th {\n",
       "        text-align: right;\n",
       "    }\n",
       "</style>\n",
       "<table border=\"1\" class=\"dataframe\">\n",
       "  <thead>\n",
       "    <tr style=\"text-align: right;\">\n",
       "      <th></th>\n",
       "      <th>Job</th>\n",
       "      <th>Total</th>\n",
       "      <th>Percentage</th>\n",
       "    </tr>\n",
       "  </thead>\n",
       "  <tbody>\n",
       "    <tr>\n",
       "      <th>1</th>\n",
       "      <td>university teacher</td>\n",
       "      <td>1804</td>\n",
       "      <td>10.22</td>\n",
       "    </tr>\n",
       "    <tr>\n",
       "      <th>2</th>\n",
       "      <td>writer</td>\n",
       "      <td>1057</td>\n",
       "      <td>5.99</td>\n",
       "    </tr>\n",
       "    <tr>\n",
       "      <th>3</th>\n",
       "      <td>archaeologist</td>\n",
       "      <td>1032</td>\n",
       "      <td>5.85</td>\n",
       "    </tr>\n",
       "    <tr>\n",
       "      <th>4</th>\n",
       "      <td>historian</td>\n",
       "      <td>1003</td>\n",
       "      <td>5.68</td>\n",
       "    </tr>\n",
       "    <tr>\n",
       "      <th>5</th>\n",
       "      <td>painter</td>\n",
       "      <td>640</td>\n",
       "      <td>3.63</td>\n",
       "    </tr>\n",
       "    <tr>\n",
       "      <th>6</th>\n",
       "      <td>curator</td>\n",
       "      <td>553</td>\n",
       "      <td>3.13</td>\n",
       "    </tr>\n",
       "    <tr>\n",
       "      <th>7</th>\n",
       "      <td>art critic</td>\n",
       "      <td>498</td>\n",
       "      <td>2.82</td>\n",
       "    </tr>\n",
       "    <tr>\n",
       "      <th>8</th>\n",
       "      <td>exhibition curator</td>\n",
       "      <td>415</td>\n",
       "      <td>2.35</td>\n",
       "    </tr>\n",
       "    <tr>\n",
       "      <th>9</th>\n",
       "      <td>journalist</td>\n",
       "      <td>385</td>\n",
       "      <td>2.18</td>\n",
       "    </tr>\n",
       "    <tr>\n",
       "      <th>10</th>\n",
       "      <td>teacher</td>\n",
       "      <td>377</td>\n",
       "      <td>2.14</td>\n",
       "    </tr>\n",
       "    <tr>\n",
       "      <th>11</th>\n",
       "      <td>architect</td>\n",
       "      <td>355</td>\n",
       "      <td>2.01</td>\n",
       "    </tr>\n",
       "    <tr>\n",
       "      <th>12</th>\n",
       "      <td>museum director</td>\n",
       "      <td>311</td>\n",
       "      <td>1.76</td>\n",
       "    </tr>\n",
       "    <tr>\n",
       "      <th>13</th>\n",
       "      <td>anthropologist</td>\n",
       "      <td>258</td>\n",
       "      <td>1.46</td>\n",
       "    </tr>\n",
       "    <tr>\n",
       "      <th>14</th>\n",
       "      <td>poet</td>\n",
       "      <td>237</td>\n",
       "      <td>1.34</td>\n",
       "    </tr>\n",
       "    <tr>\n",
       "      <th>15</th>\n",
       "      <td>architectural historian</td>\n",
       "      <td>236</td>\n",
       "      <td>1.34</td>\n",
       "    </tr>\n",
       "    <tr>\n",
       "      <th>16</th>\n",
       "      <td>art collector</td>\n",
       "      <td>209</td>\n",
       "      <td>1.18</td>\n",
       "    </tr>\n",
       "    <tr>\n",
       "      <th>17</th>\n",
       "      <td>translator</td>\n",
       "      <td>208</td>\n",
       "      <td>1.18</td>\n",
       "    </tr>\n",
       "    <tr>\n",
       "      <th>18</th>\n",
       "      <td>opinion journalist</td>\n",
       "      <td>206</td>\n",
       "      <td>1.17</td>\n",
       "    </tr>\n",
       "    <tr>\n",
       "      <th>19</th>\n",
       "      <td>author</td>\n",
       "      <td>204</td>\n",
       "      <td>1.16</td>\n",
       "    </tr>\n",
       "    <tr>\n",
       "      <th>20</th>\n",
       "      <td>politician</td>\n",
       "      <td>194</td>\n",
       "      <td>1.10</td>\n",
       "    </tr>\n",
       "  </tbody>\n",
       "</table>\n",
       "</div>"
      ],
      "text/plain": [
       "                        Job  Total  Percentage\n",
       "1        university teacher   1804       10.22\n",
       "2                    writer   1057        5.99\n",
       "3             archaeologist   1032        5.85\n",
       "4                 historian   1003        5.68\n",
       "5                   painter    640        3.63\n",
       "6                   curator    553        3.13\n",
       "7                art critic    498        2.82\n",
       "8        exhibition curator    415        2.35\n",
       "9                journalist    385        2.18\n",
       "10                  teacher    377        2.14\n",
       "11                architect    355        2.01\n",
       "12          museum director    311        1.76\n",
       "13           anthropologist    258        1.46\n",
       "14                     poet    237        1.34\n",
       "15  architectural historian    236        1.34\n",
       "16            art collector    209        1.18\n",
       "17               translator    208        1.18\n",
       "18       opinion journalist    206        1.17\n",
       "19                   author    204        1.16\n",
       "20               politician    194        1.10"
      ]
     },
     "execution_count": 51,
     "metadata": {},
     "output_type": "execute_result"
    }
   ],
   "source": [
    "from SPARQLWrapper import SPARQLWrapper, JSON, GET, POST, CSV\n",
    "import csv \n",
    "import ssl\n",
    "import pandas as pd\n",
    "import pandas_profiling as pp\n",
    "import plotly.express as px\n",
    "\n",
    "\n",
    "with open('male_jobs.csv', mode='w') as my_file:\n",
    "    my_writer = csv.writer(my_file, delimiter=',', quoting=csv.QUOTE_ALL)\n",
    "    # write the column names\n",
    "    my_writer.writerow(['Job', 'Total'])\n",
    "    for result in male_job_list_result [\"results\"][\"bindings\"]:\n",
    "        my_writer.writerow([result[\"jobLabel\"][\"value\"], result[\"tot\"][\"value\"].strip()])\n",
    "        \n",
    "\n",
    "\n",
    "# parse the csv into a dataframe\n",
    "df = pd.read_csv(\"male_jobs.csv\")\n",
    "\n",
    "# eliminate the 'art historian' row\n",
    "df= df.drop([0])\n",
    "\n",
    "percentage = (df['Total']/Tot_gender)*100\n",
    "\n",
    "    \n",
    "df['Percentage']= percentage\n",
    "\n",
    "df['Percentage']= df['Percentage'].round(decimals = 2)\n",
    "\n",
    "# print the first 10 rows\n",
    "df.head(20)\n",
    "\n",
    "\n",
    "            \n",
    "            "
   ]
  },
  {
   "cell_type": "markdown",
   "id": "8998d64d",
   "metadata": {},
   "source": [
    "##Visualization Male Job List"
   ]
  },
  {
   "cell_type": "code",
   "execution_count": 52,
   "id": "e2403648",
   "metadata": {},
   "outputs": [
    {
     "data": {
      "application/vnd.plotly.v1+json": {
       "config": {
        "plotlyServerURL": "https://plot.ly"
       },
       "data": [
        {
         "alignmentgroup": "True",
         "hovertemplate": "Job=%{y}<br>Percentage=%{x}<extra></extra>",
         "legendgroup": "university teacher",
         "marker": {
          "color": "#636efa",
          "pattern": {
           "shape": ""
          }
         },
         "name": "university teacher",
         "offsetgroup": "university teacher",
         "orientation": "h",
         "showlegend": true,
         "textposition": "auto",
         "type": "bar",
         "x": [
          10.22
         ],
         "xaxis": "x",
         "y": [
          "university teacher"
         ],
         "yaxis": "y"
        },
        {
         "alignmentgroup": "True",
         "hovertemplate": "Job=%{y}<br>Percentage=%{x}<extra></extra>",
         "legendgroup": "writer",
         "marker": {
          "color": "#EF553B",
          "pattern": {
           "shape": ""
          }
         },
         "name": "writer",
         "offsetgroup": "writer",
         "orientation": "h",
         "showlegend": true,
         "textposition": "auto",
         "type": "bar",
         "x": [
          5.99
         ],
         "xaxis": "x",
         "y": [
          "writer"
         ],
         "yaxis": "y"
        },
        {
         "alignmentgroup": "True",
         "hovertemplate": "Job=%{y}<br>Percentage=%{x}<extra></extra>",
         "legendgroup": "archaeologist",
         "marker": {
          "color": "#00cc96",
          "pattern": {
           "shape": ""
          }
         },
         "name": "archaeologist",
         "offsetgroup": "archaeologist",
         "orientation": "h",
         "showlegend": true,
         "textposition": "auto",
         "type": "bar",
         "x": [
          5.85
         ],
         "xaxis": "x",
         "y": [
          "archaeologist"
         ],
         "yaxis": "y"
        },
        {
         "alignmentgroup": "True",
         "hovertemplate": "Job=%{y}<br>Percentage=%{x}<extra></extra>",
         "legendgroup": "historian",
         "marker": {
          "color": "#ab63fa",
          "pattern": {
           "shape": ""
          }
         },
         "name": "historian",
         "offsetgroup": "historian",
         "orientation": "h",
         "showlegend": true,
         "textposition": "auto",
         "type": "bar",
         "x": [
          5.68
         ],
         "xaxis": "x",
         "y": [
          "historian"
         ],
         "yaxis": "y"
        },
        {
         "alignmentgroup": "True",
         "hovertemplate": "Job=%{y}<br>Percentage=%{x}<extra></extra>",
         "legendgroup": "painter",
         "marker": {
          "color": "#FFA15A",
          "pattern": {
           "shape": ""
          }
         },
         "name": "painter",
         "offsetgroup": "painter",
         "orientation": "h",
         "showlegend": true,
         "textposition": "auto",
         "type": "bar",
         "x": [
          3.63
         ],
         "xaxis": "x",
         "y": [
          "painter"
         ],
         "yaxis": "y"
        },
        {
         "alignmentgroup": "True",
         "hovertemplate": "Job=%{y}<br>Percentage=%{x}<extra></extra>",
         "legendgroup": "curator",
         "marker": {
          "color": "#19d3f3",
          "pattern": {
           "shape": ""
          }
         },
         "name": "curator",
         "offsetgroup": "curator",
         "orientation": "h",
         "showlegend": true,
         "textposition": "auto",
         "type": "bar",
         "x": [
          3.13
         ],
         "xaxis": "x",
         "y": [
          "curator"
         ],
         "yaxis": "y"
        },
        {
         "alignmentgroup": "True",
         "hovertemplate": "Job=%{y}<br>Percentage=%{x}<extra></extra>",
         "legendgroup": "art critic",
         "marker": {
          "color": "#FF6692",
          "pattern": {
           "shape": ""
          }
         },
         "name": "art critic",
         "offsetgroup": "art critic",
         "orientation": "h",
         "showlegend": true,
         "textposition": "auto",
         "type": "bar",
         "x": [
          2.82
         ],
         "xaxis": "x",
         "y": [
          "art critic"
         ],
         "yaxis": "y"
        },
        {
         "alignmentgroup": "True",
         "hovertemplate": "Job=%{y}<br>Percentage=%{x}<extra></extra>",
         "legendgroup": "exhibition curator",
         "marker": {
          "color": "#B6E880",
          "pattern": {
           "shape": ""
          }
         },
         "name": "exhibition curator",
         "offsetgroup": "exhibition curator",
         "orientation": "h",
         "showlegend": true,
         "textposition": "auto",
         "type": "bar",
         "x": [
          2.35
         ],
         "xaxis": "x",
         "y": [
          "exhibition curator"
         ],
         "yaxis": "y"
        },
        {
         "alignmentgroup": "True",
         "hovertemplate": "Job=%{y}<br>Percentage=%{x}<extra></extra>",
         "legendgroup": "journalist",
         "marker": {
          "color": "#FF97FF",
          "pattern": {
           "shape": ""
          }
         },
         "name": "journalist",
         "offsetgroup": "journalist",
         "orientation": "h",
         "showlegend": true,
         "textposition": "auto",
         "type": "bar",
         "x": [
          2.18
         ],
         "xaxis": "x",
         "y": [
          "journalist"
         ],
         "yaxis": "y"
        },
        {
         "alignmentgroup": "True",
         "hovertemplate": "Job=%{y}<br>Percentage=%{x}<extra></extra>",
         "legendgroup": "teacher",
         "marker": {
          "color": "#FECB52",
          "pattern": {
           "shape": ""
          }
         },
         "name": "teacher",
         "offsetgroup": "teacher",
         "orientation": "h",
         "showlegend": true,
         "textposition": "auto",
         "type": "bar",
         "x": [
          2.14
         ],
         "xaxis": "x",
         "y": [
          "teacher"
         ],
         "yaxis": "y"
        },
        {
         "alignmentgroup": "True",
         "hovertemplate": "Job=%{y}<br>Percentage=%{x}<extra></extra>",
         "legendgroup": "architect",
         "marker": {
          "color": "#636efa",
          "pattern": {
           "shape": ""
          }
         },
         "name": "architect",
         "offsetgroup": "architect",
         "orientation": "h",
         "showlegend": true,
         "textposition": "auto",
         "type": "bar",
         "x": [
          2.01
         ],
         "xaxis": "x",
         "y": [
          "architect"
         ],
         "yaxis": "y"
        },
        {
         "alignmentgroup": "True",
         "hovertemplate": "Job=%{y}<br>Percentage=%{x}<extra></extra>",
         "legendgroup": "museum director",
         "marker": {
          "color": "#EF553B",
          "pattern": {
           "shape": ""
          }
         },
         "name": "museum director",
         "offsetgroup": "museum director",
         "orientation": "h",
         "showlegend": true,
         "textposition": "auto",
         "type": "bar",
         "x": [
          1.76
         ],
         "xaxis": "x",
         "y": [
          "museum director"
         ],
         "yaxis": "y"
        },
        {
         "alignmentgroup": "True",
         "hovertemplate": "Job=%{y}<br>Percentage=%{x}<extra></extra>",
         "legendgroup": "anthropologist",
         "marker": {
          "color": "#00cc96",
          "pattern": {
           "shape": ""
          }
         },
         "name": "anthropologist",
         "offsetgroup": "anthropologist",
         "orientation": "h",
         "showlegend": true,
         "textposition": "auto",
         "type": "bar",
         "x": [
          1.46
         ],
         "xaxis": "x",
         "y": [
          "anthropologist"
         ],
         "yaxis": "y"
        },
        {
         "alignmentgroup": "True",
         "hovertemplate": "Job=%{y}<br>Percentage=%{x}<extra></extra>",
         "legendgroup": "poet",
         "marker": {
          "color": "#ab63fa",
          "pattern": {
           "shape": ""
          }
         },
         "name": "poet",
         "offsetgroup": "poet",
         "orientation": "h",
         "showlegend": true,
         "textposition": "auto",
         "type": "bar",
         "x": [
          1.34
         ],
         "xaxis": "x",
         "y": [
          "poet"
         ],
         "yaxis": "y"
        },
        {
         "alignmentgroup": "True",
         "hovertemplate": "Job=%{y}<br>Percentage=%{x}<extra></extra>",
         "legendgroup": "architectural historian",
         "marker": {
          "color": "#FFA15A",
          "pattern": {
           "shape": ""
          }
         },
         "name": "architectural historian",
         "offsetgroup": "architectural historian",
         "orientation": "h",
         "showlegend": true,
         "textposition": "auto",
         "type": "bar",
         "x": [
          1.34
         ],
         "xaxis": "x",
         "y": [
          "architectural historian"
         ],
         "yaxis": "y"
        },
        {
         "alignmentgroup": "True",
         "hovertemplate": "Job=%{y}<br>Percentage=%{x}<extra></extra>",
         "legendgroup": "art collector",
         "marker": {
          "color": "#19d3f3",
          "pattern": {
           "shape": ""
          }
         },
         "name": "art collector",
         "offsetgroup": "art collector",
         "orientation": "h",
         "showlegend": true,
         "textposition": "auto",
         "type": "bar",
         "x": [
          1.18
         ],
         "xaxis": "x",
         "y": [
          "art collector"
         ],
         "yaxis": "y"
        },
        {
         "alignmentgroup": "True",
         "hovertemplate": "Job=%{y}<br>Percentage=%{x}<extra></extra>",
         "legendgroup": "translator",
         "marker": {
          "color": "#FF6692",
          "pattern": {
           "shape": ""
          }
         },
         "name": "translator",
         "offsetgroup": "translator",
         "orientation": "h",
         "showlegend": true,
         "textposition": "auto",
         "type": "bar",
         "x": [
          1.18
         ],
         "xaxis": "x",
         "y": [
          "translator"
         ],
         "yaxis": "y"
        },
        {
         "alignmentgroup": "True",
         "hovertemplate": "Job=%{y}<br>Percentage=%{x}<extra></extra>",
         "legendgroup": "opinion journalist",
         "marker": {
          "color": "#B6E880",
          "pattern": {
           "shape": ""
          }
         },
         "name": "opinion journalist",
         "offsetgroup": "opinion journalist",
         "orientation": "h",
         "showlegend": true,
         "textposition": "auto",
         "type": "bar",
         "x": [
          1.17
         ],
         "xaxis": "x",
         "y": [
          "opinion journalist"
         ],
         "yaxis": "y"
        },
        {
         "alignmentgroup": "True",
         "hovertemplate": "Job=%{y}<br>Percentage=%{x}<extra></extra>",
         "legendgroup": "author",
         "marker": {
          "color": "#FF97FF",
          "pattern": {
           "shape": ""
          }
         },
         "name": "author",
         "offsetgroup": "author",
         "orientation": "h",
         "showlegend": true,
         "textposition": "auto",
         "type": "bar",
         "x": [
          1.16
         ],
         "xaxis": "x",
         "y": [
          "author"
         ],
         "yaxis": "y"
        },
        {
         "alignmentgroup": "True",
         "hovertemplate": "Job=%{y}<br>Percentage=%{x}<extra></extra>",
         "legendgroup": "politician",
         "marker": {
          "color": "#FECB52",
          "pattern": {
           "shape": ""
          }
         },
         "name": "politician",
         "offsetgroup": "politician",
         "orientation": "h",
         "showlegend": true,
         "textposition": "auto",
         "type": "bar",
         "x": [
          1.1
         ],
         "xaxis": "x",
         "y": [
          "politician"
         ],
         "yaxis": "y"
        }
       ],
       "layout": {
        "barmode": "relative",
        "legend": {
         "title": {
          "text": "Job"
         },
         "tracegroupgap": 0
        },
        "margin": {
         "t": 60
        },
        "showlegend": false,
        "template": {
         "data": {
          "bar": [
           {
            "error_x": {
             "color": "#2a3f5f"
            },
            "error_y": {
             "color": "#2a3f5f"
            },
            "marker": {
             "line": {
              "color": "#E5ECF6",
              "width": 0.5
             },
             "pattern": {
              "fillmode": "overlay",
              "size": 10,
              "solidity": 0.2
             }
            },
            "type": "bar"
           }
          ],
          "barpolar": [
           {
            "marker": {
             "line": {
              "color": "#E5ECF6",
              "width": 0.5
             },
             "pattern": {
              "fillmode": "overlay",
              "size": 10,
              "solidity": 0.2
             }
            },
            "type": "barpolar"
           }
          ],
          "carpet": [
           {
            "aaxis": {
             "endlinecolor": "#2a3f5f",
             "gridcolor": "white",
             "linecolor": "white",
             "minorgridcolor": "white",
             "startlinecolor": "#2a3f5f"
            },
            "baxis": {
             "endlinecolor": "#2a3f5f",
             "gridcolor": "white",
             "linecolor": "white",
             "minorgridcolor": "white",
             "startlinecolor": "#2a3f5f"
            },
            "type": "carpet"
           }
          ],
          "choropleth": [
           {
            "colorbar": {
             "outlinewidth": 0,
             "ticks": ""
            },
            "type": "choropleth"
           }
          ],
          "contour": [
           {
            "colorbar": {
             "outlinewidth": 0,
             "ticks": ""
            },
            "colorscale": [
             [
              0,
              "#0d0887"
             ],
             [
              0.1111111111111111,
              "#46039f"
             ],
             [
              0.2222222222222222,
              "#7201a8"
             ],
             [
              0.3333333333333333,
              "#9c179e"
             ],
             [
              0.4444444444444444,
              "#bd3786"
             ],
             [
              0.5555555555555556,
              "#d8576b"
             ],
             [
              0.6666666666666666,
              "#ed7953"
             ],
             [
              0.7777777777777778,
              "#fb9f3a"
             ],
             [
              0.8888888888888888,
              "#fdca26"
             ],
             [
              1,
              "#f0f921"
             ]
            ],
            "type": "contour"
           }
          ],
          "contourcarpet": [
           {
            "colorbar": {
             "outlinewidth": 0,
             "ticks": ""
            },
            "type": "contourcarpet"
           }
          ],
          "heatmap": [
           {
            "colorbar": {
             "outlinewidth": 0,
             "ticks": ""
            },
            "colorscale": [
             [
              0,
              "#0d0887"
             ],
             [
              0.1111111111111111,
              "#46039f"
             ],
             [
              0.2222222222222222,
              "#7201a8"
             ],
             [
              0.3333333333333333,
              "#9c179e"
             ],
             [
              0.4444444444444444,
              "#bd3786"
             ],
             [
              0.5555555555555556,
              "#d8576b"
             ],
             [
              0.6666666666666666,
              "#ed7953"
             ],
             [
              0.7777777777777778,
              "#fb9f3a"
             ],
             [
              0.8888888888888888,
              "#fdca26"
             ],
             [
              1,
              "#f0f921"
             ]
            ],
            "type": "heatmap"
           }
          ],
          "heatmapgl": [
           {
            "colorbar": {
             "outlinewidth": 0,
             "ticks": ""
            },
            "colorscale": [
             [
              0,
              "#0d0887"
             ],
             [
              0.1111111111111111,
              "#46039f"
             ],
             [
              0.2222222222222222,
              "#7201a8"
             ],
             [
              0.3333333333333333,
              "#9c179e"
             ],
             [
              0.4444444444444444,
              "#bd3786"
             ],
             [
              0.5555555555555556,
              "#d8576b"
             ],
             [
              0.6666666666666666,
              "#ed7953"
             ],
             [
              0.7777777777777778,
              "#fb9f3a"
             ],
             [
              0.8888888888888888,
              "#fdca26"
             ],
             [
              1,
              "#f0f921"
             ]
            ],
            "type": "heatmapgl"
           }
          ],
          "histogram": [
           {
            "marker": {
             "pattern": {
              "fillmode": "overlay",
              "size": 10,
              "solidity": 0.2
             }
            },
            "type": "histogram"
           }
          ],
          "histogram2d": [
           {
            "colorbar": {
             "outlinewidth": 0,
             "ticks": ""
            },
            "colorscale": [
             [
              0,
              "#0d0887"
             ],
             [
              0.1111111111111111,
              "#46039f"
             ],
             [
              0.2222222222222222,
              "#7201a8"
             ],
             [
              0.3333333333333333,
              "#9c179e"
             ],
             [
              0.4444444444444444,
              "#bd3786"
             ],
             [
              0.5555555555555556,
              "#d8576b"
             ],
             [
              0.6666666666666666,
              "#ed7953"
             ],
             [
              0.7777777777777778,
              "#fb9f3a"
             ],
             [
              0.8888888888888888,
              "#fdca26"
             ],
             [
              1,
              "#f0f921"
             ]
            ],
            "type": "histogram2d"
           }
          ],
          "histogram2dcontour": [
           {
            "colorbar": {
             "outlinewidth": 0,
             "ticks": ""
            },
            "colorscale": [
             [
              0,
              "#0d0887"
             ],
             [
              0.1111111111111111,
              "#46039f"
             ],
             [
              0.2222222222222222,
              "#7201a8"
             ],
             [
              0.3333333333333333,
              "#9c179e"
             ],
             [
              0.4444444444444444,
              "#bd3786"
             ],
             [
              0.5555555555555556,
              "#d8576b"
             ],
             [
              0.6666666666666666,
              "#ed7953"
             ],
             [
              0.7777777777777778,
              "#fb9f3a"
             ],
             [
              0.8888888888888888,
              "#fdca26"
             ],
             [
              1,
              "#f0f921"
             ]
            ],
            "type": "histogram2dcontour"
           }
          ],
          "mesh3d": [
           {
            "colorbar": {
             "outlinewidth": 0,
             "ticks": ""
            },
            "type": "mesh3d"
           }
          ],
          "parcoords": [
           {
            "line": {
             "colorbar": {
              "outlinewidth": 0,
              "ticks": ""
             }
            },
            "type": "parcoords"
           }
          ],
          "pie": [
           {
            "automargin": true,
            "type": "pie"
           }
          ],
          "scatter": [
           {
            "fillpattern": {
             "fillmode": "overlay",
             "size": 10,
             "solidity": 0.2
            },
            "type": "scatter"
           }
          ],
          "scatter3d": [
           {
            "line": {
             "colorbar": {
              "outlinewidth": 0,
              "ticks": ""
             }
            },
            "marker": {
             "colorbar": {
              "outlinewidth": 0,
              "ticks": ""
             }
            },
            "type": "scatter3d"
           }
          ],
          "scattercarpet": [
           {
            "marker": {
             "colorbar": {
              "outlinewidth": 0,
              "ticks": ""
             }
            },
            "type": "scattercarpet"
           }
          ],
          "scattergeo": [
           {
            "marker": {
             "colorbar": {
              "outlinewidth": 0,
              "ticks": ""
             }
            },
            "type": "scattergeo"
           }
          ],
          "scattergl": [
           {
            "marker": {
             "colorbar": {
              "outlinewidth": 0,
              "ticks": ""
             }
            },
            "type": "scattergl"
           }
          ],
          "scattermapbox": [
           {
            "marker": {
             "colorbar": {
              "outlinewidth": 0,
              "ticks": ""
             }
            },
            "type": "scattermapbox"
           }
          ],
          "scatterpolar": [
           {
            "marker": {
             "colorbar": {
              "outlinewidth": 0,
              "ticks": ""
             }
            },
            "type": "scatterpolar"
           }
          ],
          "scatterpolargl": [
           {
            "marker": {
             "colorbar": {
              "outlinewidth": 0,
              "ticks": ""
             }
            },
            "type": "scatterpolargl"
           }
          ],
          "scatterternary": [
           {
            "marker": {
             "colorbar": {
              "outlinewidth": 0,
              "ticks": ""
             }
            },
            "type": "scatterternary"
           }
          ],
          "surface": [
           {
            "colorbar": {
             "outlinewidth": 0,
             "ticks": ""
            },
            "colorscale": [
             [
              0,
              "#0d0887"
             ],
             [
              0.1111111111111111,
              "#46039f"
             ],
             [
              0.2222222222222222,
              "#7201a8"
             ],
             [
              0.3333333333333333,
              "#9c179e"
             ],
             [
              0.4444444444444444,
              "#bd3786"
             ],
             [
              0.5555555555555556,
              "#d8576b"
             ],
             [
              0.6666666666666666,
              "#ed7953"
             ],
             [
              0.7777777777777778,
              "#fb9f3a"
             ],
             [
              0.8888888888888888,
              "#fdca26"
             ],
             [
              1,
              "#f0f921"
             ]
            ],
            "type": "surface"
           }
          ],
          "table": [
           {
            "cells": {
             "fill": {
              "color": "#EBF0F8"
             },
             "line": {
              "color": "white"
             }
            },
            "header": {
             "fill": {
              "color": "#C8D4E3"
             },
             "line": {
              "color": "white"
             }
            },
            "type": "table"
           }
          ]
         },
         "layout": {
          "annotationdefaults": {
           "arrowcolor": "#2a3f5f",
           "arrowhead": 0,
           "arrowwidth": 1
          },
          "autotypenumbers": "strict",
          "coloraxis": {
           "colorbar": {
            "outlinewidth": 0,
            "ticks": ""
           }
          },
          "colorscale": {
           "diverging": [
            [
             0,
             "#8e0152"
            ],
            [
             0.1,
             "#c51b7d"
            ],
            [
             0.2,
             "#de77ae"
            ],
            [
             0.3,
             "#f1b6da"
            ],
            [
             0.4,
             "#fde0ef"
            ],
            [
             0.5,
             "#f7f7f7"
            ],
            [
             0.6,
             "#e6f5d0"
            ],
            [
             0.7,
             "#b8e186"
            ],
            [
             0.8,
             "#7fbc41"
            ],
            [
             0.9,
             "#4d9221"
            ],
            [
             1,
             "#276419"
            ]
           ],
           "sequential": [
            [
             0,
             "#0d0887"
            ],
            [
             0.1111111111111111,
             "#46039f"
            ],
            [
             0.2222222222222222,
             "#7201a8"
            ],
            [
             0.3333333333333333,
             "#9c179e"
            ],
            [
             0.4444444444444444,
             "#bd3786"
            ],
            [
             0.5555555555555556,
             "#d8576b"
            ],
            [
             0.6666666666666666,
             "#ed7953"
            ],
            [
             0.7777777777777778,
             "#fb9f3a"
            ],
            [
             0.8888888888888888,
             "#fdca26"
            ],
            [
             1,
             "#f0f921"
            ]
           ],
           "sequentialminus": [
            [
             0,
             "#0d0887"
            ],
            [
             0.1111111111111111,
             "#46039f"
            ],
            [
             0.2222222222222222,
             "#7201a8"
            ],
            [
             0.3333333333333333,
             "#9c179e"
            ],
            [
             0.4444444444444444,
             "#bd3786"
            ],
            [
             0.5555555555555556,
             "#d8576b"
            ],
            [
             0.6666666666666666,
             "#ed7953"
            ],
            [
             0.7777777777777778,
             "#fb9f3a"
            ],
            [
             0.8888888888888888,
             "#fdca26"
            ],
            [
             1,
             "#f0f921"
            ]
           ]
          },
          "colorway": [
           "#636efa",
           "#EF553B",
           "#00cc96",
           "#ab63fa",
           "#FFA15A",
           "#19d3f3",
           "#FF6692",
           "#B6E880",
           "#FF97FF",
           "#FECB52"
          ],
          "font": {
           "color": "#2a3f5f"
          },
          "geo": {
           "bgcolor": "white",
           "lakecolor": "white",
           "landcolor": "#E5ECF6",
           "showlakes": true,
           "showland": true,
           "subunitcolor": "white"
          },
          "hoverlabel": {
           "align": "left"
          },
          "hovermode": "closest",
          "mapbox": {
           "style": "light"
          },
          "paper_bgcolor": "white",
          "plot_bgcolor": "#E5ECF6",
          "polar": {
           "angularaxis": {
            "gridcolor": "white",
            "linecolor": "white",
            "ticks": ""
           },
           "bgcolor": "#E5ECF6",
           "radialaxis": {
            "gridcolor": "white",
            "linecolor": "white",
            "ticks": ""
           }
          },
          "scene": {
           "xaxis": {
            "backgroundcolor": "#E5ECF6",
            "gridcolor": "white",
            "gridwidth": 2,
            "linecolor": "white",
            "showbackground": true,
            "ticks": "",
            "zerolinecolor": "white"
           },
           "yaxis": {
            "backgroundcolor": "#E5ECF6",
            "gridcolor": "white",
            "gridwidth": 2,
            "linecolor": "white",
            "showbackground": true,
            "ticks": "",
            "zerolinecolor": "white"
           },
           "zaxis": {
            "backgroundcolor": "#E5ECF6",
            "gridcolor": "white",
            "gridwidth": 2,
            "linecolor": "white",
            "showbackground": true,
            "ticks": "",
            "zerolinecolor": "white"
           }
          },
          "shapedefaults": {
           "line": {
            "color": "#2a3f5f"
           }
          },
          "ternary": {
           "aaxis": {
            "gridcolor": "white",
            "linecolor": "white",
            "ticks": ""
           },
           "baxis": {
            "gridcolor": "white",
            "linecolor": "white",
            "ticks": ""
           },
           "bgcolor": "#E5ECF6",
           "caxis": {
            "gridcolor": "white",
            "linecolor": "white",
            "ticks": ""
           }
          },
          "title": {
           "x": 0.05
          },
          "xaxis": {
           "automargin": true,
           "gridcolor": "white",
           "linecolor": "white",
           "ticks": "",
           "title": {
            "standoff": 15
           },
           "zerolinecolor": "white",
           "zerolinewidth": 2
          },
          "yaxis": {
           "automargin": true,
           "gridcolor": "white",
           "linecolor": "white",
           "ticks": "",
           "title": {
            "standoff": 15
           },
           "zerolinecolor": "white",
           "zerolinewidth": 2
          }
         }
        },
        "xaxis": {
         "anchor": "y",
         "domain": [
          0,
          1
         ],
         "title": {
          "text": "Percentage"
         }
        },
        "yaxis": {
         "anchor": "x",
         "categoryarray": [
          "politician",
          "author",
          "opinion journalist",
          "translator",
          "art collector",
          "architectural historian",
          "poet",
          "anthropologist",
          "museum director",
          "architect",
          "teacher",
          "journalist",
          "exhibition curator",
          "art critic",
          "curator",
          "painter",
          "historian",
          "archaeologist",
          "writer",
          "university teacher"
         ],
         "categoryorder": "array",
         "domain": [
          0,
          1
         ],
         "title": {
          "text": "Job"
         }
        }
       }
      },
      "text/html": [
       "<div>                            <div id=\"1fc643fb-4f32-4414-9d4e-f082da305338\" class=\"plotly-graph-div\" style=\"height:525px; width:100%;\"></div>            <script type=\"text/javascript\">                require([\"plotly\"], function(Plotly) {                    window.PLOTLYENV=window.PLOTLYENV || {};                                    if (document.getElementById(\"1fc643fb-4f32-4414-9d4e-f082da305338\")) {                    Plotly.newPlot(                        \"1fc643fb-4f32-4414-9d4e-f082da305338\",                        [{\"alignmentgroup\":\"True\",\"hovertemplate\":\"Job=%{y}<br>Percentage=%{x}<extra></extra>\",\"legendgroup\":\"university teacher\",\"marker\":{\"color\":\"#636efa\",\"pattern\":{\"shape\":\"\"}},\"name\":\"university teacher\",\"offsetgroup\":\"university teacher\",\"orientation\":\"h\",\"showlegend\":true,\"textposition\":\"auto\",\"x\":[10.22],\"xaxis\":\"x\",\"y\":[\"university teacher\"],\"yaxis\":\"y\",\"type\":\"bar\"},{\"alignmentgroup\":\"True\",\"hovertemplate\":\"Job=%{y}<br>Percentage=%{x}<extra></extra>\",\"legendgroup\":\"writer\",\"marker\":{\"color\":\"#EF553B\",\"pattern\":{\"shape\":\"\"}},\"name\":\"writer\",\"offsetgroup\":\"writer\",\"orientation\":\"h\",\"showlegend\":true,\"textposition\":\"auto\",\"x\":[5.99],\"xaxis\":\"x\",\"y\":[\"writer\"],\"yaxis\":\"y\",\"type\":\"bar\"},{\"alignmentgroup\":\"True\",\"hovertemplate\":\"Job=%{y}<br>Percentage=%{x}<extra></extra>\",\"legendgroup\":\"archaeologist\",\"marker\":{\"color\":\"#00cc96\",\"pattern\":{\"shape\":\"\"}},\"name\":\"archaeologist\",\"offsetgroup\":\"archaeologist\",\"orientation\":\"h\",\"showlegend\":true,\"textposition\":\"auto\",\"x\":[5.85],\"xaxis\":\"x\",\"y\":[\"archaeologist\"],\"yaxis\":\"y\",\"type\":\"bar\"},{\"alignmentgroup\":\"True\",\"hovertemplate\":\"Job=%{y}<br>Percentage=%{x}<extra></extra>\",\"legendgroup\":\"historian\",\"marker\":{\"color\":\"#ab63fa\",\"pattern\":{\"shape\":\"\"}},\"name\":\"historian\",\"offsetgroup\":\"historian\",\"orientation\":\"h\",\"showlegend\":true,\"textposition\":\"auto\",\"x\":[5.68],\"xaxis\":\"x\",\"y\":[\"historian\"],\"yaxis\":\"y\",\"type\":\"bar\"},{\"alignmentgroup\":\"True\",\"hovertemplate\":\"Job=%{y}<br>Percentage=%{x}<extra></extra>\",\"legendgroup\":\"painter\",\"marker\":{\"color\":\"#FFA15A\",\"pattern\":{\"shape\":\"\"}},\"name\":\"painter\",\"offsetgroup\":\"painter\",\"orientation\":\"h\",\"showlegend\":true,\"textposition\":\"auto\",\"x\":[3.63],\"xaxis\":\"x\",\"y\":[\"painter\"],\"yaxis\":\"y\",\"type\":\"bar\"},{\"alignmentgroup\":\"True\",\"hovertemplate\":\"Job=%{y}<br>Percentage=%{x}<extra></extra>\",\"legendgroup\":\"curator\",\"marker\":{\"color\":\"#19d3f3\",\"pattern\":{\"shape\":\"\"}},\"name\":\"curator\",\"offsetgroup\":\"curator\",\"orientation\":\"h\",\"showlegend\":true,\"textposition\":\"auto\",\"x\":[3.13],\"xaxis\":\"x\",\"y\":[\"curator\"],\"yaxis\":\"y\",\"type\":\"bar\"},{\"alignmentgroup\":\"True\",\"hovertemplate\":\"Job=%{y}<br>Percentage=%{x}<extra></extra>\",\"legendgroup\":\"art critic\",\"marker\":{\"color\":\"#FF6692\",\"pattern\":{\"shape\":\"\"}},\"name\":\"art critic\",\"offsetgroup\":\"art critic\",\"orientation\":\"h\",\"showlegend\":true,\"textposition\":\"auto\",\"x\":[2.82],\"xaxis\":\"x\",\"y\":[\"art critic\"],\"yaxis\":\"y\",\"type\":\"bar\"},{\"alignmentgroup\":\"True\",\"hovertemplate\":\"Job=%{y}<br>Percentage=%{x}<extra></extra>\",\"legendgroup\":\"exhibition curator\",\"marker\":{\"color\":\"#B6E880\",\"pattern\":{\"shape\":\"\"}},\"name\":\"exhibition curator\",\"offsetgroup\":\"exhibition curator\",\"orientation\":\"h\",\"showlegend\":true,\"textposition\":\"auto\",\"x\":[2.35],\"xaxis\":\"x\",\"y\":[\"exhibition curator\"],\"yaxis\":\"y\",\"type\":\"bar\"},{\"alignmentgroup\":\"True\",\"hovertemplate\":\"Job=%{y}<br>Percentage=%{x}<extra></extra>\",\"legendgroup\":\"journalist\",\"marker\":{\"color\":\"#FF97FF\",\"pattern\":{\"shape\":\"\"}},\"name\":\"journalist\",\"offsetgroup\":\"journalist\",\"orientation\":\"h\",\"showlegend\":true,\"textposition\":\"auto\",\"x\":[2.18],\"xaxis\":\"x\",\"y\":[\"journalist\"],\"yaxis\":\"y\",\"type\":\"bar\"},{\"alignmentgroup\":\"True\",\"hovertemplate\":\"Job=%{y}<br>Percentage=%{x}<extra></extra>\",\"legendgroup\":\"teacher\",\"marker\":{\"color\":\"#FECB52\",\"pattern\":{\"shape\":\"\"}},\"name\":\"teacher\",\"offsetgroup\":\"teacher\",\"orientation\":\"h\",\"showlegend\":true,\"textposition\":\"auto\",\"x\":[2.14],\"xaxis\":\"x\",\"y\":[\"teacher\"],\"yaxis\":\"y\",\"type\":\"bar\"},{\"alignmentgroup\":\"True\",\"hovertemplate\":\"Job=%{y}<br>Percentage=%{x}<extra></extra>\",\"legendgroup\":\"architect\",\"marker\":{\"color\":\"#636efa\",\"pattern\":{\"shape\":\"\"}},\"name\":\"architect\",\"offsetgroup\":\"architect\",\"orientation\":\"h\",\"showlegend\":true,\"textposition\":\"auto\",\"x\":[2.01],\"xaxis\":\"x\",\"y\":[\"architect\"],\"yaxis\":\"y\",\"type\":\"bar\"},{\"alignmentgroup\":\"True\",\"hovertemplate\":\"Job=%{y}<br>Percentage=%{x}<extra></extra>\",\"legendgroup\":\"museum director\",\"marker\":{\"color\":\"#EF553B\",\"pattern\":{\"shape\":\"\"}},\"name\":\"museum director\",\"offsetgroup\":\"museum director\",\"orientation\":\"h\",\"showlegend\":true,\"textposition\":\"auto\",\"x\":[1.76],\"xaxis\":\"x\",\"y\":[\"museum director\"],\"yaxis\":\"y\",\"type\":\"bar\"},{\"alignmentgroup\":\"True\",\"hovertemplate\":\"Job=%{y}<br>Percentage=%{x}<extra></extra>\",\"legendgroup\":\"anthropologist\",\"marker\":{\"color\":\"#00cc96\",\"pattern\":{\"shape\":\"\"}},\"name\":\"anthropologist\",\"offsetgroup\":\"anthropologist\",\"orientation\":\"h\",\"showlegend\":true,\"textposition\":\"auto\",\"x\":[1.46],\"xaxis\":\"x\",\"y\":[\"anthropologist\"],\"yaxis\":\"y\",\"type\":\"bar\"},{\"alignmentgroup\":\"True\",\"hovertemplate\":\"Job=%{y}<br>Percentage=%{x}<extra></extra>\",\"legendgroup\":\"poet\",\"marker\":{\"color\":\"#ab63fa\",\"pattern\":{\"shape\":\"\"}},\"name\":\"poet\",\"offsetgroup\":\"poet\",\"orientation\":\"h\",\"showlegend\":true,\"textposition\":\"auto\",\"x\":[1.34],\"xaxis\":\"x\",\"y\":[\"poet\"],\"yaxis\":\"y\",\"type\":\"bar\"},{\"alignmentgroup\":\"True\",\"hovertemplate\":\"Job=%{y}<br>Percentage=%{x}<extra></extra>\",\"legendgroup\":\"architectural historian\",\"marker\":{\"color\":\"#FFA15A\",\"pattern\":{\"shape\":\"\"}},\"name\":\"architectural historian\",\"offsetgroup\":\"architectural historian\",\"orientation\":\"h\",\"showlegend\":true,\"textposition\":\"auto\",\"x\":[1.34],\"xaxis\":\"x\",\"y\":[\"architectural historian\"],\"yaxis\":\"y\",\"type\":\"bar\"},{\"alignmentgroup\":\"True\",\"hovertemplate\":\"Job=%{y}<br>Percentage=%{x}<extra></extra>\",\"legendgroup\":\"art collector\",\"marker\":{\"color\":\"#19d3f3\",\"pattern\":{\"shape\":\"\"}},\"name\":\"art collector\",\"offsetgroup\":\"art collector\",\"orientation\":\"h\",\"showlegend\":true,\"textposition\":\"auto\",\"x\":[1.18],\"xaxis\":\"x\",\"y\":[\"art collector\"],\"yaxis\":\"y\",\"type\":\"bar\"},{\"alignmentgroup\":\"True\",\"hovertemplate\":\"Job=%{y}<br>Percentage=%{x}<extra></extra>\",\"legendgroup\":\"translator\",\"marker\":{\"color\":\"#FF6692\",\"pattern\":{\"shape\":\"\"}},\"name\":\"translator\",\"offsetgroup\":\"translator\",\"orientation\":\"h\",\"showlegend\":true,\"textposition\":\"auto\",\"x\":[1.18],\"xaxis\":\"x\",\"y\":[\"translator\"],\"yaxis\":\"y\",\"type\":\"bar\"},{\"alignmentgroup\":\"True\",\"hovertemplate\":\"Job=%{y}<br>Percentage=%{x}<extra></extra>\",\"legendgroup\":\"opinion journalist\",\"marker\":{\"color\":\"#B6E880\",\"pattern\":{\"shape\":\"\"}},\"name\":\"opinion journalist\",\"offsetgroup\":\"opinion journalist\",\"orientation\":\"h\",\"showlegend\":true,\"textposition\":\"auto\",\"x\":[1.17],\"xaxis\":\"x\",\"y\":[\"opinion journalist\"],\"yaxis\":\"y\",\"type\":\"bar\"},{\"alignmentgroup\":\"True\",\"hovertemplate\":\"Job=%{y}<br>Percentage=%{x}<extra></extra>\",\"legendgroup\":\"author\",\"marker\":{\"color\":\"#FF97FF\",\"pattern\":{\"shape\":\"\"}},\"name\":\"author\",\"offsetgroup\":\"author\",\"orientation\":\"h\",\"showlegend\":true,\"textposition\":\"auto\",\"x\":[1.16],\"xaxis\":\"x\",\"y\":[\"author\"],\"yaxis\":\"y\",\"type\":\"bar\"},{\"alignmentgroup\":\"True\",\"hovertemplate\":\"Job=%{y}<br>Percentage=%{x}<extra></extra>\",\"legendgroup\":\"politician\",\"marker\":{\"color\":\"#FECB52\",\"pattern\":{\"shape\":\"\"}},\"name\":\"politician\",\"offsetgroup\":\"politician\",\"orientation\":\"h\",\"showlegend\":true,\"textposition\":\"auto\",\"x\":[1.1],\"xaxis\":\"x\",\"y\":[\"politician\"],\"yaxis\":\"y\",\"type\":\"bar\"}],                        {\"template\":{\"data\":{\"histogram2dcontour\":[{\"type\":\"histogram2dcontour\",\"colorbar\":{\"outlinewidth\":0,\"ticks\":\"\"},\"colorscale\":[[0.0,\"#0d0887\"],[0.1111111111111111,\"#46039f\"],[0.2222222222222222,\"#7201a8\"],[0.3333333333333333,\"#9c179e\"],[0.4444444444444444,\"#bd3786\"],[0.5555555555555556,\"#d8576b\"],[0.6666666666666666,\"#ed7953\"],[0.7777777777777778,\"#fb9f3a\"],[0.8888888888888888,\"#fdca26\"],[1.0,\"#f0f921\"]]}],\"choropleth\":[{\"type\":\"choropleth\",\"colorbar\":{\"outlinewidth\":0,\"ticks\":\"\"}}],\"histogram2d\":[{\"type\":\"histogram2d\",\"colorbar\":{\"outlinewidth\":0,\"ticks\":\"\"},\"colorscale\":[[0.0,\"#0d0887\"],[0.1111111111111111,\"#46039f\"],[0.2222222222222222,\"#7201a8\"],[0.3333333333333333,\"#9c179e\"],[0.4444444444444444,\"#bd3786\"],[0.5555555555555556,\"#d8576b\"],[0.6666666666666666,\"#ed7953\"],[0.7777777777777778,\"#fb9f3a\"],[0.8888888888888888,\"#fdca26\"],[1.0,\"#f0f921\"]]}],\"heatmap\":[{\"type\":\"heatmap\",\"colorbar\":{\"outlinewidth\":0,\"ticks\":\"\"},\"colorscale\":[[0.0,\"#0d0887\"],[0.1111111111111111,\"#46039f\"],[0.2222222222222222,\"#7201a8\"],[0.3333333333333333,\"#9c179e\"],[0.4444444444444444,\"#bd3786\"],[0.5555555555555556,\"#d8576b\"],[0.6666666666666666,\"#ed7953\"],[0.7777777777777778,\"#fb9f3a\"],[0.8888888888888888,\"#fdca26\"],[1.0,\"#f0f921\"]]}],\"heatmapgl\":[{\"type\":\"heatmapgl\",\"colorbar\":{\"outlinewidth\":0,\"ticks\":\"\"},\"colorscale\":[[0.0,\"#0d0887\"],[0.1111111111111111,\"#46039f\"],[0.2222222222222222,\"#7201a8\"],[0.3333333333333333,\"#9c179e\"],[0.4444444444444444,\"#bd3786\"],[0.5555555555555556,\"#d8576b\"],[0.6666666666666666,\"#ed7953\"],[0.7777777777777778,\"#fb9f3a\"],[0.8888888888888888,\"#fdca26\"],[1.0,\"#f0f921\"]]}],\"contourcarpet\":[{\"type\":\"contourcarpet\",\"colorbar\":{\"outlinewidth\":0,\"ticks\":\"\"}}],\"contour\":[{\"type\":\"contour\",\"colorbar\":{\"outlinewidth\":0,\"ticks\":\"\"},\"colorscale\":[[0.0,\"#0d0887\"],[0.1111111111111111,\"#46039f\"],[0.2222222222222222,\"#7201a8\"],[0.3333333333333333,\"#9c179e\"],[0.4444444444444444,\"#bd3786\"],[0.5555555555555556,\"#d8576b\"],[0.6666666666666666,\"#ed7953\"],[0.7777777777777778,\"#fb9f3a\"],[0.8888888888888888,\"#fdca26\"],[1.0,\"#f0f921\"]]}],\"surface\":[{\"type\":\"surface\",\"colorbar\":{\"outlinewidth\":0,\"ticks\":\"\"},\"colorscale\":[[0.0,\"#0d0887\"],[0.1111111111111111,\"#46039f\"],[0.2222222222222222,\"#7201a8\"],[0.3333333333333333,\"#9c179e\"],[0.4444444444444444,\"#bd3786\"],[0.5555555555555556,\"#d8576b\"],[0.6666666666666666,\"#ed7953\"],[0.7777777777777778,\"#fb9f3a\"],[0.8888888888888888,\"#fdca26\"],[1.0,\"#f0f921\"]]}],\"mesh3d\":[{\"type\":\"mesh3d\",\"colorbar\":{\"outlinewidth\":0,\"ticks\":\"\"}}],\"scatter\":[{\"fillpattern\":{\"fillmode\":\"overlay\",\"size\":10,\"solidity\":0.2},\"type\":\"scatter\"}],\"parcoords\":[{\"type\":\"parcoords\",\"line\":{\"colorbar\":{\"outlinewidth\":0,\"ticks\":\"\"}}}],\"scatterpolargl\":[{\"type\":\"scatterpolargl\",\"marker\":{\"colorbar\":{\"outlinewidth\":0,\"ticks\":\"\"}}}],\"bar\":[{\"error_x\":{\"color\":\"#2a3f5f\"},\"error_y\":{\"color\":\"#2a3f5f\"},\"marker\":{\"line\":{\"color\":\"#E5ECF6\",\"width\":0.5},\"pattern\":{\"fillmode\":\"overlay\",\"size\":10,\"solidity\":0.2}},\"type\":\"bar\"}],\"scattergeo\":[{\"type\":\"scattergeo\",\"marker\":{\"colorbar\":{\"outlinewidth\":0,\"ticks\":\"\"}}}],\"scatterpolar\":[{\"type\":\"scatterpolar\",\"marker\":{\"colorbar\":{\"outlinewidth\":0,\"ticks\":\"\"}}}],\"histogram\":[{\"marker\":{\"pattern\":{\"fillmode\":\"overlay\",\"size\":10,\"solidity\":0.2}},\"type\":\"histogram\"}],\"scattergl\":[{\"type\":\"scattergl\",\"marker\":{\"colorbar\":{\"outlinewidth\":0,\"ticks\":\"\"}}}],\"scatter3d\":[{\"type\":\"scatter3d\",\"line\":{\"colorbar\":{\"outlinewidth\":0,\"ticks\":\"\"}},\"marker\":{\"colorbar\":{\"outlinewidth\":0,\"ticks\":\"\"}}}],\"scattermapbox\":[{\"type\":\"scattermapbox\",\"marker\":{\"colorbar\":{\"outlinewidth\":0,\"ticks\":\"\"}}}],\"scatterternary\":[{\"type\":\"scatterternary\",\"marker\":{\"colorbar\":{\"outlinewidth\":0,\"ticks\":\"\"}}}],\"scattercarpet\":[{\"type\":\"scattercarpet\",\"marker\":{\"colorbar\":{\"outlinewidth\":0,\"ticks\":\"\"}}}],\"carpet\":[{\"aaxis\":{\"endlinecolor\":\"#2a3f5f\",\"gridcolor\":\"white\",\"linecolor\":\"white\",\"minorgridcolor\":\"white\",\"startlinecolor\":\"#2a3f5f\"},\"baxis\":{\"endlinecolor\":\"#2a3f5f\",\"gridcolor\":\"white\",\"linecolor\":\"white\",\"minorgridcolor\":\"white\",\"startlinecolor\":\"#2a3f5f\"},\"type\":\"carpet\"}],\"table\":[{\"cells\":{\"fill\":{\"color\":\"#EBF0F8\"},\"line\":{\"color\":\"white\"}},\"header\":{\"fill\":{\"color\":\"#C8D4E3\"},\"line\":{\"color\":\"white\"}},\"type\":\"table\"}],\"barpolar\":[{\"marker\":{\"line\":{\"color\":\"#E5ECF6\",\"width\":0.5},\"pattern\":{\"fillmode\":\"overlay\",\"size\":10,\"solidity\":0.2}},\"type\":\"barpolar\"}],\"pie\":[{\"automargin\":true,\"type\":\"pie\"}]},\"layout\":{\"autotypenumbers\":\"strict\",\"colorway\":[\"#636efa\",\"#EF553B\",\"#00cc96\",\"#ab63fa\",\"#FFA15A\",\"#19d3f3\",\"#FF6692\",\"#B6E880\",\"#FF97FF\",\"#FECB52\"],\"font\":{\"color\":\"#2a3f5f\"},\"hovermode\":\"closest\",\"hoverlabel\":{\"align\":\"left\"},\"paper_bgcolor\":\"white\",\"plot_bgcolor\":\"#E5ECF6\",\"polar\":{\"bgcolor\":\"#E5ECF6\",\"angularaxis\":{\"gridcolor\":\"white\",\"linecolor\":\"white\",\"ticks\":\"\"},\"radialaxis\":{\"gridcolor\":\"white\",\"linecolor\":\"white\",\"ticks\":\"\"}},\"ternary\":{\"bgcolor\":\"#E5ECF6\",\"aaxis\":{\"gridcolor\":\"white\",\"linecolor\":\"white\",\"ticks\":\"\"},\"baxis\":{\"gridcolor\":\"white\",\"linecolor\":\"white\",\"ticks\":\"\"},\"caxis\":{\"gridcolor\":\"white\",\"linecolor\":\"white\",\"ticks\":\"\"}},\"coloraxis\":{\"colorbar\":{\"outlinewidth\":0,\"ticks\":\"\"}},\"colorscale\":{\"sequential\":[[0.0,\"#0d0887\"],[0.1111111111111111,\"#46039f\"],[0.2222222222222222,\"#7201a8\"],[0.3333333333333333,\"#9c179e\"],[0.4444444444444444,\"#bd3786\"],[0.5555555555555556,\"#d8576b\"],[0.6666666666666666,\"#ed7953\"],[0.7777777777777778,\"#fb9f3a\"],[0.8888888888888888,\"#fdca26\"],[1.0,\"#f0f921\"]],\"sequentialminus\":[[0.0,\"#0d0887\"],[0.1111111111111111,\"#46039f\"],[0.2222222222222222,\"#7201a8\"],[0.3333333333333333,\"#9c179e\"],[0.4444444444444444,\"#bd3786\"],[0.5555555555555556,\"#d8576b\"],[0.6666666666666666,\"#ed7953\"],[0.7777777777777778,\"#fb9f3a\"],[0.8888888888888888,\"#fdca26\"],[1.0,\"#f0f921\"]],\"diverging\":[[0,\"#8e0152\"],[0.1,\"#c51b7d\"],[0.2,\"#de77ae\"],[0.3,\"#f1b6da\"],[0.4,\"#fde0ef\"],[0.5,\"#f7f7f7\"],[0.6,\"#e6f5d0\"],[0.7,\"#b8e186\"],[0.8,\"#7fbc41\"],[0.9,\"#4d9221\"],[1,\"#276419\"]]},\"xaxis\":{\"gridcolor\":\"white\",\"linecolor\":\"white\",\"ticks\":\"\",\"title\":{\"standoff\":15},\"zerolinecolor\":\"white\",\"automargin\":true,\"zerolinewidth\":2},\"yaxis\":{\"gridcolor\":\"white\",\"linecolor\":\"white\",\"ticks\":\"\",\"title\":{\"standoff\":15},\"zerolinecolor\":\"white\",\"automargin\":true,\"zerolinewidth\":2},\"scene\":{\"xaxis\":{\"backgroundcolor\":\"#E5ECF6\",\"gridcolor\":\"white\",\"linecolor\":\"white\",\"showbackground\":true,\"ticks\":\"\",\"zerolinecolor\":\"white\",\"gridwidth\":2},\"yaxis\":{\"backgroundcolor\":\"#E5ECF6\",\"gridcolor\":\"white\",\"linecolor\":\"white\",\"showbackground\":true,\"ticks\":\"\",\"zerolinecolor\":\"white\",\"gridwidth\":2},\"zaxis\":{\"backgroundcolor\":\"#E5ECF6\",\"gridcolor\":\"white\",\"linecolor\":\"white\",\"showbackground\":true,\"ticks\":\"\",\"zerolinecolor\":\"white\",\"gridwidth\":2}},\"shapedefaults\":{\"line\":{\"color\":\"#2a3f5f\"}},\"annotationdefaults\":{\"arrowcolor\":\"#2a3f5f\",\"arrowhead\":0,\"arrowwidth\":1},\"geo\":{\"bgcolor\":\"white\",\"landcolor\":\"#E5ECF6\",\"subunitcolor\":\"white\",\"showland\":true,\"showlakes\":true,\"lakecolor\":\"white\"},\"title\":{\"x\":0.05},\"mapbox\":{\"style\":\"light\"}}},\"xaxis\":{\"anchor\":\"y\",\"domain\":[0.0,1.0],\"title\":{\"text\":\"Percentage\"}},\"yaxis\":{\"anchor\":\"x\",\"domain\":[0.0,1.0],\"title\":{\"text\":\"Job\"},\"categoryorder\":\"array\",\"categoryarray\":[\"politician\",\"author\",\"opinion journalist\",\"translator\",\"art collector\",\"architectural historian\",\"poet\",\"anthropologist\",\"museum director\",\"architect\",\"teacher\",\"journalist\",\"exhibition curator\",\"art critic\",\"curator\",\"painter\",\"historian\",\"archaeologist\",\"writer\",\"university teacher\"]},\"legend\":{\"title\":{\"text\":\"Job\"},\"tracegroupgap\":0},\"margin\":{\"t\":60},\"barmode\":\"relative\",\"showlegend\":false},                        {\"responsive\": true}                    ).then(function(){\n",
       "                            \n",
       "var gd = document.getElementById('1fc643fb-4f32-4414-9d4e-f082da305338');\n",
       "var x = new MutationObserver(function (mutations, observer) {{\n",
       "        var display = window.getComputedStyle(gd).display;\n",
       "        if (!display || display === 'none') {{\n",
       "            console.log([gd, 'removed!']);\n",
       "            Plotly.purge(gd);\n",
       "            observer.disconnect();\n",
       "        }}\n",
       "}});\n",
       "\n",
       "// Listen for the removal of the full notebook cells\n",
       "var notebookContainer = gd.closest('#notebook-container');\n",
       "if (notebookContainer) {{\n",
       "    x.observe(notebookContainer, {childList: true});\n",
       "}}\n",
       "\n",
       "// Listen for the clearing of the current output cell\n",
       "var outputEl = gd.closest('.output');\n",
       "if (outputEl) {{\n",
       "    x.observe(outputEl, {childList: true});\n",
       "}}\n",
       "\n",
       "                        })                };                });            </script>        </div>"
      ]
     },
     "metadata": {},
     "output_type": "display_data"
    }
   ],
   "source": [
    "fig = px.bar(df, x=\"Percentage\", y=\"Job\", orientation='h', color=\"Job\",)\n",
    "fig.update_layout(showlegend=False)\n",
    "\n",
    "fig.show()\n",
    "\n",
    "fig.write_html(\"./file.html\")"
   ]
  },
  {
   "cell_type": "markdown",
   "id": "95320d2e",
   "metadata": {},
   "source": [
    "## Top jobs for female art historian"
   ]
  },
  {
   "cell_type": "code",
   "execution_count": 3,
   "id": "b526fb25",
   "metadata": {},
   "outputs": [],
   "source": [
    "from SPARQLWrapper import SPARQLWrapper, JSON, GET, POST, CSV\n",
    "import csv \n",
    "import ssl\n",
    "import pandas as pd\n",
    "import pandas_profiling as pp\n",
    "import plotly.express as px\n",
    "\n",
    "\n",
    "\n",
    "ssl._create_default_https_context = ssl._create_unverified_context\n",
    "\n",
    "# get the endpoint API\n",
    "wikidata_endpoint = \"https://query.wikidata.org/bigdata/namespace/wdq/sparql\"\n",
    "\n",
    "# prepare the query\n",
    "female_job_list = \"\"\"\n",
    "\n",
    "SELECT ?jobLabel (COUNT(?human) AS ?tot)\n",
    "\n",
    "WHERE \n",
    "{ \n",
    "  ?human wdt:P21 wd:Q6581072 \n",
    "  ; wdt:P106 wd:Q1792450\n",
    "  ; wdt:P106 ?job\n",
    "  SERVICE wikibase:label { bd:serviceParam wikibase:language \"[AUTO_LANGUAGE],en\". }\n",
    "}\n",
    "GROUP BY ?jobLabel \n",
    "ORDER BY DESC(?tot)\n",
    "LIMIT 21\n",
    "\"\"\"\n",
    "\n",
    "# set the endpoint \n",
    "sparql_wd = SPARQLWrapper(wikidata_endpoint)\n",
    "# set the query\n",
    "sparql_wd.setQuery(female_job_list)\n",
    "# set the returned format\n",
    "sparql_wd.setReturnFormat(JSON)\n",
    "# get the results\n",
    "female_job_list_result = sparql_wd.query().convert()\n",
    "\n"
   ]
  },
  {
   "cell_type": "code",
   "execution_count": 55,
   "id": "02ce6a59",
   "metadata": {},
   "outputs": [
    {
     "data": {
      "text/html": [
       "<div>\n",
       "<style scoped>\n",
       "    .dataframe tbody tr th:only-of-type {\n",
       "        vertical-align: middle;\n",
       "    }\n",
       "\n",
       "    .dataframe tbody tr th {\n",
       "        vertical-align: top;\n",
       "    }\n",
       "\n",
       "    .dataframe thead th {\n",
       "        text-align: right;\n",
       "    }\n",
       "</style>\n",
       "<table border=\"1\" class=\"dataframe\">\n",
       "  <thead>\n",
       "    <tr style=\"text-align: right;\">\n",
       "      <th></th>\n",
       "      <th>Job</th>\n",
       "      <th>Total</th>\n",
       "      <th>Percentage</th>\n",
       "    </tr>\n",
       "  </thead>\n",
       "  <tbody>\n",
       "    <tr>\n",
       "      <th>1</th>\n",
       "      <td>university teacher</td>\n",
       "      <td>487</td>\n",
       "      <td>2.76</td>\n",
       "    </tr>\n",
       "    <tr>\n",
       "      <th>2</th>\n",
       "      <td>historian</td>\n",
       "      <td>418</td>\n",
       "      <td>2.37</td>\n",
       "    </tr>\n",
       "    <tr>\n",
       "      <th>3</th>\n",
       "      <td>exhibition curator</td>\n",
       "      <td>391</td>\n",
       "      <td>2.22</td>\n",
       "    </tr>\n",
       "    <tr>\n",
       "      <th>4</th>\n",
       "      <td>curator</td>\n",
       "      <td>385</td>\n",
       "      <td>2.18</td>\n",
       "    </tr>\n",
       "    <tr>\n",
       "      <th>5</th>\n",
       "      <td>writer</td>\n",
       "      <td>379</td>\n",
       "      <td>2.15</td>\n",
       "    </tr>\n",
       "    <tr>\n",
       "      <th>6</th>\n",
       "      <td>archaeologist</td>\n",
       "      <td>188</td>\n",
       "      <td>1.07</td>\n",
       "    </tr>\n",
       "    <tr>\n",
       "      <th>7</th>\n",
       "      <td>art critic</td>\n",
       "      <td>164</td>\n",
       "      <td>0.93</td>\n",
       "    </tr>\n",
       "    <tr>\n",
       "      <th>8</th>\n",
       "      <td>journalist</td>\n",
       "      <td>139</td>\n",
       "      <td>0.79</td>\n",
       "    </tr>\n",
       "    <tr>\n",
       "      <th>9</th>\n",
       "      <td>author</td>\n",
       "      <td>117</td>\n",
       "      <td>0.66</td>\n",
       "    </tr>\n",
       "    <tr>\n",
       "      <th>10</th>\n",
       "      <td>translator</td>\n",
       "      <td>114</td>\n",
       "      <td>0.65</td>\n",
       "    </tr>\n",
       "    <tr>\n",
       "      <th>11</th>\n",
       "      <td>teacher</td>\n",
       "      <td>112</td>\n",
       "      <td>0.63</td>\n",
       "    </tr>\n",
       "    <tr>\n",
       "      <th>12</th>\n",
       "      <td>opinion journalist</td>\n",
       "      <td>104</td>\n",
       "      <td>0.59</td>\n",
       "    </tr>\n",
       "    <tr>\n",
       "      <th>13</th>\n",
       "      <td>museum director</td>\n",
       "      <td>90</td>\n",
       "      <td>0.51</td>\n",
       "    </tr>\n",
       "    <tr>\n",
       "      <th>14</th>\n",
       "      <td>painter</td>\n",
       "      <td>88</td>\n",
       "      <td>0.50</td>\n",
       "    </tr>\n",
       "    <tr>\n",
       "      <th>15</th>\n",
       "      <td>professor</td>\n",
       "      <td>87</td>\n",
       "      <td>0.49</td>\n",
       "    </tr>\n",
       "    <tr>\n",
       "      <th>16</th>\n",
       "      <td>museologist</td>\n",
       "      <td>76</td>\n",
       "      <td>0.43</td>\n",
       "    </tr>\n",
       "    <tr>\n",
       "      <th>17</th>\n",
       "      <td>librarian</td>\n",
       "      <td>66</td>\n",
       "      <td>0.37</td>\n",
       "    </tr>\n",
       "    <tr>\n",
       "      <th>18</th>\n",
       "      <td>artist</td>\n",
       "      <td>58</td>\n",
       "      <td>0.33</td>\n",
       "    </tr>\n",
       "    <tr>\n",
       "      <th>19</th>\n",
       "      <td>researcher</td>\n",
       "      <td>52</td>\n",
       "      <td>0.29</td>\n",
       "    </tr>\n",
       "    <tr>\n",
       "      <th>20</th>\n",
       "      <td>academic</td>\n",
       "      <td>52</td>\n",
       "      <td>0.29</td>\n",
       "    </tr>\n",
       "  </tbody>\n",
       "</table>\n",
       "</div>"
      ],
      "text/plain": [
       "                   Job  Total  Percentage\n",
       "1   university teacher    487        2.76\n",
       "2            historian    418        2.37\n",
       "3   exhibition curator    391        2.22\n",
       "4              curator    385        2.18\n",
       "5               writer    379        2.15\n",
       "6        archaeologist    188        1.07\n",
       "7           art critic    164        0.93\n",
       "8           journalist    139        0.79\n",
       "9               author    117        0.66\n",
       "10          translator    114        0.65\n",
       "11             teacher    112        0.63\n",
       "12  opinion journalist    104        0.59\n",
       "13     museum director     90        0.51\n",
       "14             painter     88        0.50\n",
       "15           professor     87        0.49\n",
       "16         museologist     76        0.43\n",
       "17           librarian     66        0.37\n",
       "18              artist     58        0.33\n",
       "19          researcher     52        0.29\n",
       "20            academic     52        0.29"
      ]
     },
     "execution_count": 55,
     "metadata": {},
     "output_type": "execute_result"
    }
   ],
   "source": [
    "#create CSV\n",
    "with open('female_jobs.csv', mode='w') as my_file:\n",
    "    my_writer = csv.writer(my_file, delimiter=',', quoting=csv.QUOTE_ALL)\n",
    "    # write the column names\n",
    "    my_writer.writerow(['Job', 'Total'])\n",
    "    for result in female_job_list_result [\"results\"][\"bindings\"]:\n",
    "        my_writer.writerow([result[\"jobLabel\"][\"value\"], result[\"tot\"][\"value\"].strip()])\n",
    "        \n",
    "\n",
    "\n",
    "# parse the csv into a dataframe\n",
    "df = pd.read_csv(\"female_jobs.csv\")\n",
    "\n",
    "# eliminate the 'art historian' row\n",
    "df= df.drop([0])\n",
    "\n",
    "# print the first 10 rows\n",
    "df.head(20)\n",
    "\n",
    "percentage = (df['Total']/Tot_gender)*100\n",
    "\n",
    "    \n",
    "df['Percentage']= percentage\n",
    "\n",
    "df['Percentage']= df['Percentage'].round(decimals = 2)\n",
    "\n",
    "# print the first 10 rows\n",
    "df.head(20)"
   ]
  },
  {
   "cell_type": "markdown",
   "id": "fb282cf3",
   "metadata": {},
   "source": [
    "Visualization "
   ]
  },
  {
   "cell_type": "code",
   "execution_count": 57,
   "id": "39d9ba24",
   "metadata": {},
   "outputs": [
    {
     "data": {
      "application/vnd.plotly.v1+json": {
       "config": {
        "plotlyServerURL": "https://plot.ly"
       },
       "data": [
        {
         "alignmentgroup": "True",
         "hovertemplate": "Job=%{y}<br>Percentage=%{x}<extra></extra>",
         "legendgroup": "university teacher",
         "marker": {
          "color": "#636efa",
          "pattern": {
           "shape": ""
          }
         },
         "name": "university teacher",
         "offsetgroup": "university teacher",
         "orientation": "h",
         "showlegend": true,
         "textposition": "auto",
         "type": "bar",
         "x": [
          2.76
         ],
         "xaxis": "x",
         "y": [
          "university teacher"
         ],
         "yaxis": "y"
        },
        {
         "alignmentgroup": "True",
         "hovertemplate": "Job=%{y}<br>Percentage=%{x}<extra></extra>",
         "legendgroup": "historian",
         "marker": {
          "color": "#EF553B",
          "pattern": {
           "shape": ""
          }
         },
         "name": "historian",
         "offsetgroup": "historian",
         "orientation": "h",
         "showlegend": true,
         "textposition": "auto",
         "type": "bar",
         "x": [
          2.37
         ],
         "xaxis": "x",
         "y": [
          "historian"
         ],
         "yaxis": "y"
        },
        {
         "alignmentgroup": "True",
         "hovertemplate": "Job=%{y}<br>Percentage=%{x}<extra></extra>",
         "legendgroup": "exhibition curator",
         "marker": {
          "color": "#00cc96",
          "pattern": {
           "shape": ""
          }
         },
         "name": "exhibition curator",
         "offsetgroup": "exhibition curator",
         "orientation": "h",
         "showlegend": true,
         "textposition": "auto",
         "type": "bar",
         "x": [
          2.22
         ],
         "xaxis": "x",
         "y": [
          "exhibition curator"
         ],
         "yaxis": "y"
        },
        {
         "alignmentgroup": "True",
         "hovertemplate": "Job=%{y}<br>Percentage=%{x}<extra></extra>",
         "legendgroup": "curator",
         "marker": {
          "color": "#ab63fa",
          "pattern": {
           "shape": ""
          }
         },
         "name": "curator",
         "offsetgroup": "curator",
         "orientation": "h",
         "showlegend": true,
         "textposition": "auto",
         "type": "bar",
         "x": [
          2.18
         ],
         "xaxis": "x",
         "y": [
          "curator"
         ],
         "yaxis": "y"
        },
        {
         "alignmentgroup": "True",
         "hovertemplate": "Job=%{y}<br>Percentage=%{x}<extra></extra>",
         "legendgroup": "writer",
         "marker": {
          "color": "#FFA15A",
          "pattern": {
           "shape": ""
          }
         },
         "name": "writer",
         "offsetgroup": "writer",
         "orientation": "h",
         "showlegend": true,
         "textposition": "auto",
         "type": "bar",
         "x": [
          2.15
         ],
         "xaxis": "x",
         "y": [
          "writer"
         ],
         "yaxis": "y"
        },
        {
         "alignmentgroup": "True",
         "hovertemplate": "Job=%{y}<br>Percentage=%{x}<extra></extra>",
         "legendgroup": "archaeologist",
         "marker": {
          "color": "#19d3f3",
          "pattern": {
           "shape": ""
          }
         },
         "name": "archaeologist",
         "offsetgroup": "archaeologist",
         "orientation": "h",
         "showlegend": true,
         "textposition": "auto",
         "type": "bar",
         "x": [
          1.07
         ],
         "xaxis": "x",
         "y": [
          "archaeologist"
         ],
         "yaxis": "y"
        },
        {
         "alignmentgroup": "True",
         "hovertemplate": "Job=%{y}<br>Percentage=%{x}<extra></extra>",
         "legendgroup": "art critic",
         "marker": {
          "color": "#FF6692",
          "pattern": {
           "shape": ""
          }
         },
         "name": "art critic",
         "offsetgroup": "art critic",
         "orientation": "h",
         "showlegend": true,
         "textposition": "auto",
         "type": "bar",
         "x": [
          0.93
         ],
         "xaxis": "x",
         "y": [
          "art critic"
         ],
         "yaxis": "y"
        },
        {
         "alignmentgroup": "True",
         "hovertemplate": "Job=%{y}<br>Percentage=%{x}<extra></extra>",
         "legendgroup": "journalist",
         "marker": {
          "color": "#B6E880",
          "pattern": {
           "shape": ""
          }
         },
         "name": "journalist",
         "offsetgroup": "journalist",
         "orientation": "h",
         "showlegend": true,
         "textposition": "auto",
         "type": "bar",
         "x": [
          0.79
         ],
         "xaxis": "x",
         "y": [
          "journalist"
         ],
         "yaxis": "y"
        },
        {
         "alignmentgroup": "True",
         "hovertemplate": "Job=%{y}<br>Percentage=%{x}<extra></extra>",
         "legendgroup": "author",
         "marker": {
          "color": "#FF97FF",
          "pattern": {
           "shape": ""
          }
         },
         "name": "author",
         "offsetgroup": "author",
         "orientation": "h",
         "showlegend": true,
         "textposition": "auto",
         "type": "bar",
         "x": [
          0.66
         ],
         "xaxis": "x",
         "y": [
          "author"
         ],
         "yaxis": "y"
        },
        {
         "alignmentgroup": "True",
         "hovertemplate": "Job=%{y}<br>Percentage=%{x}<extra></extra>",
         "legendgroup": "translator",
         "marker": {
          "color": "#FECB52",
          "pattern": {
           "shape": ""
          }
         },
         "name": "translator",
         "offsetgroup": "translator",
         "orientation": "h",
         "showlegend": true,
         "textposition": "auto",
         "type": "bar",
         "x": [
          0.65
         ],
         "xaxis": "x",
         "y": [
          "translator"
         ],
         "yaxis": "y"
        },
        {
         "alignmentgroup": "True",
         "hovertemplate": "Job=%{y}<br>Percentage=%{x}<extra></extra>",
         "legendgroup": "teacher",
         "marker": {
          "color": "#636efa",
          "pattern": {
           "shape": ""
          }
         },
         "name": "teacher",
         "offsetgroup": "teacher",
         "orientation": "h",
         "showlegend": true,
         "textposition": "auto",
         "type": "bar",
         "x": [
          0.63
         ],
         "xaxis": "x",
         "y": [
          "teacher"
         ],
         "yaxis": "y"
        },
        {
         "alignmentgroup": "True",
         "hovertemplate": "Job=%{y}<br>Percentage=%{x}<extra></extra>",
         "legendgroup": "opinion journalist",
         "marker": {
          "color": "#EF553B",
          "pattern": {
           "shape": ""
          }
         },
         "name": "opinion journalist",
         "offsetgroup": "opinion journalist",
         "orientation": "h",
         "showlegend": true,
         "textposition": "auto",
         "type": "bar",
         "x": [
          0.59
         ],
         "xaxis": "x",
         "y": [
          "opinion journalist"
         ],
         "yaxis": "y"
        },
        {
         "alignmentgroup": "True",
         "hovertemplate": "Job=%{y}<br>Percentage=%{x}<extra></extra>",
         "legendgroup": "museum director",
         "marker": {
          "color": "#00cc96",
          "pattern": {
           "shape": ""
          }
         },
         "name": "museum director",
         "offsetgroup": "museum director",
         "orientation": "h",
         "showlegend": true,
         "textposition": "auto",
         "type": "bar",
         "x": [
          0.51
         ],
         "xaxis": "x",
         "y": [
          "museum director"
         ],
         "yaxis": "y"
        },
        {
         "alignmentgroup": "True",
         "hovertemplate": "Job=%{y}<br>Percentage=%{x}<extra></extra>",
         "legendgroup": "painter",
         "marker": {
          "color": "#ab63fa",
          "pattern": {
           "shape": ""
          }
         },
         "name": "painter",
         "offsetgroup": "painter",
         "orientation": "h",
         "showlegend": true,
         "textposition": "auto",
         "type": "bar",
         "x": [
          0.5
         ],
         "xaxis": "x",
         "y": [
          "painter"
         ],
         "yaxis": "y"
        },
        {
         "alignmentgroup": "True",
         "hovertemplate": "Job=%{y}<br>Percentage=%{x}<extra></extra>",
         "legendgroup": "professor",
         "marker": {
          "color": "#FFA15A",
          "pattern": {
           "shape": ""
          }
         },
         "name": "professor",
         "offsetgroup": "professor",
         "orientation": "h",
         "showlegend": true,
         "textposition": "auto",
         "type": "bar",
         "x": [
          0.49
         ],
         "xaxis": "x",
         "y": [
          "professor"
         ],
         "yaxis": "y"
        },
        {
         "alignmentgroup": "True",
         "hovertemplate": "Job=%{y}<br>Percentage=%{x}<extra></extra>",
         "legendgroup": "museologist",
         "marker": {
          "color": "#19d3f3",
          "pattern": {
           "shape": ""
          }
         },
         "name": "museologist",
         "offsetgroup": "museologist",
         "orientation": "h",
         "showlegend": true,
         "textposition": "auto",
         "type": "bar",
         "x": [
          0.43
         ],
         "xaxis": "x",
         "y": [
          "museologist"
         ],
         "yaxis": "y"
        },
        {
         "alignmentgroup": "True",
         "hovertemplate": "Job=%{y}<br>Percentage=%{x}<extra></extra>",
         "legendgroup": "librarian",
         "marker": {
          "color": "#FF6692",
          "pattern": {
           "shape": ""
          }
         },
         "name": "librarian",
         "offsetgroup": "librarian",
         "orientation": "h",
         "showlegend": true,
         "textposition": "auto",
         "type": "bar",
         "x": [
          0.37
         ],
         "xaxis": "x",
         "y": [
          "librarian"
         ],
         "yaxis": "y"
        },
        {
         "alignmentgroup": "True",
         "hovertemplate": "Job=%{y}<br>Percentage=%{x}<extra></extra>",
         "legendgroup": "artist",
         "marker": {
          "color": "#B6E880",
          "pattern": {
           "shape": ""
          }
         },
         "name": "artist",
         "offsetgroup": "artist",
         "orientation": "h",
         "showlegend": true,
         "textposition": "auto",
         "type": "bar",
         "x": [
          0.33
         ],
         "xaxis": "x",
         "y": [
          "artist"
         ],
         "yaxis": "y"
        },
        {
         "alignmentgroup": "True",
         "hovertemplate": "Job=%{y}<br>Percentage=%{x}<extra></extra>",
         "legendgroup": "researcher",
         "marker": {
          "color": "#FF97FF",
          "pattern": {
           "shape": ""
          }
         },
         "name": "researcher",
         "offsetgroup": "researcher",
         "orientation": "h",
         "showlegend": true,
         "textposition": "auto",
         "type": "bar",
         "x": [
          0.29
         ],
         "xaxis": "x",
         "y": [
          "researcher"
         ],
         "yaxis": "y"
        },
        {
         "alignmentgroup": "True",
         "hovertemplate": "Job=%{y}<br>Percentage=%{x}<extra></extra>",
         "legendgroup": "academic",
         "marker": {
          "color": "#FECB52",
          "pattern": {
           "shape": ""
          }
         },
         "name": "academic",
         "offsetgroup": "academic",
         "orientation": "h",
         "showlegend": true,
         "textposition": "auto",
         "type": "bar",
         "x": [
          0.29
         ],
         "xaxis": "x",
         "y": [
          "academic"
         ],
         "yaxis": "y"
        }
       ],
       "layout": {
        "barmode": "relative",
        "legend": {
         "title": {
          "text": "Job"
         },
         "tracegroupgap": 0
        },
        "margin": {
         "t": 60
        },
        "showlegend": false,
        "template": {
         "data": {
          "bar": [
           {
            "error_x": {
             "color": "#2a3f5f"
            },
            "error_y": {
             "color": "#2a3f5f"
            },
            "marker": {
             "line": {
              "color": "#E5ECF6",
              "width": 0.5
             },
             "pattern": {
              "fillmode": "overlay",
              "size": 10,
              "solidity": 0.2
             }
            },
            "type": "bar"
           }
          ],
          "barpolar": [
           {
            "marker": {
             "line": {
              "color": "#E5ECF6",
              "width": 0.5
             },
             "pattern": {
              "fillmode": "overlay",
              "size": 10,
              "solidity": 0.2
             }
            },
            "type": "barpolar"
           }
          ],
          "carpet": [
           {
            "aaxis": {
             "endlinecolor": "#2a3f5f",
             "gridcolor": "white",
             "linecolor": "white",
             "minorgridcolor": "white",
             "startlinecolor": "#2a3f5f"
            },
            "baxis": {
             "endlinecolor": "#2a3f5f",
             "gridcolor": "white",
             "linecolor": "white",
             "minorgridcolor": "white",
             "startlinecolor": "#2a3f5f"
            },
            "type": "carpet"
           }
          ],
          "choropleth": [
           {
            "colorbar": {
             "outlinewidth": 0,
             "ticks": ""
            },
            "type": "choropleth"
           }
          ],
          "contour": [
           {
            "colorbar": {
             "outlinewidth": 0,
             "ticks": ""
            },
            "colorscale": [
             [
              0,
              "#0d0887"
             ],
             [
              0.1111111111111111,
              "#46039f"
             ],
             [
              0.2222222222222222,
              "#7201a8"
             ],
             [
              0.3333333333333333,
              "#9c179e"
             ],
             [
              0.4444444444444444,
              "#bd3786"
             ],
             [
              0.5555555555555556,
              "#d8576b"
             ],
             [
              0.6666666666666666,
              "#ed7953"
             ],
             [
              0.7777777777777778,
              "#fb9f3a"
             ],
             [
              0.8888888888888888,
              "#fdca26"
             ],
             [
              1,
              "#f0f921"
             ]
            ],
            "type": "contour"
           }
          ],
          "contourcarpet": [
           {
            "colorbar": {
             "outlinewidth": 0,
             "ticks": ""
            },
            "type": "contourcarpet"
           }
          ],
          "heatmap": [
           {
            "colorbar": {
             "outlinewidth": 0,
             "ticks": ""
            },
            "colorscale": [
             [
              0,
              "#0d0887"
             ],
             [
              0.1111111111111111,
              "#46039f"
             ],
             [
              0.2222222222222222,
              "#7201a8"
             ],
             [
              0.3333333333333333,
              "#9c179e"
             ],
             [
              0.4444444444444444,
              "#bd3786"
             ],
             [
              0.5555555555555556,
              "#d8576b"
             ],
             [
              0.6666666666666666,
              "#ed7953"
             ],
             [
              0.7777777777777778,
              "#fb9f3a"
             ],
             [
              0.8888888888888888,
              "#fdca26"
             ],
             [
              1,
              "#f0f921"
             ]
            ],
            "type": "heatmap"
           }
          ],
          "heatmapgl": [
           {
            "colorbar": {
             "outlinewidth": 0,
             "ticks": ""
            },
            "colorscale": [
             [
              0,
              "#0d0887"
             ],
             [
              0.1111111111111111,
              "#46039f"
             ],
             [
              0.2222222222222222,
              "#7201a8"
             ],
             [
              0.3333333333333333,
              "#9c179e"
             ],
             [
              0.4444444444444444,
              "#bd3786"
             ],
             [
              0.5555555555555556,
              "#d8576b"
             ],
             [
              0.6666666666666666,
              "#ed7953"
             ],
             [
              0.7777777777777778,
              "#fb9f3a"
             ],
             [
              0.8888888888888888,
              "#fdca26"
             ],
             [
              1,
              "#f0f921"
             ]
            ],
            "type": "heatmapgl"
           }
          ],
          "histogram": [
           {
            "marker": {
             "pattern": {
              "fillmode": "overlay",
              "size": 10,
              "solidity": 0.2
             }
            },
            "type": "histogram"
           }
          ],
          "histogram2d": [
           {
            "colorbar": {
             "outlinewidth": 0,
             "ticks": ""
            },
            "colorscale": [
             [
              0,
              "#0d0887"
             ],
             [
              0.1111111111111111,
              "#46039f"
             ],
             [
              0.2222222222222222,
              "#7201a8"
             ],
             [
              0.3333333333333333,
              "#9c179e"
             ],
             [
              0.4444444444444444,
              "#bd3786"
             ],
             [
              0.5555555555555556,
              "#d8576b"
             ],
             [
              0.6666666666666666,
              "#ed7953"
             ],
             [
              0.7777777777777778,
              "#fb9f3a"
             ],
             [
              0.8888888888888888,
              "#fdca26"
             ],
             [
              1,
              "#f0f921"
             ]
            ],
            "type": "histogram2d"
           }
          ],
          "histogram2dcontour": [
           {
            "colorbar": {
             "outlinewidth": 0,
             "ticks": ""
            },
            "colorscale": [
             [
              0,
              "#0d0887"
             ],
             [
              0.1111111111111111,
              "#46039f"
             ],
             [
              0.2222222222222222,
              "#7201a8"
             ],
             [
              0.3333333333333333,
              "#9c179e"
             ],
             [
              0.4444444444444444,
              "#bd3786"
             ],
             [
              0.5555555555555556,
              "#d8576b"
             ],
             [
              0.6666666666666666,
              "#ed7953"
             ],
             [
              0.7777777777777778,
              "#fb9f3a"
             ],
             [
              0.8888888888888888,
              "#fdca26"
             ],
             [
              1,
              "#f0f921"
             ]
            ],
            "type": "histogram2dcontour"
           }
          ],
          "mesh3d": [
           {
            "colorbar": {
             "outlinewidth": 0,
             "ticks": ""
            },
            "type": "mesh3d"
           }
          ],
          "parcoords": [
           {
            "line": {
             "colorbar": {
              "outlinewidth": 0,
              "ticks": ""
             }
            },
            "type": "parcoords"
           }
          ],
          "pie": [
           {
            "automargin": true,
            "type": "pie"
           }
          ],
          "scatter": [
           {
            "fillpattern": {
             "fillmode": "overlay",
             "size": 10,
             "solidity": 0.2
            },
            "type": "scatter"
           }
          ],
          "scatter3d": [
           {
            "line": {
             "colorbar": {
              "outlinewidth": 0,
              "ticks": ""
             }
            },
            "marker": {
             "colorbar": {
              "outlinewidth": 0,
              "ticks": ""
             }
            },
            "type": "scatter3d"
           }
          ],
          "scattercarpet": [
           {
            "marker": {
             "colorbar": {
              "outlinewidth": 0,
              "ticks": ""
             }
            },
            "type": "scattercarpet"
           }
          ],
          "scattergeo": [
           {
            "marker": {
             "colorbar": {
              "outlinewidth": 0,
              "ticks": ""
             }
            },
            "type": "scattergeo"
           }
          ],
          "scattergl": [
           {
            "marker": {
             "colorbar": {
              "outlinewidth": 0,
              "ticks": ""
             }
            },
            "type": "scattergl"
           }
          ],
          "scattermapbox": [
           {
            "marker": {
             "colorbar": {
              "outlinewidth": 0,
              "ticks": ""
             }
            },
            "type": "scattermapbox"
           }
          ],
          "scatterpolar": [
           {
            "marker": {
             "colorbar": {
              "outlinewidth": 0,
              "ticks": ""
             }
            },
            "type": "scatterpolar"
           }
          ],
          "scatterpolargl": [
           {
            "marker": {
             "colorbar": {
              "outlinewidth": 0,
              "ticks": ""
             }
            },
            "type": "scatterpolargl"
           }
          ],
          "scatterternary": [
           {
            "marker": {
             "colorbar": {
              "outlinewidth": 0,
              "ticks": ""
             }
            },
            "type": "scatterternary"
           }
          ],
          "surface": [
           {
            "colorbar": {
             "outlinewidth": 0,
             "ticks": ""
            },
            "colorscale": [
             [
              0,
              "#0d0887"
             ],
             [
              0.1111111111111111,
              "#46039f"
             ],
             [
              0.2222222222222222,
              "#7201a8"
             ],
             [
              0.3333333333333333,
              "#9c179e"
             ],
             [
              0.4444444444444444,
              "#bd3786"
             ],
             [
              0.5555555555555556,
              "#d8576b"
             ],
             [
              0.6666666666666666,
              "#ed7953"
             ],
             [
              0.7777777777777778,
              "#fb9f3a"
             ],
             [
              0.8888888888888888,
              "#fdca26"
             ],
             [
              1,
              "#f0f921"
             ]
            ],
            "type": "surface"
           }
          ],
          "table": [
           {
            "cells": {
             "fill": {
              "color": "#EBF0F8"
             },
             "line": {
              "color": "white"
             }
            },
            "header": {
             "fill": {
              "color": "#C8D4E3"
             },
             "line": {
              "color": "white"
             }
            },
            "type": "table"
           }
          ]
         },
         "layout": {
          "annotationdefaults": {
           "arrowcolor": "#2a3f5f",
           "arrowhead": 0,
           "arrowwidth": 1
          },
          "autotypenumbers": "strict",
          "coloraxis": {
           "colorbar": {
            "outlinewidth": 0,
            "ticks": ""
           }
          },
          "colorscale": {
           "diverging": [
            [
             0,
             "#8e0152"
            ],
            [
             0.1,
             "#c51b7d"
            ],
            [
             0.2,
             "#de77ae"
            ],
            [
             0.3,
             "#f1b6da"
            ],
            [
             0.4,
             "#fde0ef"
            ],
            [
             0.5,
             "#f7f7f7"
            ],
            [
             0.6,
             "#e6f5d0"
            ],
            [
             0.7,
             "#b8e186"
            ],
            [
             0.8,
             "#7fbc41"
            ],
            [
             0.9,
             "#4d9221"
            ],
            [
             1,
             "#276419"
            ]
           ],
           "sequential": [
            [
             0,
             "#0d0887"
            ],
            [
             0.1111111111111111,
             "#46039f"
            ],
            [
             0.2222222222222222,
             "#7201a8"
            ],
            [
             0.3333333333333333,
             "#9c179e"
            ],
            [
             0.4444444444444444,
             "#bd3786"
            ],
            [
             0.5555555555555556,
             "#d8576b"
            ],
            [
             0.6666666666666666,
             "#ed7953"
            ],
            [
             0.7777777777777778,
             "#fb9f3a"
            ],
            [
             0.8888888888888888,
             "#fdca26"
            ],
            [
             1,
             "#f0f921"
            ]
           ],
           "sequentialminus": [
            [
             0,
             "#0d0887"
            ],
            [
             0.1111111111111111,
             "#46039f"
            ],
            [
             0.2222222222222222,
             "#7201a8"
            ],
            [
             0.3333333333333333,
             "#9c179e"
            ],
            [
             0.4444444444444444,
             "#bd3786"
            ],
            [
             0.5555555555555556,
             "#d8576b"
            ],
            [
             0.6666666666666666,
             "#ed7953"
            ],
            [
             0.7777777777777778,
             "#fb9f3a"
            ],
            [
             0.8888888888888888,
             "#fdca26"
            ],
            [
             1,
             "#f0f921"
            ]
           ]
          },
          "colorway": [
           "#636efa",
           "#EF553B",
           "#00cc96",
           "#ab63fa",
           "#FFA15A",
           "#19d3f3",
           "#FF6692",
           "#B6E880",
           "#FF97FF",
           "#FECB52"
          ],
          "font": {
           "color": "#2a3f5f"
          },
          "geo": {
           "bgcolor": "white",
           "lakecolor": "white",
           "landcolor": "#E5ECF6",
           "showlakes": true,
           "showland": true,
           "subunitcolor": "white"
          },
          "hoverlabel": {
           "align": "left"
          },
          "hovermode": "closest",
          "mapbox": {
           "style": "light"
          },
          "paper_bgcolor": "white",
          "plot_bgcolor": "#E5ECF6",
          "polar": {
           "angularaxis": {
            "gridcolor": "white",
            "linecolor": "white",
            "ticks": ""
           },
           "bgcolor": "#E5ECF6",
           "radialaxis": {
            "gridcolor": "white",
            "linecolor": "white",
            "ticks": ""
           }
          },
          "scene": {
           "xaxis": {
            "backgroundcolor": "#E5ECF6",
            "gridcolor": "white",
            "gridwidth": 2,
            "linecolor": "white",
            "showbackground": true,
            "ticks": "",
            "zerolinecolor": "white"
           },
           "yaxis": {
            "backgroundcolor": "#E5ECF6",
            "gridcolor": "white",
            "gridwidth": 2,
            "linecolor": "white",
            "showbackground": true,
            "ticks": "",
            "zerolinecolor": "white"
           },
           "zaxis": {
            "backgroundcolor": "#E5ECF6",
            "gridcolor": "white",
            "gridwidth": 2,
            "linecolor": "white",
            "showbackground": true,
            "ticks": "",
            "zerolinecolor": "white"
           }
          },
          "shapedefaults": {
           "line": {
            "color": "#2a3f5f"
           }
          },
          "ternary": {
           "aaxis": {
            "gridcolor": "white",
            "linecolor": "white",
            "ticks": ""
           },
           "baxis": {
            "gridcolor": "white",
            "linecolor": "white",
            "ticks": ""
           },
           "bgcolor": "#E5ECF6",
           "caxis": {
            "gridcolor": "white",
            "linecolor": "white",
            "ticks": ""
           }
          },
          "title": {
           "x": 0.05
          },
          "xaxis": {
           "automargin": true,
           "gridcolor": "white",
           "linecolor": "white",
           "ticks": "",
           "title": {
            "standoff": 15
           },
           "zerolinecolor": "white",
           "zerolinewidth": 2
          },
          "yaxis": {
           "automargin": true,
           "gridcolor": "white",
           "linecolor": "white",
           "ticks": "",
           "title": {
            "standoff": 15
           },
           "zerolinecolor": "white",
           "zerolinewidth": 2
          }
         }
        },
        "xaxis": {
         "anchor": "y",
         "domain": [
          0,
          1
         ],
         "title": {
          "text": "Percentage"
         }
        },
        "yaxis": {
         "anchor": "x",
         "categoryarray": [
          "academic",
          "researcher",
          "artist",
          "librarian",
          "museologist",
          "professor",
          "painter",
          "museum director",
          "opinion journalist",
          "teacher",
          "translator",
          "author",
          "journalist",
          "art critic",
          "archaeologist",
          "writer",
          "curator",
          "exhibition curator",
          "historian",
          "university teacher"
         ],
         "categoryorder": "array",
         "domain": [
          0,
          1
         ],
         "title": {
          "text": "Job"
         }
        }
       }
      },
      "text/html": [
       "<div>                            <div id=\"c9edac48-a129-4298-be20-e354a029b113\" class=\"plotly-graph-div\" style=\"height:525px; width:100%;\"></div>            <script type=\"text/javascript\">                require([\"plotly\"], function(Plotly) {                    window.PLOTLYENV=window.PLOTLYENV || {};                                    if (document.getElementById(\"c9edac48-a129-4298-be20-e354a029b113\")) {                    Plotly.newPlot(                        \"c9edac48-a129-4298-be20-e354a029b113\",                        [{\"alignmentgroup\":\"True\",\"hovertemplate\":\"Job=%{y}<br>Percentage=%{x}<extra></extra>\",\"legendgroup\":\"university teacher\",\"marker\":{\"color\":\"#636efa\",\"pattern\":{\"shape\":\"\"}},\"name\":\"university teacher\",\"offsetgroup\":\"university teacher\",\"orientation\":\"h\",\"showlegend\":true,\"textposition\":\"auto\",\"x\":[2.76],\"xaxis\":\"x\",\"y\":[\"university teacher\"],\"yaxis\":\"y\",\"type\":\"bar\"},{\"alignmentgroup\":\"True\",\"hovertemplate\":\"Job=%{y}<br>Percentage=%{x}<extra></extra>\",\"legendgroup\":\"historian\",\"marker\":{\"color\":\"#EF553B\",\"pattern\":{\"shape\":\"\"}},\"name\":\"historian\",\"offsetgroup\":\"historian\",\"orientation\":\"h\",\"showlegend\":true,\"textposition\":\"auto\",\"x\":[2.37],\"xaxis\":\"x\",\"y\":[\"historian\"],\"yaxis\":\"y\",\"type\":\"bar\"},{\"alignmentgroup\":\"True\",\"hovertemplate\":\"Job=%{y}<br>Percentage=%{x}<extra></extra>\",\"legendgroup\":\"exhibition curator\",\"marker\":{\"color\":\"#00cc96\",\"pattern\":{\"shape\":\"\"}},\"name\":\"exhibition curator\",\"offsetgroup\":\"exhibition curator\",\"orientation\":\"h\",\"showlegend\":true,\"textposition\":\"auto\",\"x\":[2.22],\"xaxis\":\"x\",\"y\":[\"exhibition curator\"],\"yaxis\":\"y\",\"type\":\"bar\"},{\"alignmentgroup\":\"True\",\"hovertemplate\":\"Job=%{y}<br>Percentage=%{x}<extra></extra>\",\"legendgroup\":\"curator\",\"marker\":{\"color\":\"#ab63fa\",\"pattern\":{\"shape\":\"\"}},\"name\":\"curator\",\"offsetgroup\":\"curator\",\"orientation\":\"h\",\"showlegend\":true,\"textposition\":\"auto\",\"x\":[2.18],\"xaxis\":\"x\",\"y\":[\"curator\"],\"yaxis\":\"y\",\"type\":\"bar\"},{\"alignmentgroup\":\"True\",\"hovertemplate\":\"Job=%{y}<br>Percentage=%{x}<extra></extra>\",\"legendgroup\":\"writer\",\"marker\":{\"color\":\"#FFA15A\",\"pattern\":{\"shape\":\"\"}},\"name\":\"writer\",\"offsetgroup\":\"writer\",\"orientation\":\"h\",\"showlegend\":true,\"textposition\":\"auto\",\"x\":[2.15],\"xaxis\":\"x\",\"y\":[\"writer\"],\"yaxis\":\"y\",\"type\":\"bar\"},{\"alignmentgroup\":\"True\",\"hovertemplate\":\"Job=%{y}<br>Percentage=%{x}<extra></extra>\",\"legendgroup\":\"archaeologist\",\"marker\":{\"color\":\"#19d3f3\",\"pattern\":{\"shape\":\"\"}},\"name\":\"archaeologist\",\"offsetgroup\":\"archaeologist\",\"orientation\":\"h\",\"showlegend\":true,\"textposition\":\"auto\",\"x\":[1.07],\"xaxis\":\"x\",\"y\":[\"archaeologist\"],\"yaxis\":\"y\",\"type\":\"bar\"},{\"alignmentgroup\":\"True\",\"hovertemplate\":\"Job=%{y}<br>Percentage=%{x}<extra></extra>\",\"legendgroup\":\"art critic\",\"marker\":{\"color\":\"#FF6692\",\"pattern\":{\"shape\":\"\"}},\"name\":\"art critic\",\"offsetgroup\":\"art critic\",\"orientation\":\"h\",\"showlegend\":true,\"textposition\":\"auto\",\"x\":[0.93],\"xaxis\":\"x\",\"y\":[\"art critic\"],\"yaxis\":\"y\",\"type\":\"bar\"},{\"alignmentgroup\":\"True\",\"hovertemplate\":\"Job=%{y}<br>Percentage=%{x}<extra></extra>\",\"legendgroup\":\"journalist\",\"marker\":{\"color\":\"#B6E880\",\"pattern\":{\"shape\":\"\"}},\"name\":\"journalist\",\"offsetgroup\":\"journalist\",\"orientation\":\"h\",\"showlegend\":true,\"textposition\":\"auto\",\"x\":[0.79],\"xaxis\":\"x\",\"y\":[\"journalist\"],\"yaxis\":\"y\",\"type\":\"bar\"},{\"alignmentgroup\":\"True\",\"hovertemplate\":\"Job=%{y}<br>Percentage=%{x}<extra></extra>\",\"legendgroup\":\"author\",\"marker\":{\"color\":\"#FF97FF\",\"pattern\":{\"shape\":\"\"}},\"name\":\"author\",\"offsetgroup\":\"author\",\"orientation\":\"h\",\"showlegend\":true,\"textposition\":\"auto\",\"x\":[0.66],\"xaxis\":\"x\",\"y\":[\"author\"],\"yaxis\":\"y\",\"type\":\"bar\"},{\"alignmentgroup\":\"True\",\"hovertemplate\":\"Job=%{y}<br>Percentage=%{x}<extra></extra>\",\"legendgroup\":\"translator\",\"marker\":{\"color\":\"#FECB52\",\"pattern\":{\"shape\":\"\"}},\"name\":\"translator\",\"offsetgroup\":\"translator\",\"orientation\":\"h\",\"showlegend\":true,\"textposition\":\"auto\",\"x\":[0.65],\"xaxis\":\"x\",\"y\":[\"translator\"],\"yaxis\":\"y\",\"type\":\"bar\"},{\"alignmentgroup\":\"True\",\"hovertemplate\":\"Job=%{y}<br>Percentage=%{x}<extra></extra>\",\"legendgroup\":\"teacher\",\"marker\":{\"color\":\"#636efa\",\"pattern\":{\"shape\":\"\"}},\"name\":\"teacher\",\"offsetgroup\":\"teacher\",\"orientation\":\"h\",\"showlegend\":true,\"textposition\":\"auto\",\"x\":[0.63],\"xaxis\":\"x\",\"y\":[\"teacher\"],\"yaxis\":\"y\",\"type\":\"bar\"},{\"alignmentgroup\":\"True\",\"hovertemplate\":\"Job=%{y}<br>Percentage=%{x}<extra></extra>\",\"legendgroup\":\"opinion journalist\",\"marker\":{\"color\":\"#EF553B\",\"pattern\":{\"shape\":\"\"}},\"name\":\"opinion journalist\",\"offsetgroup\":\"opinion journalist\",\"orientation\":\"h\",\"showlegend\":true,\"textposition\":\"auto\",\"x\":[0.59],\"xaxis\":\"x\",\"y\":[\"opinion journalist\"],\"yaxis\":\"y\",\"type\":\"bar\"},{\"alignmentgroup\":\"True\",\"hovertemplate\":\"Job=%{y}<br>Percentage=%{x}<extra></extra>\",\"legendgroup\":\"museum director\",\"marker\":{\"color\":\"#00cc96\",\"pattern\":{\"shape\":\"\"}},\"name\":\"museum director\",\"offsetgroup\":\"museum director\",\"orientation\":\"h\",\"showlegend\":true,\"textposition\":\"auto\",\"x\":[0.51],\"xaxis\":\"x\",\"y\":[\"museum director\"],\"yaxis\":\"y\",\"type\":\"bar\"},{\"alignmentgroup\":\"True\",\"hovertemplate\":\"Job=%{y}<br>Percentage=%{x}<extra></extra>\",\"legendgroup\":\"painter\",\"marker\":{\"color\":\"#ab63fa\",\"pattern\":{\"shape\":\"\"}},\"name\":\"painter\",\"offsetgroup\":\"painter\",\"orientation\":\"h\",\"showlegend\":true,\"textposition\":\"auto\",\"x\":[0.5],\"xaxis\":\"x\",\"y\":[\"painter\"],\"yaxis\":\"y\",\"type\":\"bar\"},{\"alignmentgroup\":\"True\",\"hovertemplate\":\"Job=%{y}<br>Percentage=%{x}<extra></extra>\",\"legendgroup\":\"professor\",\"marker\":{\"color\":\"#FFA15A\",\"pattern\":{\"shape\":\"\"}},\"name\":\"professor\",\"offsetgroup\":\"professor\",\"orientation\":\"h\",\"showlegend\":true,\"textposition\":\"auto\",\"x\":[0.49],\"xaxis\":\"x\",\"y\":[\"professor\"],\"yaxis\":\"y\",\"type\":\"bar\"},{\"alignmentgroup\":\"True\",\"hovertemplate\":\"Job=%{y}<br>Percentage=%{x}<extra></extra>\",\"legendgroup\":\"museologist\",\"marker\":{\"color\":\"#19d3f3\",\"pattern\":{\"shape\":\"\"}},\"name\":\"museologist\",\"offsetgroup\":\"museologist\",\"orientation\":\"h\",\"showlegend\":true,\"textposition\":\"auto\",\"x\":[0.43],\"xaxis\":\"x\",\"y\":[\"museologist\"],\"yaxis\":\"y\",\"type\":\"bar\"},{\"alignmentgroup\":\"True\",\"hovertemplate\":\"Job=%{y}<br>Percentage=%{x}<extra></extra>\",\"legendgroup\":\"librarian\",\"marker\":{\"color\":\"#FF6692\",\"pattern\":{\"shape\":\"\"}},\"name\":\"librarian\",\"offsetgroup\":\"librarian\",\"orientation\":\"h\",\"showlegend\":true,\"textposition\":\"auto\",\"x\":[0.37],\"xaxis\":\"x\",\"y\":[\"librarian\"],\"yaxis\":\"y\",\"type\":\"bar\"},{\"alignmentgroup\":\"True\",\"hovertemplate\":\"Job=%{y}<br>Percentage=%{x}<extra></extra>\",\"legendgroup\":\"artist\",\"marker\":{\"color\":\"#B6E880\",\"pattern\":{\"shape\":\"\"}},\"name\":\"artist\",\"offsetgroup\":\"artist\",\"orientation\":\"h\",\"showlegend\":true,\"textposition\":\"auto\",\"x\":[0.33],\"xaxis\":\"x\",\"y\":[\"artist\"],\"yaxis\":\"y\",\"type\":\"bar\"},{\"alignmentgroup\":\"True\",\"hovertemplate\":\"Job=%{y}<br>Percentage=%{x}<extra></extra>\",\"legendgroup\":\"researcher\",\"marker\":{\"color\":\"#FF97FF\",\"pattern\":{\"shape\":\"\"}},\"name\":\"researcher\",\"offsetgroup\":\"researcher\",\"orientation\":\"h\",\"showlegend\":true,\"textposition\":\"auto\",\"x\":[0.29],\"xaxis\":\"x\",\"y\":[\"researcher\"],\"yaxis\":\"y\",\"type\":\"bar\"},{\"alignmentgroup\":\"True\",\"hovertemplate\":\"Job=%{y}<br>Percentage=%{x}<extra></extra>\",\"legendgroup\":\"academic\",\"marker\":{\"color\":\"#FECB52\",\"pattern\":{\"shape\":\"\"}},\"name\":\"academic\",\"offsetgroup\":\"academic\",\"orientation\":\"h\",\"showlegend\":true,\"textposition\":\"auto\",\"x\":[0.29],\"xaxis\":\"x\",\"y\":[\"academic\"],\"yaxis\":\"y\",\"type\":\"bar\"}],                        {\"template\":{\"data\":{\"histogram2dcontour\":[{\"type\":\"histogram2dcontour\",\"colorbar\":{\"outlinewidth\":0,\"ticks\":\"\"},\"colorscale\":[[0.0,\"#0d0887\"],[0.1111111111111111,\"#46039f\"],[0.2222222222222222,\"#7201a8\"],[0.3333333333333333,\"#9c179e\"],[0.4444444444444444,\"#bd3786\"],[0.5555555555555556,\"#d8576b\"],[0.6666666666666666,\"#ed7953\"],[0.7777777777777778,\"#fb9f3a\"],[0.8888888888888888,\"#fdca26\"],[1.0,\"#f0f921\"]]}],\"choropleth\":[{\"type\":\"choropleth\",\"colorbar\":{\"outlinewidth\":0,\"ticks\":\"\"}}],\"histogram2d\":[{\"type\":\"histogram2d\",\"colorbar\":{\"outlinewidth\":0,\"ticks\":\"\"},\"colorscale\":[[0.0,\"#0d0887\"],[0.1111111111111111,\"#46039f\"],[0.2222222222222222,\"#7201a8\"],[0.3333333333333333,\"#9c179e\"],[0.4444444444444444,\"#bd3786\"],[0.5555555555555556,\"#d8576b\"],[0.6666666666666666,\"#ed7953\"],[0.7777777777777778,\"#fb9f3a\"],[0.8888888888888888,\"#fdca26\"],[1.0,\"#f0f921\"]]}],\"heatmap\":[{\"type\":\"heatmap\",\"colorbar\":{\"outlinewidth\":0,\"ticks\":\"\"},\"colorscale\":[[0.0,\"#0d0887\"],[0.1111111111111111,\"#46039f\"],[0.2222222222222222,\"#7201a8\"],[0.3333333333333333,\"#9c179e\"],[0.4444444444444444,\"#bd3786\"],[0.5555555555555556,\"#d8576b\"],[0.6666666666666666,\"#ed7953\"],[0.7777777777777778,\"#fb9f3a\"],[0.8888888888888888,\"#fdca26\"],[1.0,\"#f0f921\"]]}],\"heatmapgl\":[{\"type\":\"heatmapgl\",\"colorbar\":{\"outlinewidth\":0,\"ticks\":\"\"},\"colorscale\":[[0.0,\"#0d0887\"],[0.1111111111111111,\"#46039f\"],[0.2222222222222222,\"#7201a8\"],[0.3333333333333333,\"#9c179e\"],[0.4444444444444444,\"#bd3786\"],[0.5555555555555556,\"#d8576b\"],[0.6666666666666666,\"#ed7953\"],[0.7777777777777778,\"#fb9f3a\"],[0.8888888888888888,\"#fdca26\"],[1.0,\"#f0f921\"]]}],\"contourcarpet\":[{\"type\":\"contourcarpet\",\"colorbar\":{\"outlinewidth\":0,\"ticks\":\"\"}}],\"contour\":[{\"type\":\"contour\",\"colorbar\":{\"outlinewidth\":0,\"ticks\":\"\"},\"colorscale\":[[0.0,\"#0d0887\"],[0.1111111111111111,\"#46039f\"],[0.2222222222222222,\"#7201a8\"],[0.3333333333333333,\"#9c179e\"],[0.4444444444444444,\"#bd3786\"],[0.5555555555555556,\"#d8576b\"],[0.6666666666666666,\"#ed7953\"],[0.7777777777777778,\"#fb9f3a\"],[0.8888888888888888,\"#fdca26\"],[1.0,\"#f0f921\"]]}],\"surface\":[{\"type\":\"surface\",\"colorbar\":{\"outlinewidth\":0,\"ticks\":\"\"},\"colorscale\":[[0.0,\"#0d0887\"],[0.1111111111111111,\"#46039f\"],[0.2222222222222222,\"#7201a8\"],[0.3333333333333333,\"#9c179e\"],[0.4444444444444444,\"#bd3786\"],[0.5555555555555556,\"#d8576b\"],[0.6666666666666666,\"#ed7953\"],[0.7777777777777778,\"#fb9f3a\"],[0.8888888888888888,\"#fdca26\"],[1.0,\"#f0f921\"]]}],\"mesh3d\":[{\"type\":\"mesh3d\",\"colorbar\":{\"outlinewidth\":0,\"ticks\":\"\"}}],\"scatter\":[{\"fillpattern\":{\"fillmode\":\"overlay\",\"size\":10,\"solidity\":0.2},\"type\":\"scatter\"}],\"parcoords\":[{\"type\":\"parcoords\",\"line\":{\"colorbar\":{\"outlinewidth\":0,\"ticks\":\"\"}}}],\"scatterpolargl\":[{\"type\":\"scatterpolargl\",\"marker\":{\"colorbar\":{\"outlinewidth\":0,\"ticks\":\"\"}}}],\"bar\":[{\"error_x\":{\"color\":\"#2a3f5f\"},\"error_y\":{\"color\":\"#2a3f5f\"},\"marker\":{\"line\":{\"color\":\"#E5ECF6\",\"width\":0.5},\"pattern\":{\"fillmode\":\"overlay\",\"size\":10,\"solidity\":0.2}},\"type\":\"bar\"}],\"scattergeo\":[{\"type\":\"scattergeo\",\"marker\":{\"colorbar\":{\"outlinewidth\":0,\"ticks\":\"\"}}}],\"scatterpolar\":[{\"type\":\"scatterpolar\",\"marker\":{\"colorbar\":{\"outlinewidth\":0,\"ticks\":\"\"}}}],\"histogram\":[{\"marker\":{\"pattern\":{\"fillmode\":\"overlay\",\"size\":10,\"solidity\":0.2}},\"type\":\"histogram\"}],\"scattergl\":[{\"type\":\"scattergl\",\"marker\":{\"colorbar\":{\"outlinewidth\":0,\"ticks\":\"\"}}}],\"scatter3d\":[{\"type\":\"scatter3d\",\"line\":{\"colorbar\":{\"outlinewidth\":0,\"ticks\":\"\"}},\"marker\":{\"colorbar\":{\"outlinewidth\":0,\"ticks\":\"\"}}}],\"scattermapbox\":[{\"type\":\"scattermapbox\",\"marker\":{\"colorbar\":{\"outlinewidth\":0,\"ticks\":\"\"}}}],\"scatterternary\":[{\"type\":\"scatterternary\",\"marker\":{\"colorbar\":{\"outlinewidth\":0,\"ticks\":\"\"}}}],\"scattercarpet\":[{\"type\":\"scattercarpet\",\"marker\":{\"colorbar\":{\"outlinewidth\":0,\"ticks\":\"\"}}}],\"carpet\":[{\"aaxis\":{\"endlinecolor\":\"#2a3f5f\",\"gridcolor\":\"white\",\"linecolor\":\"white\",\"minorgridcolor\":\"white\",\"startlinecolor\":\"#2a3f5f\"},\"baxis\":{\"endlinecolor\":\"#2a3f5f\",\"gridcolor\":\"white\",\"linecolor\":\"white\",\"minorgridcolor\":\"white\",\"startlinecolor\":\"#2a3f5f\"},\"type\":\"carpet\"}],\"table\":[{\"cells\":{\"fill\":{\"color\":\"#EBF0F8\"},\"line\":{\"color\":\"white\"}},\"header\":{\"fill\":{\"color\":\"#C8D4E3\"},\"line\":{\"color\":\"white\"}},\"type\":\"table\"}],\"barpolar\":[{\"marker\":{\"line\":{\"color\":\"#E5ECF6\",\"width\":0.5},\"pattern\":{\"fillmode\":\"overlay\",\"size\":10,\"solidity\":0.2}},\"type\":\"barpolar\"}],\"pie\":[{\"automargin\":true,\"type\":\"pie\"}]},\"layout\":{\"autotypenumbers\":\"strict\",\"colorway\":[\"#636efa\",\"#EF553B\",\"#00cc96\",\"#ab63fa\",\"#FFA15A\",\"#19d3f3\",\"#FF6692\",\"#B6E880\",\"#FF97FF\",\"#FECB52\"],\"font\":{\"color\":\"#2a3f5f\"},\"hovermode\":\"closest\",\"hoverlabel\":{\"align\":\"left\"},\"paper_bgcolor\":\"white\",\"plot_bgcolor\":\"#E5ECF6\",\"polar\":{\"bgcolor\":\"#E5ECF6\",\"angularaxis\":{\"gridcolor\":\"white\",\"linecolor\":\"white\",\"ticks\":\"\"},\"radialaxis\":{\"gridcolor\":\"white\",\"linecolor\":\"white\",\"ticks\":\"\"}},\"ternary\":{\"bgcolor\":\"#E5ECF6\",\"aaxis\":{\"gridcolor\":\"white\",\"linecolor\":\"white\",\"ticks\":\"\"},\"baxis\":{\"gridcolor\":\"white\",\"linecolor\":\"white\",\"ticks\":\"\"},\"caxis\":{\"gridcolor\":\"white\",\"linecolor\":\"white\",\"ticks\":\"\"}},\"coloraxis\":{\"colorbar\":{\"outlinewidth\":0,\"ticks\":\"\"}},\"colorscale\":{\"sequential\":[[0.0,\"#0d0887\"],[0.1111111111111111,\"#46039f\"],[0.2222222222222222,\"#7201a8\"],[0.3333333333333333,\"#9c179e\"],[0.4444444444444444,\"#bd3786\"],[0.5555555555555556,\"#d8576b\"],[0.6666666666666666,\"#ed7953\"],[0.7777777777777778,\"#fb9f3a\"],[0.8888888888888888,\"#fdca26\"],[1.0,\"#f0f921\"]],\"sequentialminus\":[[0.0,\"#0d0887\"],[0.1111111111111111,\"#46039f\"],[0.2222222222222222,\"#7201a8\"],[0.3333333333333333,\"#9c179e\"],[0.4444444444444444,\"#bd3786\"],[0.5555555555555556,\"#d8576b\"],[0.6666666666666666,\"#ed7953\"],[0.7777777777777778,\"#fb9f3a\"],[0.8888888888888888,\"#fdca26\"],[1.0,\"#f0f921\"]],\"diverging\":[[0,\"#8e0152\"],[0.1,\"#c51b7d\"],[0.2,\"#de77ae\"],[0.3,\"#f1b6da\"],[0.4,\"#fde0ef\"],[0.5,\"#f7f7f7\"],[0.6,\"#e6f5d0\"],[0.7,\"#b8e186\"],[0.8,\"#7fbc41\"],[0.9,\"#4d9221\"],[1,\"#276419\"]]},\"xaxis\":{\"gridcolor\":\"white\",\"linecolor\":\"white\",\"ticks\":\"\",\"title\":{\"standoff\":15},\"zerolinecolor\":\"white\",\"automargin\":true,\"zerolinewidth\":2},\"yaxis\":{\"gridcolor\":\"white\",\"linecolor\":\"white\",\"ticks\":\"\",\"title\":{\"standoff\":15},\"zerolinecolor\":\"white\",\"automargin\":true,\"zerolinewidth\":2},\"scene\":{\"xaxis\":{\"backgroundcolor\":\"#E5ECF6\",\"gridcolor\":\"white\",\"linecolor\":\"white\",\"showbackground\":true,\"ticks\":\"\",\"zerolinecolor\":\"white\",\"gridwidth\":2},\"yaxis\":{\"backgroundcolor\":\"#E5ECF6\",\"gridcolor\":\"white\",\"linecolor\":\"white\",\"showbackground\":true,\"ticks\":\"\",\"zerolinecolor\":\"white\",\"gridwidth\":2},\"zaxis\":{\"backgroundcolor\":\"#E5ECF6\",\"gridcolor\":\"white\",\"linecolor\":\"white\",\"showbackground\":true,\"ticks\":\"\",\"zerolinecolor\":\"white\",\"gridwidth\":2}},\"shapedefaults\":{\"line\":{\"color\":\"#2a3f5f\"}},\"annotationdefaults\":{\"arrowcolor\":\"#2a3f5f\",\"arrowhead\":0,\"arrowwidth\":1},\"geo\":{\"bgcolor\":\"white\",\"landcolor\":\"#E5ECF6\",\"subunitcolor\":\"white\",\"showland\":true,\"showlakes\":true,\"lakecolor\":\"white\"},\"title\":{\"x\":0.05},\"mapbox\":{\"style\":\"light\"}}},\"xaxis\":{\"anchor\":\"y\",\"domain\":[0.0,1.0],\"title\":{\"text\":\"Percentage\"}},\"yaxis\":{\"anchor\":\"x\",\"domain\":[0.0,1.0],\"title\":{\"text\":\"Job\"},\"categoryorder\":\"array\",\"categoryarray\":[\"academic\",\"researcher\",\"artist\",\"librarian\",\"museologist\",\"professor\",\"painter\",\"museum director\",\"opinion journalist\",\"teacher\",\"translator\",\"author\",\"journalist\",\"art critic\",\"archaeologist\",\"writer\",\"curator\",\"exhibition curator\",\"historian\",\"university teacher\"]},\"legend\":{\"title\":{\"text\":\"Job\"},\"tracegroupgap\":0},\"margin\":{\"t\":60},\"barmode\":\"relative\",\"showlegend\":false},                        {\"responsive\": true}                    ).then(function(){\n",
       "                            \n",
       "var gd = document.getElementById('c9edac48-a129-4298-be20-e354a029b113');\n",
       "var x = new MutationObserver(function (mutations, observer) {{\n",
       "        var display = window.getComputedStyle(gd).display;\n",
       "        if (!display || display === 'none') {{\n",
       "            console.log([gd, 'removed!']);\n",
       "            Plotly.purge(gd);\n",
       "            observer.disconnect();\n",
       "        }}\n",
       "}});\n",
       "\n",
       "// Listen for the removal of the full notebook cells\n",
       "var notebookContainer = gd.closest('#notebook-container');\n",
       "if (notebookContainer) {{\n",
       "    x.observe(notebookContainer, {childList: true});\n",
       "}}\n",
       "\n",
       "// Listen for the clearing of the current output cell\n",
       "var outputEl = gd.closest('.output');\n",
       "if (outputEl) {{\n",
       "    x.observe(outputEl, {childList: true});\n",
       "}}\n",
       "\n",
       "                        })                };                });            </script>        </div>"
      ]
     },
     "metadata": {},
     "output_type": "display_data"
    }
   ],
   "source": [
    "fig = px.bar(df, x=\"Percentage\", y=\"Job\", orientation='h', color=\"Job\")\n",
    "\n",
    "fig.update_layout(showlegend=False)\n",
    "\n",
    "fig.show()\n",
    "\n",
    "fig.write_html(\"./file1.html\")"
   ]
  },
  {
   "cell_type": "markdown",
   "id": "5e11e3c1",
   "metadata": {},
   "source": [
    "## Top jobs for non binary art historians\n",
    "\n",
    "I don't think this query is useful. Numerically and Visually speaking this data can be see as outliers. Plus there's not intrest in a graph where the totals are = to 1 and based on only one/two persons."
   ]
  },
  {
   "cell_type": "code",
   "execution_count": 19,
   "id": "46ed789f",
   "metadata": {},
   "outputs": [
    {
     "data": {
      "text/html": [
       "<div>\n",
       "<style scoped>\n",
       "    .dataframe tbody tr th:only-of-type {\n",
       "        vertical-align: middle;\n",
       "    }\n",
       "\n",
       "    .dataframe tbody tr th {\n",
       "        vertical-align: top;\n",
       "    }\n",
       "\n",
       "    .dataframe thead th {\n",
       "        text-align: right;\n",
       "    }\n",
       "</style>\n",
       "<table border=\"1\" class=\"dataframe\">\n",
       "  <thead>\n",
       "    <tr style=\"text-align: right;\">\n",
       "      <th></th>\n",
       "      <th>Job</th>\n",
       "      <th>Total</th>\n",
       "    </tr>\n",
       "  </thead>\n",
       "  <tbody>\n",
       "    <tr>\n",
       "      <th>0</th>\n",
       "      <td>writer</td>\n",
       "      <td>1</td>\n",
       "    </tr>\n",
       "    <tr>\n",
       "      <th>1</th>\n",
       "      <td>professor</td>\n",
       "      <td>1</td>\n",
       "    </tr>\n",
       "    <tr>\n",
       "      <th>2</th>\n",
       "      <td>art historian</td>\n",
       "      <td>1</td>\n",
       "    </tr>\n",
       "    <tr>\n",
       "      <th>3</th>\n",
       "      <td>journalist</td>\n",
       "      <td>1</td>\n",
       "    </tr>\n",
       "    <tr>\n",
       "      <th>4</th>\n",
       "      <td>film critic</td>\n",
       "      <td>1</td>\n",
       "    </tr>\n",
       "    <tr>\n",
       "      <th>5</th>\n",
       "      <td>literary critic</td>\n",
       "      <td>1</td>\n",
       "    </tr>\n",
       "    <tr>\n",
       "      <th>6</th>\n",
       "      <td>essayist</td>\n",
       "      <td>1</td>\n",
       "    </tr>\n",
       "  </tbody>\n",
       "</table>\n",
       "</div>"
      ],
      "text/plain": [
       "               Job  Total\n",
       "0           writer      1\n",
       "1        professor      1\n",
       "2    art historian      1\n",
       "3       journalist      1\n",
       "4      film critic      1\n",
       "5  literary critic      1\n",
       "6         essayist      1"
      ]
     },
     "execution_count": 19,
     "metadata": {},
     "output_type": "execute_result"
    }
   ],
   "source": [
    "#QUERY NON BINARY\n",
    "from SPARQLWrapper import SPARQLWrapper, JSON, GET, POST, CSV\n",
    "import csv \n",
    "import pandas as pd\n",
    "import requests\n",
    "import json\n",
    "import ssl\n",
    "import numpy as np\n",
    "import pandas as pd\n",
    "import string\n",
    "import networkx as nx\n",
    "import matplotlib.pyplot as plt\n",
    "import ssl\n",
    "\n",
    "ssl._create_default_https_context = ssl._create_unverified_context\n",
    "\n",
    "# get the endpoint API\n",
    "wikidata_endpoint = \"https://query.wikidata.org/bigdata/namespace/wdq/sparql\"\n",
    "\n",
    "# prepare the query\n",
    "non_binary_job_list = \"\"\"\n",
    "\n",
    "SELECT ?jobLabel (COUNT(?human) AS ?tot)\n",
    "\n",
    "WHERE \n",
    "{ \n",
    "  ?human wdt:P21 wd:Q48270 \n",
    "  ; wdt:P106 wd:Q1792450\n",
    "  ; wdt:P106 ?job\n",
    "  SERVICE wikibase:label { bd:serviceParam wikibase:language \"[AUTO_LANGUAGE],en\". }\n",
    "}\n",
    "GROUP BY ?jobLabel \n",
    "ORDER BY DESC(?tot)\n",
    "LIMIT 21\n",
    "\"\"\"\n",
    "\n",
    "# set the endpoint \n",
    "sparql_wd = SPARQLWrapper(wikidata_endpoint)\n",
    "# set the query\n",
    "sparql_wd.setQuery(non_binary_job_list)\n",
    "# set the returned format\n",
    "sparql_wd.setReturnFormat(JSON)\n",
    "# get the results\n",
    "non_binary_job_list_result = sparql_wd.query().convert()\n",
    "\n",
    "\n",
    "with open('non_binary_jobs.csv', mode='w') as my_file:\n",
    "    my_writer = csv.writer(my_file, delimiter=',', quoting=csv.QUOTE_ALL)\n",
    "    # write the column names\n",
    "    my_writer.writerow(['Job', 'Total'])\n",
    "    for result in non_binary_job_list_result [\"results\"][\"bindings\"]:\n",
    "        my_writer.writerow([result[\"jobLabel\"][\"value\"], result[\"tot\"][\"value\"].strip()])\n",
    "        \n",
    "\n",
    "\n",
    "# parse the csv into a dataframe\n",
    "df = pd.read_csv(\"non_binary_jobs.csv\")\n",
    "\n",
    "# print the first 10 rows\n",
    "df.head(10)\n",
    "\n",
    "\n",
    "\n"
   ]
  },
  {
   "cell_type": "markdown",
   "id": "72516cc3",
   "metadata": {},
   "source": [
    "### Phase 4: Academic Informations\n",
    "\n",
    "It is clear that both man and women after art historian is university teacher. Additionaly in the female art historian's job list we can see some other taching-related jobs, namely: teacher, professor, academic and researcher. So we wanted to take a look at the property related to education for both genders with a focus on which degree is listed on their wikidata page.\n",
    "\n",
    "First of all we isolate all the total number of education-related jobs with this Teaching_Job query. "
   ]
  },
  {
   "cell_type": "code",
   "execution_count": 69,
   "id": "ce369624",
   "metadata": {},
   "outputs": [
    {
     "data": {
      "text/html": [
       "<div>\n",
       "<style scoped>\n",
       "    .dataframe tbody tr th:only-of-type {\n",
       "        vertical-align: middle;\n",
       "    }\n",
       "\n",
       "    .dataframe tbody tr th {\n",
       "        vertical-align: top;\n",
       "    }\n",
       "\n",
       "    .dataframe thead th {\n",
       "        text-align: right;\n",
       "    }\n",
       "</style>\n",
       "<table border=\"1\" class=\"dataframe\">\n",
       "  <thead>\n",
       "    <tr style=\"text-align: right;\">\n",
       "      <th></th>\n",
       "      <th>Art Historian Gender</th>\n",
       "      <th>Teaching Job Total</th>\n",
       "    </tr>\n",
       "  </thead>\n",
       "  <tbody>\n",
       "    <tr>\n",
       "      <th>0</th>\n",
       "      <td>male</td>\n",
       "      <td>2184</td>\n",
       "    </tr>\n",
       "    <tr>\n",
       "      <th>1</th>\n",
       "      <td>female</td>\n",
       "      <td>606</td>\n",
       "    </tr>\n",
       "  </tbody>\n",
       "</table>\n",
       "</div>"
      ],
      "text/plain": [
       "  Art Historian Gender  Teaching Job Total\n",
       "0                 male                2184\n",
       "1               female                 606"
      ]
     },
     "execution_count": 69,
     "metadata": {},
     "output_type": "execute_result"
    }
   ],
   "source": [
    "ssl._create_default_https_context = ssl._create_unverified_context\n",
    "\n",
    "# get the endpoint API\n",
    "wikidata_endpoint = \"https://query.wikidata.org/bigdata/namespace/wdq/sparql\"\n",
    "\n",
    "# prepare the query\n",
    "Teaching_Job = \"\"\"SELECT ?genderLabel (COUNT(?job) AS ?tot)\n",
    "\n",
    "WHERE \n",
    "{ \n",
    "  ?human wdt:P21 ?gender \n",
    "  ; wdt:P106 wd:Q1792450\n",
    "  ; wdt:P106 ?job.  \n",
    "  ?job wdt:P425 wd:Q352842 \n",
    "  SERVICE wikibase:label { bd:serviceParam wikibase:language \"[AUTO_LANGUAGE],en\". }\n",
    "}\n",
    "GROUP BY ?genderLabel\n",
    "\"\"\"\n",
    "\n",
    "# set the endpoint \n",
    "sparql_wd = SPARQLWrapper(wikidata_endpoint)\n",
    "# set the query\n",
    "sparql_wd.setQuery(Teaching_Job)\n",
    "# set the returned format\n",
    "sparql_wd.setReturnFormat(JSON)\n",
    "# get the results\n",
    "Teaching_Job = sparql_wd.query().convert()\n",
    "\n",
    "#Create csv file\n",
    "with open('teaching_job.csv', mode='w') as my_file:\n",
    "    my_writer = csv.writer(my_file, delimiter=',', quoting=csv.QUOTE_ALL)\n",
    "    # write the column names\n",
    "    my_writer.writerow(['Art Historian Gender', 'Teaching Job Total'])\n",
    "    for result in Teaching_Job[\"results\"][\"bindings\"]:\n",
    "        my_writer.writerow([result[\"genderLabel\"][\"value\"],result[\"tot\"][\"value\"].strip()])\n",
    "\n",
    "# parse the csv into a dataframe\n",
    "teaching = pd.read_csv(\"teaching_job.csv\")\n",
    "\n",
    "\n",
    "# print \n",
    "teaching.head()\n"
   ]
  },
  {
   "cell_type": "markdown",
   "id": "71ec9119",
   "metadata": {},
   "source": [
    "Then we perfom the Academic_Degree query to get the total number of art historians that have a degree listed on their Wikidata page. "
   ]
  },
  {
   "cell_type": "code",
   "execution_count": 70,
   "id": "4a703a7e",
   "metadata": {},
   "outputs": [
    {
     "data": {
      "text/html": [
       "<div>\n",
       "<style scoped>\n",
       "    .dataframe tbody tr th:only-of-type {\n",
       "        vertical-align: middle;\n",
       "    }\n",
       "\n",
       "    .dataframe tbody tr th {\n",
       "        vertical-align: top;\n",
       "    }\n",
       "\n",
       "    .dataframe thead th {\n",
       "        text-align: right;\n",
       "    }\n",
       "</style>\n",
       "<table border=\"1\" class=\"dataframe\">\n",
       "  <thead>\n",
       "    <tr style=\"text-align: right;\">\n",
       "      <th></th>\n",
       "      <th>Art Historian Gender</th>\n",
       "      <th>Degree Total</th>\n",
       "    </tr>\n",
       "  </thead>\n",
       "  <tbody>\n",
       "    <tr>\n",
       "      <th>0</th>\n",
       "      <td>female</td>\n",
       "      <td>463</td>\n",
       "    </tr>\n",
       "    <tr>\n",
       "      <th>1</th>\n",
       "      <td>male</td>\n",
       "      <td>908</td>\n",
       "    </tr>\n",
       "    <tr>\n",
       "      <th>2</th>\n",
       "      <td>non-binary</td>\n",
       "      <td>3</td>\n",
       "    </tr>\n",
       "  </tbody>\n",
       "</table>\n",
       "</div>"
      ],
      "text/plain": [
       "  Art Historian Gender  Degree Total\n",
       "0               female           463\n",
       "1                 male           908\n",
       "2           non-binary             3"
      ]
     },
     "execution_count": 70,
     "metadata": {},
     "output_type": "execute_result"
    }
   ],
   "source": [
    "ssl._create_default_https_context = ssl._create_unverified_context\n",
    "\n",
    "# get the endpoint API\n",
    "wikidata_endpoint = \"https://query.wikidata.org/bigdata/namespace/wdq/sparql\"\n",
    "\n",
    "# prepare the query\n",
    "Academic_Degree = \"\"\"\n",
    "SELECT ?genderLabel (COUNT(?human) as ?degreecount)\n",
    "WHERE\n",
    "{ \n",
    "  ?human wdt:P31 wd:Q5\n",
    "  ; wdt:P21 ?gender\n",
    "  ; wdt:P106/wdt:P279* wd:Q1792450 \n",
    "  ; wdt:P512 ?degree.\n",
    "  SERVICE wikibase:label { bd:serviceParam wikibase:language \"[AUTO_LANGUAGE],en\". }\n",
    "}\n",
    "\n",
    "GROUP BY (?genderLabel)\n",
    "ORDER BY ?genderLabel\n",
    "\"\"\"\n",
    "\n",
    "# set the endpoint \n",
    "sparql_wd = SPARQLWrapper(wikidata_endpoint)\n",
    "# set the query\n",
    "sparql_wd.setQuery(Academic_Degree)\n",
    "# set the returned format\n",
    "sparql_wd.setReturnFormat(JSON)\n",
    "# get the results\n",
    "Academic_Degree_result = sparql_wd.query().convert()\n",
    "\n",
    "#Create csv file\n",
    "with open('degree.csv', mode='w') as my_file:\n",
    "    my_writer = csv.writer(my_file, delimiter=',', quoting=csv.QUOTE_ALL)\n",
    "    # write the column names\n",
    "    my_writer.writerow(['Art Historian Gender', 'Degree Total'])\n",
    "    for result in Academic_Degree_result[\"results\"][\"bindings\"]:\n",
    "        my_writer.writerow([result[\"genderLabel\"][\"value\"],result[\"degreecount\"][\"value\"].strip()])\n",
    "\n",
    "# parse the csv into a dataframe\n",
    "dfd = pd.read_csv(\"degree.csv\")\n",
    "\n",
    "\n",
    "# print \n",
    "dfd.head()\n"
   ]
  },
  {
   "cell_type": "markdown",
   "id": "04c8cd1e",
   "metadata": {},
   "source": [
    "We proceed with the Doctorate query to see how many art historian are doctorates. "
   ]
  },
  {
   "cell_type": "code",
   "execution_count": 71,
   "id": "5a0dde84",
   "metadata": {},
   "outputs": [
    {
     "data": {
      "text/html": [
       "<div>\n",
       "<style scoped>\n",
       "    .dataframe tbody tr th:only-of-type {\n",
       "        vertical-align: middle;\n",
       "    }\n",
       "\n",
       "    .dataframe tbody tr th {\n",
       "        vertical-align: top;\n",
       "    }\n",
       "\n",
       "    .dataframe thead th {\n",
       "        text-align: right;\n",
       "    }\n",
       "</style>\n",
       "<table border=\"1\" class=\"dataframe\">\n",
       "  <thead>\n",
       "    <tr style=\"text-align: right;\">\n",
       "      <th></th>\n",
       "      <th>Art Historian Gender</th>\n",
       "      <th>Doctorate Total</th>\n",
       "    </tr>\n",
       "  </thead>\n",
       "  <tbody>\n",
       "    <tr>\n",
       "      <th>0</th>\n",
       "      <td>female</td>\n",
       "      <td>125</td>\n",
       "    </tr>\n",
       "    <tr>\n",
       "      <th>1</th>\n",
       "      <td>male</td>\n",
       "      <td>371</td>\n",
       "    </tr>\n",
       "  </tbody>\n",
       "</table>\n",
       "</div>"
      ],
      "text/plain": [
       "  Art Historian Gender  Doctorate Total\n",
       "0               female              125\n",
       "1                 male              371"
      ]
     },
     "execution_count": 71,
     "metadata": {},
     "output_type": "execute_result"
    }
   ],
   "source": [
    "ssl._create_default_https_context = ssl._create_unverified_context\n",
    "\n",
    "# get the endpoint API\n",
    "wikidata_endpoint = \"https://query.wikidata.org/bigdata/namespace/wdq/sparql\"\n",
    "\n",
    "# prepare the query\n",
    "Doctorate = \"\"\"SELECT ?genderLabel (COUNT(?human) as ?doctoratecount)\n",
    "WHERE\n",
    "{ \n",
    "  ?human wdt:P31 wd:Q5\n",
    "  ; wdt:P21 ?gender\n",
    "  ; wdt:P106/wdt:P279* wd:Q1792450 \n",
    "  ; wdt:P512 ?degree.\n",
    "  ?degree wdt:P279 wd:Q3529618\n",
    "  SERVICE wikibase:label { bd:serviceParam wikibase:language \"[AUTO_LANGUAGE],en\". }\n",
    "}\n",
    "\n",
    "GROUP BY (?genderLabel)\n",
    "ORDER BY ?genderLabel\n",
    "\"\"\"\n",
    "\n",
    "# set the endpoint \n",
    "sparql_wd = SPARQLWrapper(wikidata_endpoint)\n",
    "# set the query\n",
    "sparql_wd.setQuery(Doctorate)\n",
    "# set the returned format\n",
    "sparql_wd.setReturnFormat(JSON)\n",
    "# get the results\n",
    "Doctorate_result = sparql_wd.query().convert()\n",
    "\n",
    "#Create csv file\n",
    "with open('doctorate.csv', mode='w') as my_file:\n",
    "    my_writer = csv.writer(my_file, delimiter=',', quoting=csv.QUOTE_ALL)\n",
    "    # write the column names\n",
    "    my_writer.writerow(['Art Historian Gender', 'Doctorate Total'])\n",
    "    for result in Doctorate_result[\"results\"][\"bindings\"]:\n",
    "        my_writer.writerow([result[\"genderLabel\"][\"value\"],result[\"doctoratecount\"][\"value\"].strip()])\n",
    "\n",
    "# parse the csv into a dataframe\n",
    "dfdd = pd.read_csv(\"doctorate.csv\")\n",
    "\n",
    "# print \n",
    "dfdd.head()"
   ]
  },
  {
   "cell_type": "markdown",
   "id": "64e11731",
   "metadata": {},
   "source": [
    "Finally we computed the Professor query to obtain the total number of art historian that are officialy liked to an univerity page as professors. "
   ]
  },
  {
   "cell_type": "code",
   "execution_count": 72,
   "id": "0e4fe221",
   "metadata": {},
   "outputs": [
    {
     "data": {
      "text/html": [
       "<div>\n",
       "<style scoped>\n",
       "    .dataframe tbody tr th:only-of-type {\n",
       "        vertical-align: middle;\n",
       "    }\n",
       "\n",
       "    .dataframe tbody tr th {\n",
       "        vertical-align: top;\n",
       "    }\n",
       "\n",
       "    .dataframe thead th {\n",
       "        text-align: right;\n",
       "    }\n",
       "</style>\n",
       "<table border=\"1\" class=\"dataframe\">\n",
       "  <thead>\n",
       "    <tr style=\"text-align: right;\">\n",
       "      <th></th>\n",
       "      <th>Art Historian Gender</th>\n",
       "      <th>Professor Total</th>\n",
       "    </tr>\n",
       "  </thead>\n",
       "  <tbody>\n",
       "    <tr>\n",
       "      <th>0</th>\n",
       "      <td>female</td>\n",
       "      <td>25</td>\n",
       "    </tr>\n",
       "    <tr>\n",
       "      <th>1</th>\n",
       "      <td>male</td>\n",
       "      <td>200</td>\n",
       "    </tr>\n",
       "  </tbody>\n",
       "</table>\n",
       "</div>"
      ],
      "text/plain": [
       "  Art Historian Gender  Professor Total\n",
       "0               female               25\n",
       "1                 male              200"
      ]
     },
     "execution_count": 72,
     "metadata": {},
     "output_type": "execute_result"
    }
   ],
   "source": [
    "ssl._create_default_https_context = ssl._create_unverified_context\n",
    "\n",
    "# get the endpoint API\n",
    "wikidata_endpoint = \"https://query.wikidata.org/bigdata/namespace/wdq/sparql\"\n",
    "\n",
    "# prepare the query\n",
    "Professor = \"\"\"SELECT ?genderLabel (COUNT(?property) AS ?count) \n",
    "WHERE\n",
    "{\n",
    "      ?item wdt:P106/wdt:P279* wd:Q1792450  .\n",
    "      ?item wdt:P31 wd:Q5 .\n",
    "      ?item wdt:P21 ?gender .\n",
    "      ?item ?propertyclaim [] .\n",
    "      ?property wdt:P31 wd:Q107211056.\n",
    "    ?property wikibase:claim ?propertyclaim .\n",
    "  \n",
    "      SERVICE wikibase:label {            # ... include the labels\n",
    "    bd:serviceParam wikibase:language \"en\" .\n",
    "  }\n",
    " }\n",
    "\n",
    "GROUP BY ?genderLabel\n",
    "ORDER BY ?genderLabel\n",
    "\"\"\"\n",
    "\n",
    "# set the endpoint \n",
    "sparql_wd = SPARQLWrapper(wikidata_endpoint)\n",
    "# set the query\n",
    "sparql_wd.setQuery(Professor)\n",
    "# set the returned format\n",
    "sparql_wd.setReturnFormat(JSON)\n",
    "# get the results\n",
    "Professor_result = sparql_wd.query().convert()\n",
    "\n",
    "#Create csv file\n",
    "with open('professor.csv', mode='w') as my_file:\n",
    "    my_writer = csv.writer(my_file, delimiter=',', quoting=csv.QUOTE_ALL)\n",
    "    # write the column names\n",
    "    my_writer.writerow(['Art Historian Gender', 'Professor Total'])\n",
    "    for result in Professor_result[\"results\"][\"bindings\"]:\n",
    "        my_writer.writerow([result[\"genderLabel\"][\"value\"],result[\"count\"][\"value\"].strip()])\n",
    "\n",
    "# parse the csv into a dataframe\n",
    "dfp = pd.read_csv(\"professor.csv\")\n",
    "\n",
    "# print \n",
    "dfp.head()"
   ]
  },
  {
   "cell_type": "markdown",
   "id": "dbb3a200",
   "metadata": {},
   "source": [
    "Manipulate Data\n",
    "\n",
    "It's now time to merge all the previous csv result files into an only dataframe to work on the visualization. "
   ]
  },
  {
   "cell_type": "code",
   "execution_count": 73,
   "id": "46695b31",
   "metadata": {},
   "outputs": [
    {
     "name": "stdout",
     "output_type": "stream",
     "text": [
      "  Art Historian Gender  Degree Total  Doctorate Total  Professor Total  \\\n",
      "0               female           463            125.0             25.0   \n",
      "1                 male           908            371.0            200.0   \n",
      "\n",
      "   Teaching Jobs Total  \n",
      "0               2184.0  \n",
      "1                606.0  \n"
     ]
    }
   ],
   "source": [
    "doctorate=dfdd['Doctorate Total']\n",
    "professor=dfp['Professor Total']\n",
    "teachingj=teaching['Teaching Job Total']\n",
    "dfd['Doctorate Total']= doctorate\n",
    "dfd['Professor Total']= professor\n",
    "dfd['Teaching Jobs Total']= teachingj\n",
    "\n",
    "#delete non-binary\n",
    "dfd=dfd.drop(2)\n",
    "\n",
    "print(dfd)"
   ]
  },
  {
   "cell_type": "markdown",
   "id": "60f39702",
   "metadata": {},
   "source": [
    "Visualization (still browsing)"
   ]
  },
  {
   "cell_type": "code",
   "execution_count": null,
   "id": "b95a7d3d",
   "metadata": {},
   "outputs": [],
   "source": []
  },
  {
   "cell_type": "markdown",
   "id": "7afbad20",
   "metadata": {},
   "source": [
    "\n",
    "### Phase 4: Personal Relationships\n",
    "Are men or women more likely to have personal relationships listed? What kinds of relationships appear?\n",
    "\n",
    "Below query shows all personal relationship properties and how often they're used. I think it's super weird that \"relative\" is used exclusively in women's profiles."
   ]
  },
  {
   "cell_type": "code",
   "execution_count": 20,
   "id": "80868830",
   "metadata": {
    "scrolled": true
   },
   "outputs": [
    {
     "name": "stdout",
     "output_type": "stream",
     "text": [
      "child male 798\n",
      "father male 736\n",
      "sibling male 624\n",
      "spouse male 591\n",
      "spouse female 378\n",
      "father female 241\n",
      "mother male 213\n",
      "child female 161\n",
      "relative male 156\n",
      "sibling female 132\n",
      "mother female 102\n",
      "relative female 40\n",
      "number of children male 30\n",
      "unmarried partner male 23\n",
      "number of children female 16\n",
      "unmarried partner female 4\n",
      "stepparent male 2\n",
      "godparent male 1\n",
      "godparent female 1\n",
      "number of children non-binary 1\n",
      "👶\n"
     ]
    }
   ],
   "source": [
    "from SPARQLWrapper import SPARQLWrapper, JSON\n",
    "import ssl\n",
    "\n",
    "ssl._create_default_https_context = ssl._create_unverified_context\n",
    "\n",
    "# get the endpoint API\n",
    "wikidata_endpoint = \"https://query.wikidata.org/bigdata/namespace/wdq/sparql\"\n",
    "\n",
    "# prepare the query\n",
    "my_SPARQL_query = \"\"\"\n",
    "# Make a list of the most used authority control properties for people for art historians by gender\n",
    "SELECT ?propertyLabel ?genderLabel ?count WHERE {\n",
    "  {\n",
    "    select distinct?gender ?propertyclaim (COUNT(*) AS ?count) where {\n",
    "      ?item wdt:P106/wdt:P279* wd:Q1792450  .\n",
    "      ?item wdt:P31 wd:Q5 .\n",
    "      ?item wdt:P21 ?gender .\n",
    "      ?item ?propertyclaim [] .\n",
    "    } group by ?propertyclaim ?gender\n",
    "  }\n",
    "  #?property wikibase:propertyType wikibase:ExternalId .\n",
    "  ?property wdt:P31 wd:Q22964231 .\n",
    "  ?property wikibase:claim ?propertyclaim .\n",
    "  SERVICE wikibase:label {            # ... include the labels\n",
    "    bd:serviceParam wikibase:language \"en\" .\n",
    "  }\n",
    "} ORDER BY DESC (?count)\n",
    "#LIMIT 100\n",
    "\"\"\"\n",
    "# set the endpoint \n",
    "sparql_wd = SPARQLWrapper(wikidata_endpoint)\n",
    "# set the query\n",
    "sparql_wd.setQuery(my_SPARQL_query)\n",
    "# set the returned format\n",
    "sparql_wd.setReturnFormat(JSON)\n",
    "# get the results\n",
    "results = sparql_wd.query().convert()\n",
    "\n",
    "# manipulate the result\n",
    "for result in results[\"results\"][\"bindings\"]:\n",
    "    print(result[\"propertyLabel\"][\"value\"], result[\"genderLabel\"][\"value\"], result[\"count\"][\"value\"])\n",
    "print(\"👶\")"
   ]
  },
  {
   "cell_type": "code",
   "execution_count": 14,
   "id": "6e142c38",
   "metadata": {},
   "outputs": [
    {
     "name": "stdout",
     "output_type": "stream",
     "text": [
      "male 3177\n",
      "female 1080\n",
      "non-binary 1\n",
      "🍕\n",
      "{'head': {'vars': ['keyLabel', 'count']}, 'results': {'bindings': [{'keyLabel': {'xml:lang': 'en', 'type': 'literal', 'value': 'male'}, 'count': {'datatype': 'http://www.w3.org/2001/XMLSchema#integer', 'type': 'literal', 'value': '3177'}}, {'keyLabel': {'xml:lang': 'en', 'type': 'literal', 'value': 'female'}, 'count': {'datatype': 'http://www.w3.org/2001/XMLSchema#integer', 'type': 'literal', 'value': '1080'}}, {'keyLabel': {'xml:lang': 'en', 'type': 'literal', 'value': 'non-binary'}, 'count': {'datatype': 'http://www.w3.org/2001/XMLSchema#integer', 'type': 'literal', 'value': '1'}}]}}\n"
     ]
    }
   ],
   "source": [
    "from SPARQLWrapper import SPARQLWrapper, JSON\n",
    "import ssl\n",
    "\n",
    "ssl._create_default_https_context = ssl._create_unverified_context\n",
    "\n",
    "# get the endpoint API\n",
    "wikidata_endpoint = \"https://query.wikidata.org/bigdata/namespace/wdq/sparql\"\n",
    "\n",
    "# prepare the query\n",
    "my_SPARQL_query = \"\"\"\n",
    "select ?keyLabel  (count(*) as ?count) where { \n",
    "    ?item wdt:P106/wdt:P279* wd:Q1792450  .\n",
    "      ?item wdt:P31 wd:Q5 .\n",
    "      ?item wdt:P21 ?gender .\n",
    "      ?item ?propertyclaim [] .\n",
    "      ?property wikibase:claim ?propertyclaim .\n",
    "      ?property wdt:P31 wd:Q22964231 .\n",
    "  SERVICE wikibase:label {            # ... include the labels\n",
    "    bd:serviceParam wikibase:language \"en\" .\n",
    "  }\n",
    "\n",
    "    bind (coalesce(?totals, ?gender) as ?key)\n",
    "} group by ?keyLabel\n",
    "\"\"\"\n",
    "# set the endpoint \n",
    "sparql_wd = SPARQLWrapper(wikidata_endpoint)\n",
    "# set the query\n",
    "sparql_wd.setQuery(my_SPARQL_query)\n",
    "# set the returned format\n",
    "sparql_wd.setReturnFormat(JSON)\n",
    "# get the results\n",
    "results = sparql_wd.query().convert()\n",
    "\n",
    "# manipulate the result\n",
    "for result in results[\"results\"][\"bindings\"]:\n",
    "    print(result[\"keyLabel\"][\"value\"], result[\"count\"][\"value\"])\n",
    "print(\"🍕\")\n",
    "\n",
    "print(results)\n",
    "\n",
    "prm = int(results[\"results\"][\"bindings\"][0]['count']['value'])\n",
    "prf = int(results[\"results\"][\"bindings\"][1]['count']['value'])\n",
    "prnb = int(results[\"results\"][\"bindings\"][2]['count']['value'])"
   ]
  },
  {
   "cell_type": "code",
   "execution_count": 22,
   "id": "cd79748b",
   "metadata": {},
   "outputs": [
    {
     "name": "stdout",
     "output_type": "stream",
     "text": [
      "average number of personal relationships declared by gender\n",
      "male 0.27019901343765945\n",
      "female 0.1836422377146744\n",
      "nonbinary 0.5\n"
     ]
    }
   ],
   "source": [
    "#visualization\n",
    "#basic math to get average number of declared personal relationships per art historian of each gender\n",
    "prmf = prm/men\n",
    "prff = prf/women\n",
    "prfnb = prnb/nb\n",
    "\n",
    "print(\"average number of personal relationships declared by gender\")\n",
    "print(\"male\", prmf)\n",
    "print(\"female\", prff)\n",
    "print(\"nonbinary\", prfnb)"
   ]
  },
  {
   "cell_type": "markdown",
   "id": "38d32051",
   "metadata": {},
   "source": [
    "## visualization of the personal relationships\n",
    "idea: network visualization: pixelated magritte and then some sort of humanoid shape coming off of them Even better would be something that can show the different types of relationships (emojis?)"
   ]
  },
  {
   "cell_type": "markdown",
   "id": "63c35607",
   "metadata": {},
   "source": [
    "# Phase 4.1: Academic Relationships: \n",
    "\n",
    "Query to see if there is any significant difference in the academic interaction between art historians depending on gender. "
   ]
  },
  {
   "cell_type": "code",
   "execution_count": 44,
   "id": "aae62bb4",
   "metadata": {},
   "outputs": [
    {
     "data": {
      "text/html": [
       "<div>\n",
       "<style scoped>\n",
       "    .dataframe tbody tr th:only-of-type {\n",
       "        vertical-align: middle;\n",
       "    }\n",
       "\n",
       "    .dataframe tbody tr th {\n",
       "        vertical-align: top;\n",
       "    }\n",
       "\n",
       "    .dataframe thead th {\n",
       "        text-align: right;\n",
       "    }\n",
       "</style>\n",
       "<table border=\"1\" class=\"dataframe\">\n",
       "  <thead>\n",
       "    <tr style=\"text-align: right;\">\n",
       "      <th></th>\n",
       "      <th>Student Gendes</th>\n",
       "      <th>Art Historian Gender</th>\n",
       "      <th>Total</th>\n",
       "    </tr>\n",
       "  </thead>\n",
       "  <tbody>\n",
       "    <tr>\n",
       "      <th>0</th>\n",
       "      <td>female</td>\n",
       "      <td>male</td>\n",
       "      <td>88</td>\n",
       "    </tr>\n",
       "    <tr>\n",
       "      <th>1</th>\n",
       "      <td>male</td>\n",
       "      <td>male</td>\n",
       "      <td>161</td>\n",
       "    </tr>\n",
       "    <tr>\n",
       "      <th>2</th>\n",
       "      <td>female</td>\n",
       "      <td>female</td>\n",
       "      <td>16</td>\n",
       "    </tr>\n",
       "    <tr>\n",
       "      <th>3</th>\n",
       "      <td>male</td>\n",
       "      <td>female</td>\n",
       "      <td>21</td>\n",
       "    </tr>\n",
       "    <tr>\n",
       "      <th>4</th>\n",
       "      <td>female</td>\n",
       "      <td>non-binary</td>\n",
       "      <td>4</td>\n",
       "    </tr>\n",
       "  </tbody>\n",
       "</table>\n",
       "</div>"
      ],
      "text/plain": [
       "  Student Gendes Art Historian Gender  Total\n",
       "0         female                 male     88\n",
       "1           male                 male    161\n",
       "2         female               female     16\n",
       "3           male               female     21\n",
       "4         female           non-binary      4"
      ]
     },
     "execution_count": 44,
     "metadata": {},
     "output_type": "execute_result"
    }
   ],
   "source": [
    "ssl._create_default_https_context = ssl._create_unverified_context\n",
    "\n",
    "# get the endpoint API\n",
    "wikidata_endpoint = \"https://query.wikidata.org/bigdata/namespace/wdq/sparql\"\n",
    "\n",
    "# prepare the query\n",
    "Academic_Relationship = \"\"\"\n",
    "\n",
    "SELECT ?historiangenderLabel ?studentgenderLabel (count(?student) as ?numberstudent)\n",
    "WHERE\n",
    "{\n",
    "?historian wdt:P31 wd:Q5\n",
    "; wdt:P21 ?historiangender\n",
    "; wdt:P106/wdt:P279* wd:Q1792450\n",
    "; wdt:P185 ?student.\n",
    "?student wdt:P21 ?studentgender\n",
    " SERVICE wikibase:label {            # ... include the labels\n",
    "    bd:serviceParam wikibase:language \"en\" .\n",
    "  }\n",
    "}\n",
    "\n",
    "\n",
    "\n",
    "GROUP BY ?studentgenderLabel ?historiangenderLabel\n",
    "\"\"\"\n",
    "# set the endpoint \n",
    "sparql_wd = SPARQLWrapper(wikidata_endpoint)\n",
    "# set the query\n",
    "sparql_wd.setQuery(Academic_Relationship)\n",
    "# set the returned format\n",
    "sparql_wd.setReturnFormat(JSON)\n",
    "# get the results\n",
    "Academic_Relationship_results = sparql_wd.query().convert()\n",
    "\n",
    "#Create csv file\n",
    "with open('academic_relationship.csv', mode='w') as my_file:\n",
    "    my_writer = csv.writer(my_file, delimiter=',', quoting=csv.QUOTE_ALL)\n",
    "    # write the column names\n",
    "    my_writer.writerow(['Student Gendes','Art Historian Gender', 'Total'])\n",
    "    for result in Academic_Relationship_results [\"results\"][\"bindings\"]:\n",
    "        my_writer.writerow([result[\"studentgenderLabel\"][\"value\"], result[\"historiangenderLabel\"][\"value\"], result[\"numberstudent\"][\"value\"].strip()])\n",
    "\n",
    "# parse the csv into a dataframe\n",
    "df = pd.read_csv(\"academic_relationship.csv\")\n",
    "\n",
    "# print \n",
    "df.head()\n"
   ]
  },
  {
   "cell_type": "code",
   "execution_count": null,
   "id": "f2433ff6",
   "metadata": {},
   "outputs": [],
   "source": [
    "#querey for list of all academic properties with counts and gender\n",
    "SELECT ?propertyLabel ?genderLabel ?count WHERE {\n",
    "  {\n",
    "    select distinct?gender ?propertyclaim (COUNT(*) AS ?count) where {\n",
    "      ?item wdt:P106/wdt:P279* wd:Q1792450  .\n",
    "      ?item wdt:P31 wd:Q5 .\n",
    "      ?item wdt:P21 ?gender .\n",
    "      ?item ?propertyclaim [] .\n",
    "    } group by ?propertyclaim ?gender\n",
    "  }\n",
    "  #?property wikibase:propertyType wikibase:ExternalId .\n",
    "  ?property wdt:P31 wd:Q22984450.\n",
    "  ?property wikibase:claim ?propertyclaim .\n",
    "  SERVICE wikibase:label {            # ... include the labels\n",
    "    bd:serviceParam wikibase:language \"en\" .\n",
    "  }\n",
    "} ORDER BY DESC (?count)"
   ]
  },
  {
   "cell_type": "code",
   "execution_count": null,
   "id": "f6dc0e58",
   "metadata": {},
   "outputs": [],
   "source": [
    "# Make a list of the most used educational + personal properties for art historians by gender\n",
    "#problem with this query is I'm not exactly sure what it's counting: is it #OF DECLARATIONS?? [I THINK SO???] #of people with that property?\n",
    "SELECT ?property ?propertyLabel ?genderLabel ?count WHERE {\n",
    "  {\n",
    "    select distinct?gender ?propertyclaim (COUNT(*) AS ?count) where {\n",
    "      ?item wdt:P106/wdt:P279* wd:Q1792450  .\n",
    "      ?item wdt:P31 wd:Q5 .\n",
    "      ?item wdt:P21 ?gender .\n",
    "      ?item ?propertyclaim [] .\n",
    "    } group by ?propertyclaim ?gender\n",
    "  }\n",
    "  #?property wikibase:propertyType wikibase:ExternalId .\n",
    "  ?property wdt:P31 wd:Q22984450.\n",
    "  ?property wdt:P31 wd:Q18608871.\n",
    "  ?property wikibase:claim ?propertyclaim .\n",
    "  SERVICE wikibase:label {            # ... include the labels\n",
    "    bd:serviceParam wikibase:language \"en\" .\n",
    "  }\n",
    "} ORDER BY DESC (?count)"
   ]
  },
  {
   "cell_type": "code",
   "execution_count": null,
   "id": "d2e91d8a",
   "metadata": {},
   "outputs": [],
   "source": [
    "#query for totaling the above query by gender\n",
    "select ?keyLabel  (count(*) as ?count) where { \n",
    "    ?item wdt:P106/wdt:P279* wd:Q1792450  .\n",
    "      ?item wdt:P31 wd:Q5 .\n",
    "      ?item wdt:P21 ?gender .\n",
    "      ?item ?propertyclaim [] .\n",
    "      ?property wdt:P31 wd:Q22984450.\n",
    "  ?property wdt:P31 wd:Q18608871.\n",
    "      ?property wikibase:claim ?propertyclaim .\n",
    "      \n",
    "  SERVICE wikibase:label {            # ... include the labels\n",
    "    bd:serviceParam wikibase:language \"en\" .\n",
    "  }\n",
    "    bind (coalesce(?totals, ?gender) as ?key)\n",
    "} group by ?keyLabel"
   ]
  },
  {
   "cell_type": "markdown",
   "id": "090f4993",
   "metadata": {},
   "source": [
    "## Visualization for this one\n",
    "I think a good visualization for this would be a comparison with the personal relationships rather than this one solo.\n",
    "A network image of the average female art historian and the average male art historian surrounded by their personal and professional relationships would be a good concluding image I think."
   ]
  }
 ],
 "metadata": {
  "kernelspec": {
   "display_name": "Python 3 (ipykernel)",
   "language": "python",
   "name": "python3"
  },
  "language_info": {
   "codemirror_mode": {
    "name": "ipython",
    "version": 3
   },
   "file_extension": ".py",
   "mimetype": "text/x-python",
   "name": "python",
   "nbconvert_exporter": "python",
   "pygments_lexer": "ipython3",
   "version": "3.9.0"
  }
 },
 "nbformat": 4,
 "nbformat_minor": 5
}
