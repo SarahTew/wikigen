{
 "cells": [
  {
   "cell_type": "markdown",
   "id": "dfda3b27",
   "metadata": {},
   "source": [
    "# Abstract\n",
    "\n",
    "Final project for Electronic Publishing and Digital Storytelling in fullfillment of an LM in Digital Humanities and Digital Knowledge from the University of Bologna.\n",
    "\n",
    "## Project Aims\n",
    "Wikidata is one of the largest free and open knowledge databases in the world. \n",
    "Launched in 2012, it now contains over 97 million items, over six million of them people.\n",
    "\n",
    "This project investigates how Wikidata describes art historians and how those descriptions differ across gender.\n",
    "This project serves as a case study in how our descriptions of history create history."
   ]
  },
  {
   "cell_type": "markdown",
   "id": "078162a2",
   "metadata": {},
   "source": [
    "### Phase 1: Overview\n",
    "We first wanted to get an wide view of Wikidata's data on art historians.\n",
    "To do this we first queried art historians grouped by gender."
   ]
  },
  {
   "cell_type": "code",
   "execution_count": 3,
   "id": "c7b9444a",
   "metadata": {},
   "outputs": [
    {
     "name": "stdout",
     "output_type": "stream",
     "text": [
      "💩\n"
     ]
    }
   ],
   "source": [
    "#insert Denise's initial query that breaks down those with art historian/sub groups into genders\n",
    "print(\"💩\")"
   ]
  },
  {
   "cell_type": "markdown",
   "id": "19370aba",
   "metadata": {},
   "source": [
    "Then we wanted to look at the properties used to describe art historians across genders. So we ran a query to count the number of properties used for each"
   ]
  },
  {
   "cell_type": "code",
   "execution_count": 4,
   "id": "1be7edc1",
   "metadata": {},
   "outputs": [
    {
     "name": "stdout",
     "output_type": "stream",
     "text": [
      "🦐\n"
     ]
    }
   ],
   "source": [
    "#insert Sarah's query getting property counts\n",
    "print(\"🦐\")\n"
   ]
  },
  {
   "cell_type": "markdown",
   "id": "3b529454",
   "metadata": {},
   "source": [
    "We also wanted to look at basic trends over time."
   ]
  },
  {
   "cell_type": "code",
   "execution_count": null,
   "id": "9fdcce95",
   "metadata": {},
   "outputs": [],
   "source": [
    "#queries for seeing if more art historians/women art historians from later periods are better or worse represented"
   ]
  },
  {
   "cell_type": "markdown",
   "id": "1934a58e",
   "metadata": {},
   "source": [
    "Optional: trends over geographic space?"
   ]
  },
  {
   "cell_type": "markdown",
   "id": "40a1a867",
   "metadata": {},
   "source": [
    "### Phase 2: Types of Properties\n",
    "Then we wanted to break down those properties into types to see if certain properties/types of properties appear more often for some genders over others."
   ]
  },
  {
   "cell_type": "code",
   "execution_count": null,
   "id": "95406bf2",
   "metadata": {},
   "outputs": [],
   "source": [
    "#query for types of properties. eg. external authority linking, personal relationships, professional relationships, geographic, publications, etc."
   ]
  },
  {
   "cell_type": "markdown",
   "id": "83218da5",
   "metadata": {},
   "source": [
    "### Phase 2a: Professions and Occupations"
   ]
  },
  {
   "cell_type": "code",
   "execution_count": null,
   "id": "46db5b2f",
   "metadata": {},
   "outputs": [],
   "source": [
    "#various queries about these; how many other jobs do people have, what area are the in, what are the most popular other jobs for each gender?"
   ]
  },
  {
   "cell_type": "markdown",
   "id": "ee691f12",
   "metadata": {},
   "source": [
    "Then we analyzed each of these areas more deeply.\n",
    "### Phase 2b: Personal Relationships\n",
    "Are men or women more likely to have personal relationships listed? What kinds of relationships appear?"
   ]
  },
  {
   "cell_type": "code",
   "execution_count": null,
   "id": "5ddf6fda",
   "metadata": {},
   "outputs": [],
   "source": [
    "#various queries for these; eg. spouses/partners, children, parents"
   ]
  },
  {
   "cell_type": "markdown",
   "id": "a9d487d2",
   "metadata": {},
   "source": [
    "### Phase 2c: professional relationships queries: \n",
    "are women more likely to engaged professionally with other women? men? students? what about institutional relationships? awards?"
   ]
  }
 ],
 "metadata": {
  "kernelspec": {
   "display_name": "Python 3 (ipykernel)",
   "language": "python",
   "name": "python3"
  },
  "language_info": {
   "codemirror_mode": {
    "name": "ipython",
    "version": 3
   },
   "file_extension": ".py",
   "mimetype": "text/x-python",
   "name": "python",
   "nbconvert_exporter": "python",
   "pygments_lexer": "ipython3",
   "version": "3.9.0"
  }
 },
 "nbformat": 4,
 "nbformat_minor": 5
}
