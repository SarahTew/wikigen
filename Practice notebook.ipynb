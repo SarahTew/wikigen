{
 "cells": [
  {
   "cell_type": "markdown",
   "id": "dfda3b27",
   "metadata": {},
   "source": [
    "# Abstract\n",
    "\n",
    "Final project for Electronic Publishing and Digital Storytelling in fullfillment of an LM in Digital Humanities and Digital Knowledge from the University of Bologna.\n",
    "\n",
    "## Project Aims\n",
    "Wikidata is one of the largest free and open knowledge databases in the world. \n",
    "Launched in 2012, it now contains over 97 million items, over six million of them people.\n",
    "\n",
    "This project investigates how Wikidata describes art historians and how those descriptions differ across gender.\n",
    "This project serves as a case study in how our descriptions of history create history."
   ]
  },
  {
   "cell_type": "markdown",
   "id": "39a0b3f0",
   "metadata": {},
   "source": [
    "### Phase 1: Overview\n",
    "We first wanted to get an wide view of Wikidata's data on art historians.\n",
    "To do this we first queried art historians grouped by gender."
   ]
  },
  {
   "cell_type": "code",
   "execution_count": 30,
   "id": "c7b9444a",
   "metadata": {},
   "outputs": [
    {
     "name": "stdout",
     "output_type": "stream",
     "text": [
      "http://www.wikidata.org/entity/Q6581097 11707\n",
      "http://www.wikidata.org/entity/Q6581072 5828\n",
      "http://www.wikidata.org/entity/Q48270 2\n",
      "💩\n"
     ]
    }
   ],
   "source": [
    "#insert Denise's initial query that breaks down those with art historian/sub groups into genders\n",
    "from SPARQLWrapper import SPARQLWrapper, JSON\n",
    "import ssl\n",
    "\n",
    "ssl._create_default_https_context = ssl._create_unverified_context\n",
    "\n",
    "# get the endpoint API\n",
    "wikidata_endpoint = \"https://query.wikidata.org/bigdata/namespace/wdq/sparql\"\n",
    "\n",
    "# prepare the query : 10 random triples\n",
    "my_SPARQL_query = \"\"\"\n",
    "SELECT ?gender (count(distinct ?human) as ?number)\n",
    "WHERE\n",
    "{\n",
    "  ?human wdt:P31 wd:Q5\n",
    "  ; wdt:P21 ?gender\n",
    "  ; wdt:P106/wdt:P279* wd:Q1792450 .\n",
    "}\n",
    "GROUP BY ?gender\n",
    "LIMIT 10\n",
    "\n",
    "\"\"\"\n",
    "\n",
    "# set the endpoint \n",
    "sparql_wd = SPARQLWrapper(wikidata_endpoint)\n",
    "# set the query\n",
    "sparql_wd.setQuery(my_SPARQL_query)\n",
    "# set the returned format\n",
    "sparql_wd.setReturnFormat(JSON)\n",
    "# get the results\n",
    "results = sparql_wd.query().convert()\n",
    "\n",
    "# manipulate the result\n",
    "for result in results[\"results\"][\"bindings\"]:\n",
    "    print(result[\"gender\"][\"value\"], result[\"number\"][\"value\"])\n",
    "print(\"💩\")"
   ]
  },
  {
   "cell_type": "markdown",
   "id": "19370aba",
   "metadata": {},
   "source": [
    "Then we wanted to look at the properties used to describe art historians across genders. So we ran a query to count the number of properties used for each"
   ]
  },
  {
   "cell_type": "code",
   "execution_count": 34,
   "id": "1be7edc1",
   "metadata": {},
   "outputs": [
    {
     "name": "stdout",
     "output_type": "stream",
     "text": [
      "http://www.wikidata.org/entity/Q6581097 2656\n",
      "http://www.wikidata.org/entity/Q6581072 1797\n",
      "http://www.wikidata.org/entity/Q48270 233\n",
      "🦐\n"
     ]
    }
   ],
   "source": [
    "#insert Sarah's query getting property counts\n",
    "from SPARQLWrapper import SPARQLWrapper, JSON\n",
    "import ssl\n",
    "\n",
    "ssl._create_default_https_context = ssl._create_unverified_context\n",
    "\n",
    "# get the endpoint API\n",
    "wikidata_endpoint = \"https://query.wikidata.org/bigdata/namespace/wdq/sparql\"\n",
    "\n",
    "# prepare the query\n",
    "my_SPARQL_query = \"\"\"\n",
    "SELECT ?gender (count(distinct ?property) as ?number)\n",
    "WHERE\n",
    "{SERVICE wikibase:label {\n",
    "     bd:serviceParam wikibase:language \"en\" .\n",
    "   }\n",
    "\n",
    "  ?human wdt:P31 wd:Q5\n",
    "  ; wdt:P21 ?gender\n",
    "  ; ?property ?object\n",
    "  ; wdt:P106/wdt:P279* wd:Q1792450 .\n",
    "\n",
    "}\n",
    "\n",
    "GROUP BY ?gender\n",
    "\"\"\"\n",
    "# set the endpoint \n",
    "sparql_wd = SPARQLWrapper(wikidata_endpoint)\n",
    "# set the query\n",
    "sparql_wd.setQuery(my_SPARQL_query)\n",
    "# set the returned format\n",
    "sparql_wd.setReturnFormat(JSON)\n",
    "# get the results\n",
    "results = sparql_wd.query().convert()\n",
    "\n",
    "# manipulate the result\n",
    "for result in results[\"results\"][\"bindings\"]:\n",
    "    print(result[\"gender\"][\"value\"], result[\"number\"][\"value\"])\n",
    "print(\"🦐\")\n"
   ]
  },
  {
   "cell_type": "markdown",
   "id": "74a7e5f9",
   "metadata": {},
   "source": [
    "__NOTE!!!! This code copies everything from the first one and just changes the query. Is there a more efficient way to do this? It seems good to have it all bc you could run whichever query you want whenever you want but if we know she's going to run all the preceeding code before, maybe there's a way to make it more efficient (eg. only import once, reuse variables, etc.?)__"
   ]
  },
  {
   "cell_type": "markdown",
   "id": "5db53cf8",
   "metadata": {},
   "source": [
    "We also wanted to look at basic trends over time."
   ]
  },
  {
   "cell_type": "code",
   "execution_count": null,
   "id": "85d93f49",
   "metadata": {},
   "outputs": [],
   "source": [
    "#queries for seeing if more art historians/women art historians from later periods are better or worse represented"
   ]
  },
  {
   "cell_type": "markdown",
   "id": "7d77b172",
   "metadata": {},
   "source": [
    "Optional: trends over geographic space?"
   ]
  },
  {
   "cell_type": "markdown",
   "id": "f2b4044d",
   "metadata": {},
   "source": [
    "### Phase 2: Types of Properties\n",
    "Then we wanted to break down those properties into types to see if certain properties/types of properties appear more often for some genders over others."
   ]
  },
  {
   "cell_type": "code",
   "execution_count": null,
   "id": "79fc49d1",
   "metadata": {},
   "outputs": [],
   "source": [
    "#query for types of properties. eg. external authority linking, personal relationships, professional relationships, geographic, publications, etc."
   ]
  },
  {
   "cell_type": "markdown",
   "id": "2aca7f5e",
   "metadata": {},
   "source": [
    "### Phase 2a: Professions and Occupations"
   ]
  },
  {
   "cell_type": "code",
   "execution_count": null,
   "id": "f74e079f",
   "metadata": {},
   "outputs": [],
   "source": [
    "#various queries about these; how many other jobs do people have, what area are the in, what are the most popular other jobs for each gender?"
   ]
  },
  {
   "cell_type": "markdown",
   "id": "7afbad20",
   "metadata": {},
   "source": [
    "Then we analyzed each of these areas more deeply.\n",
    "### Phase 2b: Personal Relationships\n",
    "Are men or women more likely to have personal relationships listed? What kinds of relationships appear?"
   ]
  },
  {
   "cell_type": "code",
   "execution_count": null,
   "id": "80868830",
   "metadata": {},
   "outputs": [],
   "source": [
    "#various queries for these; eg. spouses/partners, children, parents"
   ]
  },
  {
   "cell_type": "markdown",
   "id": "63c35607",
   "metadata": {},
   "source": [
    "### Phase 2c: professional relationships queries: \n",
    "are women more likely to engaged professionally with other women? men? students? what about institutional relationships? awards?"
   ]
  }
 ],
 "metadata": {
  "kernelspec": {
   "display_name": "Python 3 (ipykernel)",
   "language": "python",
   "name": "python3"
  },
  "language_info": {
   "codemirror_mode": {
    "name": "ipython",
    "version": 3
   },
   "file_extension": ".py",
   "mimetype": "text/x-python",
   "name": "python",
   "nbconvert_exporter": "python",
   "pygments_lexer": "ipython3",
   "version": "3.9.0"
  }
 },
 "nbformat": 4,
 "nbformat_minor": 5
}
