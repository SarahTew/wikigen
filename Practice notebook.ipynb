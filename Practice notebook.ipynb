{
 "cells": [
  {
   "cell_type": "markdown",
   "id": "dfda3b27",
   "metadata": {},
   "source": [
    "This is a practice notebook for EPDS"
   ]
  },
  {
   "cell_type": "code",
   "execution_count": 1,
   "id": "c7b9444a",
   "metadata": {},
   "outputs": [
    {
     "name": "stdout",
     "output_type": "stream",
     "text": [
      "Hello World!\n"
     ]
    }
   ],
   "source": [
    "print(\"Hello World!\")"
   ]
  },
  {
   "cell_type": "markdown",
   "id": "19370aba",
   "metadata": {},
   "source": [
    "This should go back to being normal and not code"
   ]
  },
  {
   "cell_type": "code",
   "execution_count": 2,
   "id": "1be7edc1",
   "metadata": {},
   "outputs": [
    {
     "name": "stdout",
     "output_type": "stream",
     "text": [
      "We are amazing :)\n"
     ]
    }
   ],
   "source": [
    "#more code!!!\n",
    "print(\"We are amazing :)\")\n"
   ]
  },
  {
   "cell_type": "code",
   "execution_count": null,
   "id": "b8918868",
   "metadata": {},
   "outputs": [],
   "source": []
  }
 ],
 "metadata": {
  "kernelspec": {
   "display_name": "Python 3 (ipykernel)",
   "language": "python",
   "name": "python3"
  },
  "language_info": {
   "codemirror_mode": {
    "name": "ipython",
    "version": 3
   },
   "file_extension": ".py",
   "mimetype": "text/x-python",
   "name": "python",
   "nbconvert_exporter": "python",
   "pygments_lexer": "ipython3",
   "version": "3.9.0"
  }
 },
 "nbformat": 4,
 "nbformat_minor": 5
}
